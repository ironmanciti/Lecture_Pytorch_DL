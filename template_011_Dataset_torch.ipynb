{
 "cells": [
  {
   "cell_type": "markdown",
   "metadata": {
    "id": "oUA64IUYOhHl"
   },
   "source": [
    "# 011. PyTorch Dataset\n",
    "\n",
    "### Dataset 클래스\n",
    "\n",
    " - PyTorch는 두 개의 데이터 관련 클라스를 제공하여 pre-loaded datasets 및 custom dataset 을 사용할 수 있도록 한다.\n",
    " \n",
    "     - torch.utils.data.Dataset - 샘플 및 해당 레이블을 제공\n",
    "     - torch.utils.data.DataLoader - 샘플에 쉽게 액세스 할 수 있도록 Dataset의 iterable 을 wrapping\n",
    "     \n",
    "\n",
    "- PyTorch domain library (Image, Text, Audio dataset) 들은 torch.utils.data.Dataset 을 상속 받은 pre-loaded dataset (ex. FashionMNIST)과 관련 함수 제공\n",
    " \n",
    "\n",
    "- torch.utils.data.Dataset 은 데이터셋을 나타내는 추상클래스이다.\n",
    "\n",
    "\n",
    "- custom 데이터셋은 Dataset 을 상속하고 아래와 같이 Dataset method 를 오버라이드 하여 작성\n",
    "\n",
    "\n",
    "    - 생성자 __init__ 은 dataset 의 전처리를 해주는 부분\n",
    "    - len(dataset) 에서 호출되는 __len__ 은 데이터셋의 크기를 리턴\n",
    "    - dataset[i] 에서 호출되는 __getitem__ 은 𝑖 번째 샘플을 찾는데 사용"
   ]
  },
  {
   "cell_type": "code",
   "execution_count": 1,
   "metadata": {},
   "outputs": [],
   "source": [
    "import numpy as np\n",
    "import torch\n",
    "from torch.utils.data import Dataset\n",
    "from torchvision import transforms"
   ]
  },
  {
   "cell_type": "markdown",
   "metadata": {
    "id": "ImddWZXJOhHw"
   },
   "source": [
    "## 사용자 정의 Dataset 작성\n",
    "\n",
    "- 특정 길이의 data를 생성하는 사용자 정의 Dataset class  \n",
    "- transform object를 전달 받으면 data 변환을 하여 반환  \n",
    "- iterable형태로 사용"
   ]
  },
  {
   "cell_type": "code",
   "execution_count": 13,
   "metadata": {},
   "outputs": [],
   "source": [
    "class toy_set(Dataset):\n",
    "    def __init__(self, length=10, transform=None):\n",
    "        torch.manual_seed(101)\n",
    "        self.x = 10 * torch.ones(length, 2)\n",
    "        self.y = torch.ones(length, 1)\n",
    "        self.len = length\n",
    "        self.transform = transform\n",
    "    def __getitem__(self, idx):\n",
    "        sample = self.x[idx], self.y[idx]\n",
    "        if self.transform:\n",
    "            sample = self.transform(sample)\n",
    "        return sample\n",
    "    def __len__(self):\n",
    "        return self.len"
   ]
  },
  {
   "cell_type": "markdown",
   "metadata": {
    "id": "ZmFtIvrxOhHy"
   },
   "source": [
    "### iterable 형태로 사용\n",
    "- len(dataset)  \n",
    "- dataset[ i ]"
   ]
  },
  {
   "cell_type": "code",
   "execution_count": 14,
   "metadata": {},
   "outputs": [
    {
     "data": {
      "text/plain": [
       "10"
      ]
     },
     "execution_count": 14,
     "metadata": {},
     "output_type": "execute_result"
    }
   ],
   "source": [
    "test_data = toy_set()\n",
    "len(test_data)"
   ]
  },
  {
   "cell_type": "code",
   "execution_count": 15,
   "metadata": {},
   "outputs": [
    {
     "name": "stdout",
     "output_type": "stream",
     "text": [
      "tensor([10., 10.]) tensor([1.])\n",
      "tensor([10., 10.]) tensor([1.])\n",
      "tensor([10., 10.]) tensor([1.])\n"
     ]
    }
   ],
   "source": [
    "for i in range(3):\n",
    "    x, y = test_data[i]\n",
    "    print(x, y)"
   ]
  },
  {
   "cell_type": "code",
   "execution_count": 16,
   "metadata": {},
   "outputs": [
    {
     "name": "stdout",
     "output_type": "stream",
     "text": [
      "tensor([10., 10.]) tensor([1.])\n",
      "tensor([10., 10.]) tensor([1.])\n",
      "tensor([10., 10.]) tensor([1.])\n",
      "tensor([10., 10.]) tensor([1.])\n",
      "tensor([10., 10.]) tensor([1.])\n",
      "tensor([10., 10.]) tensor([1.])\n",
      "tensor([10., 10.]) tensor([1.])\n",
      "tensor([10., 10.]) tensor([1.])\n",
      "tensor([10., 10.]) tensor([1.])\n",
      "tensor([10., 10.]) tensor([1.])\n"
     ]
    }
   ],
   "source": [
    "for x, y in test_data:\n",
    "    print(x, y)"
   ]
  },
  {
   "cell_type": "code",
   "execution_count": 17,
   "metadata": {},
   "outputs": [
    {
     "data": {
      "text/plain": [
       "(tensor([10., 10.]), tensor([1.]))"
      ]
     },
     "execution_count": 17,
     "metadata": {},
     "output_type": "execute_result"
    }
   ],
   "source": [
    "next(iter(test_data))"
   ]
  },
  {
   "cell_type": "markdown",
   "metadata": {
    "id": "29t0psPgOhH1"
   },
   "source": [
    "## Transform 적용\n",
    "\n",
    "- 사용자 정의 transform module 을 Custom Dataset 에 적용"
   ]
  },
  {
   "cell_type": "markdown",
   "metadata": {
    "id": "y5B50dQMOhH2"
   },
   "source": [
    "### Transform 함수 적용 예 : scaling"
   ]
  },
  {
   "cell_type": "code",
   "execution_count": 22,
   "metadata": {},
   "outputs": [],
   "source": [
    "def scaling(sample):\n",
    "    x, y = sample\n",
    "    scaled_x = x / 100000\n",
    "    scaled_y = y / 10\n",
    "    return scaled_x, scaled_y"
   ]
  },
  {
   "cell_type": "code",
   "execution_count": 26,
   "metadata": {},
   "outputs": [
    {
     "data": {
      "text/plain": [
       "(tensor([1.0000e-04, 1.0000e-04]), tensor([0.1000]))"
      ]
     },
     "execution_count": 26,
     "metadata": {},
     "output_type": "execute_result"
    }
   ],
   "source": [
    "dataset_ = toy_set(3, scaling)\n",
    "\n",
    "dataset_[-1]"
   ]
  },
  {
   "cell_type": "markdown",
   "metadata": {
    "id": "TlxGcH6hOhH3"
   },
   "source": [
    "### transform class 적용 예"
   ]
  },
  {
   "cell_type": "code",
   "execution_count": 27,
   "metadata": {},
   "outputs": [],
   "source": [
    "class add_ones:\n",
    "    def __init__(self, added=1):\n",
    "        self.added = added\n",
    "        \n",
    "    def __call__(self, sample):\n",
    "        x, y = sample\n",
    "        x = x + self.added\n",
    "        y = y + self.added\n",
    "        sample = x, y\n",
    "        return sample"
   ]
  },
  {
   "cell_type": "code",
   "execution_count": 31,
   "metadata": {},
   "outputs": [
    {
     "data": {
      "text/plain": [
       "(tensor([11., 11.]), tensor([2.]))"
      ]
     },
     "execution_count": 31,
     "metadata": {},
     "output_type": "execute_result"
    }
   ],
   "source": [
    "a_m = add_ones()\n",
    "\n",
    "dataset_ = toy_set(10, transform=a_m)\n",
    "dataset_[-1]"
   ]
  },
  {
   "cell_type": "markdown",
   "metadata": {
    "id": "BFisAyhnOhH5"
   },
   "source": [
    "### Transform 을 동시에 여러개 적용 : transform.Compose "
   ]
  },
  {
   "cell_type": "code",
   "execution_count": 38,
   "metadata": {},
   "outputs": [],
   "source": [
    "from torchvision import transforms\n",
    "data_transforms = transforms.Compose([scaling, a_m])\n",
    "\n",
    "data2 = toy_set(5, transform=data_transforms)"
   ]
  },
  {
   "cell_type": "code",
   "execution_count": 39,
   "metadata": {},
   "outputs": [
    {
     "name": "stdout",
     "output_type": "stream",
     "text": [
      "tensor([1.0001, 1.0001]) tensor([1.1000])\n",
      "tensor([1.0001, 1.0001]) tensor([1.1000])\n",
      "tensor([1.0001, 1.0001]) tensor([1.1000])\n",
      "tensor([1.0001, 1.0001]) tensor([1.1000])\n",
      "tensor([1.0001, 1.0001]) tensor([1.1000])\n"
     ]
    }
   ],
   "source": [
    "#data2 = toy_set(5)\n",
    "for x, y in data2:\n",
    "    print(x, y)"
   ]
  },
  {
   "cell_type": "markdown",
   "metadata": {
    "id": "xWID8_6yOhH7"
   },
   "source": [
    "<h1>pre-built Datasets and Transforms</h1> "
   ]
  },
  {
   "cell_type": "code",
   "execution_count": 40,
   "metadata": {},
   "outputs": [],
   "source": [
    "from torchvision import datasets"
   ]
  },
  {
   "cell_type": "code",
   "execution_count": 43,
   "metadata": {},
   "outputs": [],
   "source": [
    "crop_tensor_transform = transforms.Compose(\n",
    "        [transforms.CenterCrop(20),\n",
    "        transforms.ToTensor()]\n",
    ")\n",
    "\n",
    "training_data = datasets.MNIST(\n",
    "    root = 'data',\n",
    "    train=True,\n",
    "    download=True,\n",
    "    transform=crop_tensor_transform\n",
    ")\n",
    "\n",
    "test_data = datasets.MNIST(\n",
    "    root = 'data',\n",
    "    train=False,\n",
    "    transform=crop_tensor_transform\n",
    ")"
   ]
  },
  {
   "cell_type": "code",
   "execution_count": 57,
   "metadata": {},
   "outputs": [
    {
     "data": {
      "text/plain": [
       "torch.Size([1, 20, 20])"
      ]
     },
     "execution_count": 57,
     "metadata": {},
     "output_type": "execute_result"
    }
   ],
   "source": [
    "training_data[0][0].shape"
   ]
  },
  {
   "cell_type": "code",
   "execution_count": 59,
   "metadata": {},
   "outputs": [
    {
     "data": {
      "image/png": "[encoded data removed]",
      "text/plain": [
       "<Figure size 432x288 with 1 Axes>"
      ]
     },
     "metadata": {
      "needs_background": "light"
     },
     "output_type": "display_data"
    }
   ],
   "source": [
    "import matplotlib.pyplot as plt\n",
    "plt.imshow(training_data[0][0].reshape(20, 20), cmap=\"gray\")\n",
    "plt.title(\"y = {}\".format(training_data[0][1]))\n",
    "plt.show()"
   ]
  },
  {
   "cell_type": "markdown",
   "metadata": {
    "id": "4HAG7FNTOhH-"
   },
   "source": [
    "## DataLoader를 사용하여 training 데이터 준비\n",
    "\n",
    "Dataset은 `한 번에 한 개씩 샘플`의 feature 와 label 을 retreive 합니다. 모델을 훈련하는 동안 일반적으로 `minibatch`로 샘플을 전달하고, 매 epoch 마다 데이터를 reshuffle 하여 overfitting을 줄이며, Python의 multiprocessing을 사용하여 읽는 속도를 높입니다.\n",
    "\n",
    "DataLoader는 쉬운 API로 이러한 복잡성 내용을 추상화한 반복자(iterable) 입니다."
   ]
  },
  {
   "cell_type": "code",
   "execution_count": 60,
   "metadata": {},
   "outputs": [],
   "source": [
    "from torch.utils.data import DataLoader\n",
    "\n",
    "train_dataloader = DataLoader(training_data, batch_size=64, shuffle=True)\n",
    "test_dataloader = DataLoader(test_data, batch_size=64, shuffle=False)"
   ]
  },
  {
   "cell_type": "markdown",
   "metadata": {
    "id": "gLacMc-IOhH_"
   },
   "source": [
    "## DataLoader를 통해 반복\n",
    "해당 데이터 세트를 ``Dataloader``에 로드 했으며 반복할 수 있습니다. 아래의 각 반복은`` train_features`` 및 ``train_labels`` ( batch_size=64 의 feature 및 label) 의 배치를 반환합니다.  ``shuffle=True``를 지정했기 때문에 모든 배치를 반복한 후에 데이터가 섞입니다."
   ]
  },
  {
   "cell_type": "code",
   "execution_count": 62,
   "metadata": {},
   "outputs": [
    {
     "data": {
      "text/plain": [
       "(torch.Size([64, 1, 20, 20]), torch.Size([64]))"
      ]
     },
     "execution_count": 62,
     "metadata": {},
     "output_type": "execute_result"
    }
   ],
   "source": [
    "train_features, train_labels = next(iter(train_dataloader))\n",
    "train_features.size(), train_labels.size()"
   ]
  },
  {
   "cell_type": "code",
   "execution_count": 67,
   "metadata": {},
   "outputs": [
    {
     "data": {
      "text/plain": [
       "<matplotlib.image.AxesImage at 0x2b39b44b070>"
      ]
     },
     "execution_count": 67,
     "metadata": {},
     "output_type": "execute_result"
    },
    {
     "data": {
      "image/png": "[encoded data removed]",
      "text/plain": [
       "<Figure size 432x288 with 1 Axes>"
      ]
     },
     "metadata": {
      "needs_background": "light"
     },
     "output_type": "display_data"
    }
   ],
   "source": [
    "img = train_features[0].squeeze()\n",
    "plt.imshow(img, cmap=\"gray\")"
   ]
  },
  {
   "cell_type": "markdown",
   "metadata": {
    "id": "12wfH6alOhH_"
   },
   "source": [
    "## TensorDataset\n",
    "- PyTorch의 TensorDataset은 tensor를 감싸는 Dataset입니다.\n",
    "- TensorDataset은 Dataset을 상속한 클래스로 학습 데이터 X와 레이블 Y를 묶어 놓는 컨테이너입니다.\n",
    "- TensorDataset을 DataLoader에 전달하면 for 루프에서 데이터의 일부분만 간단히 추출할 수 있게 됩니다.  \n",
    "- TensorDataset에는 텐서만 전달할 수 있으며, Variable은 전달할 수 없으니 주의\n",
    "- Dataset은 직접 작성할 수도 있어서 대량의 이미지 파일을 한 번에 메모리에 저장하지 않고 필요할 때마다 읽어서 학습하는 등 다양하게 활용 가능"
   ]
  },
  {
   "cell_type": "code",
   "execution_count": 74,
   "metadata": {},
   "outputs": [
    {
     "data": {
      "text/plain": [
       "(tensor([[ 0.7620,  1.3676, -0.8925, -0.6012],\n",
       "         [-0.1406,  0.4350,  0.4254,  0.2158],\n",
       "         [ 0.3394, -0.3691,  1.1529,  0.4924],\n",
       "         [-0.3265, -1.1704, -0.8616,  0.4852],\n",
       "         [-1.2183, -0.2174, -0.4333,  0.7275]], dtype=torch.float64),\n",
       " tensor([0, 1, 1, 0, 0], dtype=torch.int32))"
      ]
     },
     "execution_count": 74,
     "metadata": {},
     "output_type": "execute_result"
    }
   ],
   "source": [
    "from torch.utils.data import TensorDataset\n",
    "\n",
    "x = np.random.randn(5, 4)\n",
    "y = np.random.randint(0, 2, size=5)\n",
    "\n",
    "X_train = torch.from_numpy(x)\n",
    "y_train = torch.from_numpy(y)\n",
    "X_train, y_train"
   ]
  },
  {
   "cell_type": "code",
   "execution_count": 75,
   "metadata": {},
   "outputs": [
    {
     "data": {
      "text/plain": [
       "(tensor([[ 0.7620,  1.3676, -0.8925, -0.6012],\n",
       "         [-0.1406,  0.4350,  0.4254,  0.2158]], dtype=torch.float64),\n",
       " tensor([0, 1], dtype=torch.int32))"
      ]
     },
     "execution_count": 75,
     "metadata": {},
     "output_type": "execute_result"
    }
   ],
   "source": [
    "train_ds = TensorDataset(X_train, y_train)\n",
    "\n",
    "train_dataloader = DataLoader(train_ds, batch_size=2, shuffle=False)\n",
    "train_features, train_labels = next(iter(train_dataloader))\n",
    "train_features, train_labels"
   ]
  },
  {
   "cell_type": "code",
   "execution_count": null,
   "metadata": {},
   "outputs": [],
   "source": []
  },
  {
   "cell_type": "code",
   "execution_count": null,
   "metadata": {},
   "outputs": [],
   "source": []
  }
 ],
 "metadata": {
  "colab": {
   "collapsed_sections": [],
   "name": "011_Dataset_torch.ipynb",
   "provenance": []
  },
  "kernelspec": {
   "display_name": "Python 3 (ipykernel)",
   "language": "python",
   "name": "python3"
  },
  "language_info": {
   "codemirror_mode": {
    "name": "ipython",
    "version": 3
   },
   "file_extension": ".py",
   "mimetype": "text/x-python",
   "name": "python",
   "nbconvert_exporter": "python",
   "pygments_lexer": "ipython3",
   "version": "3.8.13"
  }
 },
 "nbformat": 4,
 "nbformat_minor": 1
}
