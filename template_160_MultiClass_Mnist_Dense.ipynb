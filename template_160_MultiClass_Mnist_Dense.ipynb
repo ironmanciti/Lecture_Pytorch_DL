{
 "cells": [
  {
   "cell_type": "markdown",
   "metadata": {
    "id": "veTgPg0YPxGn"
   },
   "source": [
    "# 160. mnist dataset 손글씨 인식 - Multi-class Classification\n",
    "\n",
    "- Basic Fully Connected Layer 이용\n",
    "\n",
    "- nn.CrossEntropyLoss 이용"
   ]
  },
  {
   "cell_type": "markdown",
   "metadata": {
    "id": "2o3vF-CVPxGt"
   },
   "source": [
    "### Dataset handling\n",
    "- ``transforms.ToTensor()`` - image 를 tensor로 변환 + [0.0,1.0] 범위로 scaling  \n",
    "- ```SubsetSampler``` - 주어진 인덱스 목록에서 무작위로 비복원 추출"
   ]
  },
  {
   "cell_type": "markdown",
   "metadata": {
    "id": "6x55spF_s3hY"
   },
   "source": [
    "- Data 시각화"
   ]
  },
  {
   "cell_type": "markdown",
   "metadata": {
    "id": "gY48Ca8FPxGw"
   },
   "source": [
    "## Dataset Loader 생성\n",
    "\n",
    "- Train dataset 을 Train 과 Validation set 으로 분리"
   ]
  },
  {
   "cell_type": "markdown",
   "metadata": {
    "id": "V4gD2e-2s3ha"
   },
   "source": [
    "- train, validation, test dataset 으로 3 분할"
   ]
  },
  {
   "cell_type": "markdown",
   "metadata": {
    "id": "-FLMOVrtPxGy"
   },
   "source": [
    "### Model custom build\n",
    "\n",
    "- nn.Linear 이용\n",
    "- activation 으로 relu 함수 적용\n",
    "- 2개의 hidden layer와 dropout 사용\n",
    "\n",
    "<img src=\"linear.png\" width=\"600\" />"
   ]
  },
  {
   "cell_type": "markdown",
   "metadata": {
    "id": "LzipsIYNPxG0"
   },
   "source": [
    "### Model Summary"
   ]
  },
  {
   "cell_type": "markdown",
   "metadata": {
    "id": "MC5SlMmGdEi8"
   },
   "source": [
    "- model 의 parameter 갯수 "
   ]
  },
  {
   "cell_type": "markdown",
   "metadata": {
    "id": "qCejIk7SdEi8"
   },
   "source": [
    "- 모델 훈련 전 작동 test"
   ]
  },
  {
   "cell_type": "markdown",
   "metadata": {
    "id": "A3_GsIz2PxG3"
   },
   "source": [
    "### softmax 함수를 사용하여 output row 를 확률 분포로 바꾼다. 공식은 다음과 같다.\n",
    "\n",
    "\n",
    "<img src=\"softmax.png\" width=\"400\" />\n",
    "\n",
    "- output row 의 각 element $y_i$ 를 $e^{y_i}$ 로 변경하여 모든 element 를 양수로 만든다.  \n",
    "- 각 element 를 모든 element 의 합으로 나누어 합계가 1 이 되도록 한다.  \n",
    "- predicted label 은 torch.max 를 이용하여 각 row 에서 highest probability 값을 고른다.  "
   ]
  },
  {
   "cell_type": "markdown",
   "metadata": {
    "id": "j0UrBrbYPxG3"
   },
   "source": [
    "### Loss Function 정의\n",
    "\n",
    "<img src=\"crossentropy.png\" width=\"400\" />"
   ]
  },
  {
   "cell_type": "markdown",
   "metadata": {
    "id": "YV-h-gbpPxG4"
   },
   "source": [
    "nn.CrossEntropyLoss()는 모델의 출력이 각 클래스에 대한 원시적이고 정규화되지 않은 점수(로짓)이라고 예상합니다. nn.CrossEntropyLoss()를 사용할 때는 출력 레이어에 softmax 활성화 함수를 적용하지 않아야 합니다. 왜냐하면 이는 손실 계산에 이미 포함되어 있기 때문입니다."
   ]
  },
  {
   "cell_type": "markdown",
   "metadata": {
    "id": "IqfVB66hPxG5"
   },
   "source": [
    "- optimizer 는 Stochastic Gradient Descent 사용"
   ]
  },
  {
   "cell_type": "markdown",
   "metadata": {
    "id": "Yc6XL1_IPxG7"
   },
   "source": [
    "## Model 평가 - Test set 사용 "
   ]
  },
  {
   "cell_type": "markdown",
   "metadata": {
    "id": "WUeCcGgsPxG8"
   },
   "source": [
    "## Category 별 분류 성능 측정"
   ]
  },
  {
   "cell_type": "markdown",
   "metadata": {
    "id": "h4r4GpBxPxG-"
   },
   "source": [
    "## Sample Test 결과 시각화"
   ]
  }
 ],
 "metadata": {
  "accelerator": "GPU",
  "colab": {
   "gpuType": "V100",
   "machine_shape": "hm",
   "provenance": []
  },
  "kernelspec": {
   "display_name": "Python 3",
   "name": "python3"
  },
  "language_info": {
   "codemirror_mode": {
    "name": "ipython",
    "version": 3
   },
   "file_extension": ".py",
   "mimetype": "text/x-python",
   "name": "python",
   "nbconvert_exporter": "python",
   "pygments_lexer": "ipython3",
   "version": "3.10.11"
  }
 },
 "nbformat": 4,
 "nbformat_minor": 0
}
