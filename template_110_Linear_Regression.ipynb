{
 "cells": [
  {
   "cell_type": "markdown",
   "metadata": {},
   "source": [
    "# 110. Basic Linear Regression"
   ]
  },
  {
   "cell_type": "markdown",
   "metadata": {},
   "source": [
    "<h1>1) torch.nn 의 Linear 클래스를 이용한 Linear Regression</h1>"
   ]
  },
  {
   "cell_type": "markdown",
   "metadata": {},
   "source": [
    "<code>state_dict()</code> method 는 각 layer 의 parameter tensor 를 dictionary 로 반환하므로 직접 값을 update 할 수 있다."
   ]
  },
  {
   "cell_type": "markdown",
   "metadata": {},
   "source": [
    "작동 원리 이해를 위해 weight와 bias 값을 임의로 assign"
   ]
  },
  {
   "cell_type": "markdown",
   "metadata": {},
   "source": [
    "Neural Network을 이용하여 $y = wx + b$ 계산"
   ]
  },
  {
   "cell_type": "markdown",
   "metadata": {},
   "source": [
    "<h1>2) 사용자 정의 Neural Network 작성</h1>"
   ]
  },
  {
   "cell_type": "markdown",
   "metadata": {},
   "source": [
    "- 위에서와 마찬가지로 임의로 weight와 bias를 assign  \n",
    "- `model.parameters()` 함수는 PyTorch 모델의 모든 가중치와 편향(bias)을 포함하는 파라미터를 반환  \n",
    "    - requires_grad=True 는 해당 텐서에 대해 자동 미분을 수행하도록 설정합니다. 즉, 텐서에 대한 연산이 추적되며, 그래디언트 계산을 위한 연산 그래프가 구성됩니다. 이는 학습 가능한 모델 파라미터(가중치와 편향 등)에서 주로 사용됩니다."
   ]
  },
  {
   "cell_type": "markdown",
   "metadata": {},
   "source": [
    "# Backpropagation 과 경사하강법 적용\n",
    "\n",
    "- weight 와 bias를 스스로 학습\n",
    "- (온도, 강수량, 습도)를 feature 로 입력 받아  (사과, 오렌지)의 수확량(label)을 선형회귀로 예측하는 model 작성"
   ]
  },
  {
   "cell_type": "markdown",
   "metadata": {},
   "source": [
    "## Data"
   ]
  },
  {
   "cell_type": "markdown",
   "metadata": {},
   "source": [
    "- input 과 target을 tensor로 변환"
   ]
  },
  {
   "cell_type": "markdown",
   "metadata": {},
   "source": [
    "# 1) torch.nn Linear Class 사용"
   ]
  },
  {
   "cell_type": "markdown",
   "metadata": {},
   "source": [
    "# 2) 사용자 정의 model 사용"
   ]
  },
  {
   "cell_type": "markdown",
   "metadata": {},
   "source": [
    "- Linear Regression 사용자 정의 model "
   ]
  },
  {
   "cell_type": "markdown",
   "metadata": {},
   "source": [
    "## Train the model"
   ]
  },
  {
   "cell_type": "markdown",
   "metadata": {},
   "source": [
    "model.parameters(): 이 함수는 모델의 모든 파라미터를 생성자(generator) 형태로 반환합니다. 이는 주로 모델의 파라미터를 순회(iterate)하거나, 파라미터에 대한 그래디언트를 0으로 초기화하거나, 역전파를 위해 그래디언트를 사용하는 등의 작업에 사용됩니다.\n",
    "\n",
    "model.state_dict(): 이 함수는 모델의 상태를 Python 딕셔너리 형태로 반환합니다. 이 딕셔너리는 각 계층의 파라미터를 표현하는 텐서를 포함하며, 모델의 전체 상태를 표현합니다. 이 state_dict는 모델의 가중치를 저장하고 불러오는 데 사용되며, 모델의 학습 상태를 체크포인트로 저장하거나, 학습을 다시 시작할 때 이전 상태를 불러오는 등의 작업에 주로 사용됩니다.\n",
    "\n",
    "간단히 말해, model.parameters()는 모델의 파라미터를 바로 조작하는 데 사용되며, model.state_dict()는 모델의 상태를 저장하고 불러오는 데 사용"
   ]
  },
  {
   "cell_type": "markdown",
   "metadata": {},
   "source": [
    "## Save and Load Model"
   ]
  },
  {
   "cell_type": "markdown",
   "metadata": {},
   "source": [
    "- model reload 및 parameter 복원 확인"
   ]
  }
 ],
 "metadata": {
  "kernelspec": {
   "display_name": "Python 3 (ipykernel)",
   "language": "python",
   "name": "python3"
  },
  "language_info": {
   "codemirror_mode": {
    "name": "ipython",
    "version": 3
   },
   "file_extension": ".py",
   "mimetype": "text/x-python",
   "name": "python",
   "nbconvert_exporter": "python",
   "pygments_lexer": "ipython3",
   "version": "3.9.7"
  }
 },
 "nbformat": 4,
 "nbformat_minor": 4
}
