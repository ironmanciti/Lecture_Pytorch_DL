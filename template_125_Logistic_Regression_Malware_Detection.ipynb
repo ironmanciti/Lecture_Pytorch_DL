{
 "cells": [
  {
   "cell_type": "markdown",
   "id": "9a921b8e",
   "metadata": {},
   "source": [
    "# 125. Malware Detection - 이진 분류  \n",
    "\n",
    "맬웨어에는 여러 종류가 있으며, 가장 일반적인 유형은 다음과 같습니다:\n",
    "\n",
    "바이러스: 다른 프로그램에 자신의 코드를 삽입하여 전파하고, 해당 프로그램이 실행될 때마다 활성화되는 맬웨어입니다.  \n",
    "웜: 네트워크를 통해 자체 복제하고 전파하는 맬웨어입니다.  \n",
    "트로이 목마: 사용자가 유익한 프로그램이라고 생각하도록 가장하여 컴퓨터에 설치되지만, 실제로는 불법적인 행동을 수행하는 맬웨어입니다.  \n",
    "랜섬웨어: 사용자의 데이터를 암호화하고, 해당 데이터를 복구하는 데 필요한 키를 얻으려면 랜섬을 지불해야 함을 요구하는 맬웨어입니다.  \n",
    "스파이웨어: 사용자의 활동을 추적하고, 이 정보를 다른 개체에게 보내는 맬웨어입니다. "
   ]
  },
  {
   "cell_type": "markdown",
   "id": "5e7dd662",
   "metadata": {},
   "source": [
    "- Name : 제외\n",
    "- md5 : hash value 제외"
   ]
  },
  {
   "cell_type": "markdown",
   "id": "ab6faa3f",
   "metadata": {},
   "source": [
    "- Train, Test split"
   ]
  },
  {
   "cell_type": "markdown",
   "id": "37971f5f",
   "metadata": {},
   "source": [
    "## ``nn.Module``을 이용한 사용자 정의 Logistic Regression model 정의 "
   ]
  },
  {
   "cell_type": "markdown",
   "id": "8fb5448b",
   "metadata": {},
   "source": [
    "### dataset loader 생성"
   ]
  },
  {
   "cell_type": "markdown",
   "id": "f414f774",
   "metadata": {},
   "source": [
    "# 생성한 Neural Network Model Train"
   ]
  }
 ],
 "metadata": {
  "kernelspec": {
   "display_name": "Python 3 (ipykernel)",
   "language": "python",
   "name": "python3"
  },
  "language_info": {
   "codemirror_mode": {
    "name": "ipython",
    "version": 3
   },
   "file_extension": ".py",
   "mimetype": "text/x-python",
   "name": "python",
   "nbconvert_exporter": "python",
   "pygments_lexer": "ipython3",
   "version": "3.10.11"
  }
 },
 "nbformat": 4,
 "nbformat_minor": 5
}
