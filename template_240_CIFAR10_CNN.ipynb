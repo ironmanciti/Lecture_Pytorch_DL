{
 "cells": [
  {
   "cell_type": "markdown",
   "metadata": {
    "id": "q4RMbkolIgZP"
   },
   "source": [
    "# 240. CIFAR-10 을 이용한 CNN 구축\n",
    "\n",
    "- **CNN**을 학습하여 CIFAR-10 데이터베이스의 이미지를 분류합니다.\n",
    "\n",
    "<img src='https://production-media.paperswithcode.com/datasets/CIFAR-10-0000000431-b71f61c0_U5n3Glr.jpg' width=600 />\n",
    "\n",
    "\n",
    "- mean, std ((0.5, 0.5, 0.5), (0.5, 0.5, 0.5)) 로 normalize 된 image 의 unnormalization 방법\n",
    "    - image = image * 0.5 + 0.5"
   ]
  },
  {
   "cell_type": "markdown",
   "metadata": {
    "id": "RXokErjxgyjY"
   },
   "source": [
    "## Data Download 및 Data Loader 를 이용하여 Train, Validation data 준비"
   ]
  },
  {
   "cell_type": "markdown",
   "metadata": {
    "id": "gs-f_hHxr5gd"
   },
   "source": [
    "transforms.Compose는 주어진 순서대로 여러 변환을 적용하는 함수입니다. 코드에서 다음과 같이 네 가지 변환을 연속적으로 적용하도록 설정하였습니다:\n",
    "- transforms.RandomHorizontalFlip(): 이미지를 수평으로 무작위로 뒤집는 변환입니다. 이는 데이터 증강(augmentation)을 통해 모델이 수평 뒤집힘에 대해 불변성(invariance)을 가지도록 도와줍니다.  \n",
    "- transforms.RandomRotation(10): 이미지를 -10에서 10 사이의 무작위 각도로 회전시킵니다. 이 또한 데이터 증강의 일부로, 모델이 회전에 대해 불변성을 가지도록 돕습니다.  \n",
    "- transforms.ToTensor(): 이미지나 numpy.ndarray (H x W x C)를 torch.FloatTensor로 변환합니다 (C x H x W). 이 변환에서는 픽셀의 강도(intensity)가 [0., 1.] 범위로 조정됩니다.  \n",
    "- transforms.Normalize((0.5, 0.5, 0.5), (0.5, 0.5, 0.5)): 각 채널의 색상을 정규화합니다. 이 변환은 입력 데이터를 특정 평균(mean)과 표준편차(std)를 사용하여 정규화합니다. 여기서는 모든 채널에 대해 평균과 표준편차가 0.5로 설정되어 있습니다."
   ]
  },
  {
   "cell_type": "markdown",
   "metadata": {
    "id": "mwlI9nSwg5j-"
   },
   "source": [
    "### 일부 Data 시각화\n",
    "\n",
    "- np.transpose(x, (1, 2, 0)) 부분은 PyTorch와 일반 이미지 표현 간의 축 차이를 보정합니다. PyTorch는 이미지를 (채널, 높이, 너비) 형식으로 표현하는 반면, 일반적으로 사용하는 이미지 표현 형식은 (높이, 너비, 채널)입니다. np.transpose를 사용하여 이 축 차이를 해결합니다.\n",
    "\n",
    "* 0.5 + 0.5 부분은 이전에 transforms.Normalize((0.5, 0.5, 0.5), (0.5, 0.5, 0.5))를 사용하여 정규화한 것을 되돌리는 과정입니다. 정규화 단계에서 각 채널의 색상이 평균을 빼고 표준편차로 나누어졌으므로, 정규화를 취소하려면 반대로 각 채널의 색상에 표준편차를 곱하고 평균을 더하면 됩니다."
   ]
  },
  {
   "cell_type": "markdown",
   "metadata": {
    "id": "6SdZUr6fIgZa"
   },
   "source": [
    "## Model build\n",
    "\n",
    "### Custom Model\n",
    "\n",
    "- Output Size = (W - F + 2P) / S + 1  \n",
    "- output_size / Maxpool(2) \n",
    "\n",
    "이 공식은 CNN(Convolutional Neural Network)의 각 계층의 출력 크기를 계산하는 데 사용됩니다.\n",
    "\n",
    "- W: 입력의 크기, F: 필터(또는 커널)의 크기, P: 패딩의 크기, S: 스트라이드의 크기, poolsize: 풀링 계층의 필터 크기  \n",
    "\n",
    "출력 크기는 다음 계층의 입력 크기가 됩니다. "
   ]
  },
  {
   "cell_type": "markdown",
   "metadata": {
    "id": "qaFdOdKn4nIW"
   },
   "source": [
    "input image size : (32, 32), kernel size : 3, padding : 1, stride : 1 인 경우 3번 convolution을 하면 최종 image size는 다음과 같이 계산"
   ]
  },
  {
   "cell_type": "markdown",
   "metadata": {
    "id": "QPJgYsyG1DO1"
   },
   "source": [
    "### Model 생성"
   ]
  },
  {
   "cell_type": "markdown",
   "metadata": {
    "id": "38FnXHXlIgZc"
   },
   "source": [
    "### Loss Function"
   ]
  },
  {
   "cell_type": "markdown",
   "metadata": {
    "id": "131T7vCmIgZe"
   },
   "source": [
    "### Model 평가"
   ]
  },
  {
   "cell_type": "markdown",
   "metadata": {
    "id": "ZKdyh4-6hoy3"
   },
   "source": [
    "### model 이 어떤 image 들을 잘 맞추고 혹은 틀렸는지 시각화"
   ]
  },
  {
   "cell_type": "markdown",
   "metadata": {
    "id": "-X29OnZHLVwK"
   },
   "source": [
    "### 훈련된 모델을 이용한 예측 결과 시각화\n",
    "\n",
    "`np.transpose(test_data[idx][0], (1, 2, 0))` $→$  test_data[idx][0]의 축의 순서를 바꾸는 작업.  (channel, height, width) 순서를 (height, width, channel) 순서로 변경.  \n",
    "\n",
    "`/ 2 + 0.5` $→$ 배열의 모든 요소를 2로 나눈 후 0.5를 더하는 역정규화. 정규화는 모델 학습을 돕기 위해 데이터의 범위를 조정하는 과정. 만약 이미지 데이터가 [-1, 1] 범위로 정규화되었다면, 이 연산을 통해 원래의 [0, 1] 범위로 복원."
   ]
  },
  {
   "cell_type": "markdown",
   "metadata": {
    "id": "-nJ765fqh-tC"
   },
   "source": [
    "## Saving and loading the model\n",
    "\n",
    "### state_dict 를 이용하여 모델 저장 및 loading"
   ]
  }
 ],
 "metadata": {
  "accelerator": "GPU",
  "colab": {
   "provenance": []
  },
  "kernelspec": {
   "display_name": "Python 3 (ipykernel)",
   "language": "python",
   "name": "python3"
  },
  "language_info": {
   "codemirror_mode": {
    "name": "ipython",
    "version": 3
   },
   "file_extension": ".py",
   "mimetype": "text/x-python",
   "name": "python",
   "nbconvert_exporter": "python",
   "pygments_lexer": "ipython3",
   "version": "3.9.7"
  }
 },
 "nbformat": 4,
 "nbformat_minor": 0
}
