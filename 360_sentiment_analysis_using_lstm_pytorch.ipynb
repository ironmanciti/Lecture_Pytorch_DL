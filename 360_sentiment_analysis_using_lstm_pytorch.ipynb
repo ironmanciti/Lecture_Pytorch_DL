{
  "cells": [
    {
      "cell_type": "markdown",
      "metadata": {
        "id": "F5loKTlZD0Zu"
      },
      "source": [
        "# 360. IMDB Sentiment Analysis\n",
        "- LSTM을 사용하여 IMDB 데이터 세트에 대한 감정 분석을 진행합니다.\n",
        "\n",
        "- IMDB (Internet Movie Database, https://www.imdb.com/)  Dataset\n",
        "    - 각 25,000 개의 training/testing set 으로 구성된 IMDB 영화관람평  \n",
        "\n",
        "    - `imdb_reviews` – encoding 되어있지 않은 string 형태의 data  \n",
        "\n",
        "    - label : positive, negative binary classification"
      ]
    },
    {
      "cell_type": "code",
      "execution_count": 1,
      "metadata": {
        "_cell_guid": "b1076dfc-b9ad-4769-8c92-a6c4dae69d19",
        "_uuid": "8f2839f25d086af736a60e9eeb907d3b93b6e0e5",
        "colab": {
          "base_uri": "https://localhost:8080/"
        },
        "execution": {
          "iopub.execute_input": "2021-12-29T11:50:30.632307Z",
          "iopub.status.busy": "2021-12-29T11:50:30.632039Z",
          "iopub.status.idle": "2021-12-29T11:50:33.453334Z",
          "shell.execute_reply": "2021-12-29T11:50:33.452545Z",
          "shell.execute_reply.started": "2021-12-29T11:50:30.632279Z"
        },
        "id": "GYTFVUCcD0Zw",
        "outputId": "c12cfcee-5b51-498d-bc48-b1c32a782b9b"
      },
      "outputs": [
        {
          "output_type": "execute_result",
          "data": {
            "text/plain": [
              "device(type='cuda')"
            ]
          },
          "metadata": {},
          "execution_count": 1
        }
      ],
      "source": [
        "import numpy as np \n",
        "import pandas as pd \n",
        "import torch\n",
        "import torch.nn as nn\n",
        "import torch.nn.functional as F\n",
        "import matplotlib.pyplot as plt\n",
        "from torch.utils.data import TensorDataset, DataLoader\n",
        "from sklearn.model_selection import train_test_split\n",
        "\n",
        "device = torch.device(\"cuda\") if torch.cuda.is_available() else torch.device(\"cpu\")\n",
        "device"
      ]
    },
    {
      "cell_type": "markdown",
      "metadata": {
        "id": "d9HhpMjLovXy"
      },
      "source": [
        "- 데이터 다운로드"
      ]
    },
    {
      "cell_type": "code",
      "execution_count": 2,
      "metadata": {
        "colab": {
          "base_uri": "https://localhost:8080/"
        },
        "id": "MpBsvbWHmJSi",
        "outputId": "dd4521f0-ff4a-4491-baa7-689be7ab820c"
      },
      "outputs": [
        {
          "output_type": "stream",
          "name": "stdout",
          "text": [
            "Downloading...\n",
            "From: https://drive.google.com/uc?id=1RFs-jV18dy9I3cWQ2M80kHfON-fDCerg\n",
            "To: /content/IMDBDataset.csv\n",
            "100% 66.2M/66.2M [00:01<00:00, 47.1MB/s]\n"
          ]
        }
      ],
      "source": [
        "!gdown 1RFs-jV18dy9I3cWQ2M80kHfON-fDCerg"
      ]
    },
    {
      "cell_type": "code",
      "execution_count": 3,
      "metadata": {
        "_cell_guid": "79c7e3d0-c299-4dcb-8224-4455121ee9b0",
        "_uuid": "d629ff2d2480ee46fbb7e2d37f6b5fab8052498a",
        "colab": {
          "base_uri": "https://localhost:8080/",
          "height": 206
        },
        "execution": {
          "iopub.execute_input": "2021-12-29T11:51:07.609481Z",
          "iopub.status.busy": "2021-12-29T11:51:07.609186Z",
          "iopub.status.idle": "2021-12-29T11:51:08.889471Z",
          "shell.execute_reply": "2021-12-29T11:51:08.888851Z",
          "shell.execute_reply.started": "2021-12-29T11:51:07.609450Z"
        },
        "id": "U2KB8UqSD0Zy",
        "outputId": "3aacbd82-c379-4572-92cd-ce6b2cb89058"
      },
      "outputs": [
        {
          "output_type": "execute_result",
          "data": {
            "text/plain": [
              "                                              review sentiment\n",
              "0  One of the other reviewers has mentioned that ...  positive\n",
              "1  A wonderful little production. <br /><br />The...  positive\n",
              "2  I thought this was a wonderful way to spend ti...  positive\n",
              "3  Basically there's a family where a little boy ...  negative\n",
              "4  Petter Mattei's \"Love in the Time of Money\" is...  positive"
            ],
            "text/html": [
              "\n",
              "  <div id=\"df-d6bab845-eaa3-46e1-a671-a11a3f933b9e\">\n",
              "    <div class=\"colab-df-container\">\n",
              "      <div>\n",
              "<style scoped>\n",
              "    .dataframe tbody tr th:only-of-type {\n",
              "        vertical-align: middle;\n",
              "    }\n",
              "\n",
              "    .dataframe tbody tr th {\n",
              "        vertical-align: top;\n",
              "    }\n",
              "\n",
              "    .dataframe thead th {\n",
              "        text-align: right;\n",
              "    }\n",
              "</style>\n",
              "<table border=\"1\" class=\"dataframe\">\n",
              "  <thead>\n",
              "    <tr style=\"text-align: right;\">\n",
              "      <th></th>\n",
              "      <th>review</th>\n",
              "      <th>sentiment</th>\n",
              "    </tr>\n",
              "  </thead>\n",
              "  <tbody>\n",
              "    <tr>\n",
              "      <th>0</th>\n",
              "      <td>One of the other reviewers has mentioned that ...</td>\n",
              "      <td>positive</td>\n",
              "    </tr>\n",
              "    <tr>\n",
              "      <th>1</th>\n",
              "      <td>A wonderful little production. &lt;br /&gt;&lt;br /&gt;The...</td>\n",
              "      <td>positive</td>\n",
              "    </tr>\n",
              "    <tr>\n",
              "      <th>2</th>\n",
              "      <td>I thought this was a wonderful way to spend ti...</td>\n",
              "      <td>positive</td>\n",
              "    </tr>\n",
              "    <tr>\n",
              "      <th>3</th>\n",
              "      <td>Basically there's a family where a little boy ...</td>\n",
              "      <td>negative</td>\n",
              "    </tr>\n",
              "    <tr>\n",
              "      <th>4</th>\n",
              "      <td>Petter Mattei's \"Love in the Time of Money\" is...</td>\n",
              "      <td>positive</td>\n",
              "    </tr>\n",
              "  </tbody>\n",
              "</table>\n",
              "</div>\n",
              "      <button class=\"colab-df-convert\" onclick=\"convertToInteractive('df-d6bab845-eaa3-46e1-a671-a11a3f933b9e')\"\n",
              "              title=\"Convert this dataframe to an interactive table.\"\n",
              "              style=\"display:none;\">\n",
              "        \n",
              "  <svg xmlns=\"http://www.w3.org/2000/svg\" height=\"24px\"viewBox=\"0 0 24 24\"\n",
              "       width=\"24px\">\n",
              "    <path d=\"M0 0h24v24H0V0z\" fill=\"none\"/>\n",
              "    <path d=\"M18.56 5.44l.94 2.06.94-2.06 2.06-.94-2.06-.94-.94-2.06-.94 2.06-2.06.94zm-11 1L8.5 8.5l.94-2.06 2.06-.94-2.06-.94L8.5 2.5l-.94 2.06-2.06.94zm10 10l.94 2.06.94-2.06 2.06-.94-2.06-.94-.94-2.06-.94 2.06-2.06.94z\"/><path d=\"M17.41 7.96l-1.37-1.37c-.4-.4-.92-.59-1.43-.59-.52 0-1.04.2-1.43.59L10.3 9.45l-7.72 7.72c-.78.78-.78 2.05 0 2.83L4 21.41c.39.39.9.59 1.41.59.51 0 1.02-.2 1.41-.59l7.78-7.78 2.81-2.81c.8-.78.8-2.07 0-2.86zM5.41 20L4 18.59l7.72-7.72 1.47 1.35L5.41 20z\"/>\n",
              "  </svg>\n",
              "      </button>\n",
              "      \n",
              "  <style>\n",
              "    .colab-df-container {\n",
              "      display:flex;\n",
              "      flex-wrap:wrap;\n",
              "      gap: 12px;\n",
              "    }\n",
              "\n",
              "    .colab-df-convert {\n",
              "      background-color: #E8F0FE;\n",
              "      border: none;\n",
              "      border-radius: 50%;\n",
              "      cursor: pointer;\n",
              "      display: none;\n",
              "      fill: #1967D2;\n",
              "      height: 32px;\n",
              "      padding: 0 0 0 0;\n",
              "      width: 32px;\n",
              "    }\n",
              "\n",
              "    .colab-df-convert:hover {\n",
              "      background-color: #E2EBFA;\n",
              "      box-shadow: 0px 1px 2px rgba(60, 64, 67, 0.3), 0px 1px 3px 1px rgba(60, 64, 67, 0.15);\n",
              "      fill: #174EA6;\n",
              "    }\n",
              "\n",
              "    [theme=dark] .colab-df-convert {\n",
              "      background-color: #3B4455;\n",
              "      fill: #D2E3FC;\n",
              "    }\n",
              "\n",
              "    [theme=dark] .colab-df-convert:hover {\n",
              "      background-color: #434B5C;\n",
              "      box-shadow: 0px 1px 3px 1px rgba(0, 0, 0, 0.15);\n",
              "      filter: drop-shadow(0px 1px 2px rgba(0, 0, 0, 0.3));\n",
              "      fill: #FFFFFF;\n",
              "    }\n",
              "  </style>\n",
              "\n",
              "      <script>\n",
              "        const buttonEl =\n",
              "          document.querySelector('#df-d6bab845-eaa3-46e1-a671-a11a3f933b9e button.colab-df-convert');\n",
              "        buttonEl.style.display =\n",
              "          google.colab.kernel.accessAllowed ? 'block' : 'none';\n",
              "\n",
              "        async function convertToInteractive(key) {\n",
              "          const element = document.querySelector('#df-d6bab845-eaa3-46e1-a671-a11a3f933b9e');\n",
              "          const dataTable =\n",
              "            await google.colab.kernel.invokeFunction('convertToInteractive',\n",
              "                                                     [key], {});\n",
              "          if (!dataTable) return;\n",
              "\n",
              "          const docLinkHtml = 'Like what you see? Visit the ' +\n",
              "            '<a target=\"_blank\" href=https://colab.research.google.com/notebooks/data_table.ipynb>data table notebook</a>'\n",
              "            + ' to learn more about interactive tables.';\n",
              "          element.innerHTML = '';\n",
              "          dataTable['output_type'] = 'display_data';\n",
              "          await google.colab.output.renderOutput(dataTable, element);\n",
              "          const docLink = document.createElement('div');\n",
              "          docLink.innerHTML = docLinkHtml;\n",
              "          element.appendChild(docLink);\n",
              "        }\n",
              "      </script>\n",
              "    </div>\n",
              "  </div>\n",
              "  "
            ]
          },
          "metadata": {},
          "execution_count": 3
        }
      ],
      "source": [
        "df = pd.read_csv(\"IMDBDataset.csv\")\n",
        "df.head()"
      ]
    },
    {
      "cell_type": "markdown",
      "metadata": {
        "id": "EWPGV1IPxS5F"
      },
      "source": [
        "- `sentiment`를 positive 1, negative 0 로 변경"
      ]
    },
    {
      "cell_type": "code",
      "execution_count": 4,
      "metadata": {
        "colab": {
          "base_uri": "https://localhost:8080/",
          "height": 206
        },
        "id": "MxMtg5XfmuMq",
        "outputId": "51a3f715-4d51-418e-80b2-d3cb9de22454"
      },
      "outputs": [
        {
          "output_type": "execute_result",
          "data": {
            "text/plain": [
              "                                              review  sentiment\n",
              "0  One of the other reviewers has mentioned that ...        1.0\n",
              "1  A wonderful little production. <br /><br />The...        1.0\n",
              "2  I thought this was a wonderful way to spend ti...        1.0\n",
              "3  Basically there's a family where a little boy ...        0.0\n",
              "4  Petter Mattei's \"Love in the Time of Money\" is...        1.0"
            ],
            "text/html": [
              "\n",
              "  <div id=\"df-f4b222ff-e63f-4865-99ad-9c8a0c170aad\">\n",
              "    <div class=\"colab-df-container\">\n",
              "      <div>\n",
              "<style scoped>\n",
              "    .dataframe tbody tr th:only-of-type {\n",
              "        vertical-align: middle;\n",
              "    }\n",
              "\n",
              "    .dataframe tbody tr th {\n",
              "        vertical-align: top;\n",
              "    }\n",
              "\n",
              "    .dataframe thead th {\n",
              "        text-align: right;\n",
              "    }\n",
              "</style>\n",
              "<table border=\"1\" class=\"dataframe\">\n",
              "  <thead>\n",
              "    <tr style=\"text-align: right;\">\n",
              "      <th></th>\n",
              "      <th>review</th>\n",
              "      <th>sentiment</th>\n",
              "    </tr>\n",
              "  </thead>\n",
              "  <tbody>\n",
              "    <tr>\n",
              "      <th>0</th>\n",
              "      <td>One of the other reviewers has mentioned that ...</td>\n",
              "      <td>1.0</td>\n",
              "    </tr>\n",
              "    <tr>\n",
              "      <th>1</th>\n",
              "      <td>A wonderful little production. &lt;br /&gt;&lt;br /&gt;The...</td>\n",
              "      <td>1.0</td>\n",
              "    </tr>\n",
              "    <tr>\n",
              "      <th>2</th>\n",
              "      <td>I thought this was a wonderful way to spend ti...</td>\n",
              "      <td>1.0</td>\n",
              "    </tr>\n",
              "    <tr>\n",
              "      <th>3</th>\n",
              "      <td>Basically there's a family where a little boy ...</td>\n",
              "      <td>0.0</td>\n",
              "    </tr>\n",
              "    <tr>\n",
              "      <th>4</th>\n",
              "      <td>Petter Mattei's \"Love in the Time of Money\" is...</td>\n",
              "      <td>1.0</td>\n",
              "    </tr>\n",
              "  </tbody>\n",
              "</table>\n",
              "</div>\n",
              "      <button class=\"colab-df-convert\" onclick=\"convertToInteractive('df-f4b222ff-e63f-4865-99ad-9c8a0c170aad')\"\n",
              "              title=\"Convert this dataframe to an interactive table.\"\n",
              "              style=\"display:none;\">\n",
              "        \n",
              "  <svg xmlns=\"http://www.w3.org/2000/svg\" height=\"24px\"viewBox=\"0 0 24 24\"\n",
              "       width=\"24px\">\n",
              "    <path d=\"M0 0h24v24H0V0z\" fill=\"none\"/>\n",
              "    <path d=\"M18.56 5.44l.94 2.06.94-2.06 2.06-.94-2.06-.94-.94-2.06-.94 2.06-2.06.94zm-11 1L8.5 8.5l.94-2.06 2.06-.94-2.06-.94L8.5 2.5l-.94 2.06-2.06.94zm10 10l.94 2.06.94-2.06 2.06-.94-2.06-.94-.94-2.06-.94 2.06-2.06.94z\"/><path d=\"M17.41 7.96l-1.37-1.37c-.4-.4-.92-.59-1.43-.59-.52 0-1.04.2-1.43.59L10.3 9.45l-7.72 7.72c-.78.78-.78 2.05 0 2.83L4 21.41c.39.39.9.59 1.41.59.51 0 1.02-.2 1.41-.59l7.78-7.78 2.81-2.81c.8-.78.8-2.07 0-2.86zM5.41 20L4 18.59l7.72-7.72 1.47 1.35L5.41 20z\"/>\n",
              "  </svg>\n",
              "      </button>\n",
              "      \n",
              "  <style>\n",
              "    .colab-df-container {\n",
              "      display:flex;\n",
              "      flex-wrap:wrap;\n",
              "      gap: 12px;\n",
              "    }\n",
              "\n",
              "    .colab-df-convert {\n",
              "      background-color: #E8F0FE;\n",
              "      border: none;\n",
              "      border-radius: 50%;\n",
              "      cursor: pointer;\n",
              "      display: none;\n",
              "      fill: #1967D2;\n",
              "      height: 32px;\n",
              "      padding: 0 0 0 0;\n",
              "      width: 32px;\n",
              "    }\n",
              "\n",
              "    .colab-df-convert:hover {\n",
              "      background-color: #E2EBFA;\n",
              "      box-shadow: 0px 1px 2px rgba(60, 64, 67, 0.3), 0px 1px 3px 1px rgba(60, 64, 67, 0.15);\n",
              "      fill: #174EA6;\n",
              "    }\n",
              "\n",
              "    [theme=dark] .colab-df-convert {\n",
              "      background-color: #3B4455;\n",
              "      fill: #D2E3FC;\n",
              "    }\n",
              "\n",
              "    [theme=dark] .colab-df-convert:hover {\n",
              "      background-color: #434B5C;\n",
              "      box-shadow: 0px 1px 3px 1px rgba(0, 0, 0, 0.15);\n",
              "      filter: drop-shadow(0px 1px 2px rgba(0, 0, 0, 0.3));\n",
              "      fill: #FFFFFF;\n",
              "    }\n",
              "  </style>\n",
              "\n",
              "      <script>\n",
              "        const buttonEl =\n",
              "          document.querySelector('#df-f4b222ff-e63f-4865-99ad-9c8a0c170aad button.colab-df-convert');\n",
              "        buttonEl.style.display =\n",
              "          google.colab.kernel.accessAllowed ? 'block' : 'none';\n",
              "\n",
              "        async function convertToInteractive(key) {\n",
              "          const element = document.querySelector('#df-f4b222ff-e63f-4865-99ad-9c8a0c170aad');\n",
              "          const dataTable =\n",
              "            await google.colab.kernel.invokeFunction('convertToInteractive',\n",
              "                                                     [key], {});\n",
              "          if (!dataTable) return;\n",
              "\n",
              "          const docLinkHtml = 'Like what you see? Visit the ' +\n",
              "            '<a target=\"_blank\" href=https://colab.research.google.com/notebooks/data_table.ipynb>data table notebook</a>'\n",
              "            + ' to learn more about interactive tables.';\n",
              "          element.innerHTML = '';\n",
              "          dataTable['output_type'] = 'display_data';\n",
              "          await google.colab.output.renderOutput(dataTable, element);\n",
              "          const docLink = document.createElement('div');\n",
              "          docLink.innerHTML = docLinkHtml;\n",
              "          element.appendChild(docLink);\n",
              "        }\n",
              "      </script>\n",
              "    </div>\n",
              "  </div>\n",
              "  "
            ]
          },
          "metadata": {},
          "execution_count": 4
        }
      ],
      "source": [
        "df['sentiment'] = df['sentiment'].apply(lambda x: 1. if x == 'positive' else 0.)\n",
        "df.head()"
      ]
    },
    {
      "cell_type": "code",
      "execution_count": 5,
      "metadata": {
        "colab": {
          "base_uri": "https://localhost:8080/"
        },
        "id": "8jU_fIY7oDRn",
        "outputId": "edc0ffda-1965-4463-ec60-fa5febf8e9e4"
      },
      "outputs": [
        {
          "output_type": "execute_result",
          "data": {
            "text/plain": [
              "1.0    25000\n",
              "0.0    25000\n",
              "Name: sentiment, dtype: int64"
            ]
          },
          "metadata": {},
          "execution_count": 5
        }
      ],
      "source": [
        "df['sentiment'].value_counts()"
      ]
    },
    {
      "cell_type": "markdown",
      "metadata": {
        "id": "5AKbP5HdD0Zz"
      },
      "source": [
        "### train / test set 분할"
      ]
    },
    {
      "cell_type": "code",
      "execution_count": 6,
      "metadata": {
        "colab": {
          "base_uri": "https://localhost:8080/"
        },
        "execution": {
          "iopub.execute_input": "2021-12-29T11:51:38.203854Z",
          "iopub.status.busy": "2021-12-29T11:51:38.203548Z",
          "iopub.status.idle": "2021-12-29T11:51:38.299696Z",
          "shell.execute_reply": "2021-12-29T11:51:38.298887Z",
          "shell.execute_reply.started": "2021-12-29T11:51:38.203822Z"
        },
        "id": "fwC5hySrD0Zz",
        "outputId": "f3eb775a-8be0-4ef8-c8b5-52dee7cb9f1a"
      },
      "outputs": [
        {
          "output_type": "execute_result",
          "data": {
            "text/plain": [
              "((40000,), (10000,), (40000,), (10000,))"
            ]
          },
          "metadata": {},
          "execution_count": 6
        }
      ],
      "source": [
        "X = df['review'].values\n",
        "y = df['sentiment'].values\n",
        "\n",
        "train_sentences, test_sentences, train_labels, test_labels = \\\n",
        "                train_test_split(X, y, test_size=0.2, random_state=0)\n",
        "                \n",
        "train_sentences.shape, test_sentences.shape, train_labels.shape, test_labels.shape"
      ]
    },
    {
      "cell_type": "markdown",
      "metadata": {
        "id": "LH6n8Ji-D0Z0"
      },
      "source": [
        "## keras.preprocessing module 을 이용하여 tokenize 및 padding\n",
        "- keras.preprocessing.text.Tokenizer  \n",
        "    - 문장을 tokenize\n",
        "\n",
        "- keras.preprocessing.sequence.pad_sequence\n",
        "    - 동일한 길이의 입력으로 truncate/pad"
      ]
    },
    {
      "cell_type": "code",
      "execution_count": 7,
      "metadata": {
        "id": "B1yxj2fkwVuE"
      },
      "outputs": [],
      "source": [
        "from tensorflow.keras.preprocessing.text import Tokenizer\n",
        "from tensorflow.keras.preprocessing.sequence import pad_sequences\n",
        "\n",
        "vocab_size = 10000  #maximum number of words\n",
        "\n",
        "tokenizer = Tokenizer(num_words = vocab_size, oov_token='<OOV>')\n",
        "tokenizer.fit_on_texts(train_sentences)"
      ]
    },
    {
      "cell_type": "markdown",
      "metadata": {
        "id": "-gUBM2Pry0rB"
      },
      "source": [
        "- tokenizer의 dictionary를 이용하여 text 를 integer의 sequence로 변환"
      ]
    },
    {
      "cell_type": "code",
      "execution_count": 8,
      "metadata": {
        "colab": {
          "base_uri": "https://localhost:8080/"
        },
        "id": "UwYtxouCwnjo",
        "outputId": "43dabd68-9ca6-49c2-a2e1-593a6052803d"
      },
      "outputs": [
        {
          "output_type": "stream",
          "name": "stdout",
          "text": [
            "That's about the only redeeming quality in a movie that otherwise insults the viewer's intelligence by losing track of time, plot, and reason for being produced.<br /><br />Plus, how that guy with the glasses ever got a gig in Hollywood is beyond me.\n",
            "[197, 42, 2, 62, 1713, 482, 9, 4, 18, 13, 885, 7196, 2, 6150, 1722, 32, 2350, 1379, 5, 57, 114, 3, 286, 17, 110, 1018, 8, 8, 923, 88, 13, 220, 16, 2, 4349, 123, 191, 4, 8165, 9, 373, 7, 682, 69]\n"
          ]
        }
      ],
      "source": [
        "train_sequences = tokenizer.texts_to_sequences(train_sentences)\n",
        "test_sequences = tokenizer.texts_to_sequences(test_sentences)\n",
        "\n",
        "print(train_sentences[0])\n",
        "print(train_sequences[0])"
      ]
    },
    {
      "cell_type": "markdown",
      "metadata": {
        "id": "bAArOy_9Lh0s"
      },
      "source": [
        "- sentence length 분포 시각화"
      ]
    },
    {
      "cell_type": "code",
      "execution_count": 9,
      "metadata": {
        "colab": {
          "base_uri": "https://localhost:8080/",
          "height": 468
        },
        "id": "4f7CakNCw0OQ",
        "outputId": "2e9834b6-4969-4fe3-afae-24d6508b9744"
      },
      "outputs": [
        {
          "output_type": "stream",
          "name": "stdout",
          "text": [
            "가장 긴 문장 길이 : 2493\n",
            "평균 문장 길이 : 234.5575\n"
          ]
        },
        {
          "output_type": "display_data",
          "data": {
            "text/plain": [
              "<Figure size 640x480 with 1 Axes>"
            ],
            "image/png": "[encoded data removed]"
          },
          "metadata": {}
        }
      ],
      "source": [
        "plt.hist([len(s) for s in train_sequences] + [len(s) for s in test_sequences], bins=50)\n",
        "\n",
        "print('가장 긴 문장 길이 : {}'.format(max([len(s) for s in train_sequences])))\n",
        "print('평균 문장 길이 : {}'.format(sum([len(s) for s in train_sequences])/len(train_sequences)))"
      ]
    },
    {
      "cell_type": "markdown",
      "metadata": {
        "id": "Q0rE6YxvD0Z3"
      },
      "source": [
        "### Padding\n",
        "- 전체 sequence 를 동일한 길이로 통일"
      ]
    },
    {
      "cell_type": "code",
      "execution_count": 10,
      "metadata": {
        "colab": {
          "base_uri": "https://localhost:8080/"
        },
        "id": "HNy76J6ED0Z3",
        "outputId": "7047a521-f919-44b9-d7df-dc071ddef548"
      },
      "outputs": [
        {
          "output_type": "stream",
          "name": "stdout",
          "text": [
            "(40000, 300)\n",
            "(10000, 300)\n",
            "[ 197   42    2   62 1713  482    9    4   18   13  885 7196    2 6150\n",
            " 1722   32 2350 1379    5   57  114    3  286   17  110 1018    8    8\n",
            "  923   88   13  220   16    2 4349  123  191    4 8165    9  373    7\n",
            "  682   69    0    0    0    0    0    0    0    0    0    0    0    0\n",
            "    0    0    0    0    0    0    0    0    0    0    0    0    0    0\n",
            "    0    0    0    0    0    0    0    0    0    0    0    0    0    0\n",
            "    0    0    0    0    0    0    0    0    0    0    0    0    0    0\n",
            "    0    0    0    0    0    0    0    0    0    0    0    0    0    0\n",
            "    0    0    0    0    0    0    0    0    0    0    0    0    0    0\n",
            "    0    0    0    0    0    0    0    0    0    0    0    0    0    0\n",
            "    0    0    0    0    0    0    0    0    0    0    0    0    0    0\n",
            "    0    0    0    0    0    0    0    0    0    0    0    0    0    0\n",
            "    0    0    0    0    0    0    0    0    0    0    0    0    0    0\n",
            "    0    0    0    0    0    0    0    0    0    0    0    0    0    0\n",
            "    0    0    0    0    0    0    0    0    0    0    0    0    0    0\n",
            "    0    0    0    0    0    0    0    0    0    0    0    0    0    0\n",
            "    0    0    0    0    0    0    0    0    0    0    0    0    0    0\n",
            "    0    0    0    0    0    0    0    0    0    0    0    0    0    0\n",
            "    0    0    0    0    0    0    0    0    0    0    0    0    0    0\n",
            "    0    0    0    0    0    0    0    0    0    0    0    0    0    0\n",
            "    0    0    0    0    0    0    0    0    0    0    0    0    0    0\n",
            "    0    0    0    0    0    0]\n"
          ]
        }
      ],
      "source": [
        "max_length = 300\n",
        "\n",
        "train_padded = pad_sequences(train_sequences, maxlen=max_length, \n",
        "                             truncating='post', padding='post')\n",
        "\n",
        "test_padded = pad_sequences(test_sequences, maxlen=max_length, \n",
        "                            truncating='post', padding='post')\n",
        "\n",
        "print(train_padded.shape)\n",
        "print(test_padded.shape)\n",
        "print(train_padded[0])"
      ]
    },
    {
      "cell_type": "markdown",
      "metadata": {
        "id": "8MWm6kxyL_NJ"
      },
      "source": [
        "- sequence data 를 sentence 로 reverse conversion 하여 sequence 변환이 잘 되었는지 확인"
      ]
    },
    {
      "cell_type": "code",
      "execution_count": 11,
      "metadata": {
        "colab": {
          "base_uri": "https://localhost:8080/"
        },
        "id": "eu6vZgTCxaw2",
        "outputId": "a9eec71e-0826-44e2-f326-f589731d61af"
      },
      "outputs": [
        {
          "output_type": "stream",
          "name": "stdout",
          "text": [
            "that's about the only redeeming quality in a movie that otherwise insults the viewer's intelligence by losing track of time plot and reason for being produced br br plus how that guy with the glasses ever got a gig in hollywood is beyond me <pad> <pad> <pad> <pad> <pad> <pad> <pad> <pad> <pad> <pad> <pad> <pad> <pad> <pad> <pad> <pad> <pad> <pad> <pad> <pad> <pad> <pad> <pad> <pad> <pad> <pad> <pad> <pad> <pad> <pad> <pad> <pad> <pad> <pad> <pad> <pad> <pad> <pad> <pad> <pad> <pad> <pad> <pad> <pad> <pad> <pad> <pad> <pad> <pad> <pad> <pad> <pad> <pad> <pad> <pad> <pad> <pad> <pad> <pad> <pad> <pad> <pad> <pad> <pad> <pad> <pad> <pad> <pad> <pad> <pad> <pad> <pad> <pad> <pad> <pad> <pad> <pad> <pad> <pad> <pad> <pad> <pad> <pad> <pad> <pad> <pad> <pad> <pad> <pad> <pad> <pad> <pad> <pad> <pad> <pad> <pad> <pad> <pad> <pad> <pad> <pad> <pad> <pad> <pad> <pad> <pad> <pad> <pad> <pad> <pad> <pad> <pad> <pad> <pad> <pad> <pad> <pad> <pad> <pad> <pad> <pad> <pad> <pad> <pad> <pad> <pad> <pad> <pad> <pad> <pad> <pad> <pad> <pad> <pad> <pad> <pad> <pad> <pad> <pad> <pad> <pad> <pad> <pad> <pad> <pad> <pad> <pad> <pad> <pad> <pad> <pad> <pad> <pad> <pad> <pad> <pad> <pad> <pad> <pad> <pad> <pad> <pad> <pad> <pad> <pad> <pad> <pad> <pad> <pad> <pad> <pad> <pad> <pad> <pad> <pad> <pad> <pad> <pad> <pad> <pad> <pad> <pad> <pad> <pad> <pad> <pad> <pad> <pad> <pad> <pad> <pad> <pad> <pad> <pad> <pad> <pad> <pad> <pad> <pad> <pad> <pad> <pad> <pad> <pad> <pad> <pad> <pad> <pad> <pad> <pad> <pad> <pad> <pad> <pad> <pad> <pad> <pad> <pad> <pad> <pad> <pad> <pad> <pad> <pad> <pad> <pad> <pad> <pad> <pad> <pad> <pad> <pad> <pad> <pad> <pad> <pad> <pad> <pad> <pad> <pad> <pad> <pad> <pad> <pad> <pad> <pad> <pad> <pad> <pad> <pad> <pad> <pad> <pad> <pad> <pad> <pad>\n",
            "\n",
            "That's about the only redeeming quality in a movie that otherwise insults the viewer's intelligence by losing track of time, plot, and reason for being produced.<br /><br />Plus, how that guy with the glasses ever got a gig in Hollywood is beyond me.\n"
          ]
        }
      ],
      "source": [
        "text = train_padded[0]\n",
        "print(' '.join([tokenizer.index_word.get(i, '<pad>') for i in text]))\n",
        "print()\n",
        "print(train_sentences[0])"
      ]
    },
    {
      "cell_type": "markdown",
      "metadata": {
        "id": "f97qGl4SD0Z4"
      },
      "source": [
        "### `TensorDataset`을 이용하여 numpy sequence data 를 tensor dataloader 로 변환"
      ]
    },
    {
      "cell_type": "code",
      "execution_count": 12,
      "metadata": {
        "id": "1_Ml1-ZviFbx"
      },
      "outputs": [],
      "source": [
        "# Tensor datasets 생성\n",
        "\n",
        "train_data = TensorDataset(torch.LongTensor(train_padded), torch.FloatTensor(train_labels))\n",
        "valid_data = TensorDataset(torch.LongTensor(test_padded), torch.FloatTensor(test_labels))\n",
        "\n",
        "# dataloader 생성\n",
        "batch_size = 50\n",
        "train_loader = DataLoader(train_data, shuffle=True, batch_size=batch_size)\n",
        "valid_loader = DataLoader(valid_data, shuffle=False, batch_size=batch_size)"
      ]
    },
    {
      "cell_type": "code",
      "execution_count": 13,
      "metadata": {
        "colab": {
          "base_uri": "https://localhost:8080/"
        },
        "id": "OCGcncXnD0Z4",
        "outputId": "1ac260db-f6b2-4c96-9525-556a00c1e653"
      },
      "outputs": [
        {
          "output_type": "stream",
          "name": "stdout",
          "text": [
            "Sample input size: torch.Size([50, 300])\n",
            "Sample label size: torch.Size([50])\n"
          ]
        }
      ],
      "source": [
        "# training data의 batch 한 개 출력\n",
        "sample_X, sample_y =next(iter(train_loader))\n",
        "\n",
        "print('Sample input size:', sample_X.size()) # batch_size, seq_length\n",
        "print('Sample label size:', sample_y.size())"
      ]
    },
    {
      "cell_type": "markdown",
      "metadata": {
        "id": "xe--HG3bD0Z5"
      },
      "source": [
        "### Model 생성\n",
        "\n",
        "<img src=\"https://miro.medium.com/max/875/1*SICYykT7ybua1gVJDNlajw.png\"  width=600 />"
      ]
    },
    {
      "cell_type": "code",
      "execution_count": 14,
      "metadata": {
        "id": "wGSsjdjYD0Z5"
      },
      "outputs": [],
      "source": [
        "class SentimentRNN(nn.Module):\n",
        "    def __init__(self, no_layers, vocab_size, embedding_dim, \n",
        "                         hidden_dim, output_dim, drop_prob=0.3):\n",
        "        super().__init__()\n",
        "        self.output_dim = output_dim\n",
        "        self.hidden_dim = hidden_dim\n",
        "\n",
        "        self.no_layers = no_layers\n",
        "        self.vocab_size = vocab_size\n",
        "\n",
        "        # 임베딩 레이어. 각 단어를 embedding_dim 차원의 벡터로 변환합니다.\n",
        "        self.embedding = nn.Embedding(vocab_size, embedding_dim)\n",
        "        \n",
        "        # LSTM 레이어. 입력 차원(embedding_dim), hidden state 차원(hidden_dim)을 인자로 받습니다.\n",
        "        self.lstm = nn.LSTM(input_size = embedding_dim, hidden_size = hidden_dim,\n",
        "                        num_layers = no_layers, batch_first = True)\n",
        "        \n",
        "        # Dropout 레이어. 과적합을 방지하기 위해 사용합니다.\n",
        "        self.dropout = nn.Dropout(drop_prob)\n",
        "\n",
        "        # Fully-connected 레이어. LSTM의 hidden state를 입력으로 받아 output_dim 차원으로 출력합니다.\n",
        "        self.fc = nn.Linear(hidden_dim, output_dim)\n",
        "        \n",
        "        # Sigmoid 레이어. Binary classification 문제에서 출력을 확률로 해석할 수 있게 합니다.\n",
        "        self.sig = nn.Sigmoid()\n",
        "        \n",
        "    def forward(self, x, hidden):\n",
        "        # batch_size는 한 번에 처리하는 데이터의 양입니다.\n",
        "        batch_size = x.size(0)\n",
        "        \n",
        "        # 입력 x를 임베딩 레이어에 통과시켜 임베딩 벡터를 얻습니다.\n",
        "        embeds = self.embedding(x)  \n",
        "        \n",
        "        # 임베딩 벡터와 초기 hidden state를 LSTM에 통과시켜 새로운 hidden state를 얻습니다.\n",
        "        lstm_out, hidden = self.lstm(embeds, hidden)\n",
        "        \n",
        "        # batch_first를 True로 설정했기 때문에 lstm_out의 shape는 (batch_size, seq_length, hidden_dim)이 됩니다.\n",
        "        lstm_out = lstm_out.reshape(batch_size, -1, self.hidden_dim) \n",
        "\n",
        "        # dropout 레이어를 통과시킵니다.\n",
        "        out = self.dropout(lstm_out)\n",
        "        \n",
        "        # Fully-connected 레이어를 통과시킵니다.\n",
        "        out = self.fc(out)     \n",
        "    \n",
        "        # 최종 출력을 위해 sigmoid 레이어를 통과시킵니다.\n",
        "        sig_out = self.sig(out)\n",
        "        \n",
        "        # many-to-one 모델이므로 시퀀스의 마지막 출력만 반환합니다.\n",
        "        return sig_out[:, -1], hidden\n",
        "        \n",
        "    def init_hidden(self, batch_size):\n",
        "        ''' 초기 hidden state를 생성하는 함수 '''\n",
        "        # h0, c0는 각각 초기 hidden state와 cell state를 의미합니다.\n",
        "        h0 = torch.zeros((self.no_layers, batch_size, self.hidden_dim)).to(device)\n",
        "        c0 = torch.zeros((self.no_layers, batch_size, self.hidden_dim)).to(device)\n",
        "        return (h0, c0)"
      ]
    },
    {
      "cell_type": "code",
      "execution_count": 15,
      "metadata": {
        "colab": {
          "base_uri": "https://localhost:8080/"
        },
        "id": "oBmCW0xVD0Z5",
        "outputId": "5d695e6b-4444-4638-d1aa-ed5f4f57e6ca"
      },
      "outputs": [
        {
          "output_type": "execute_result",
          "data": {
            "text/plain": [
              "SentimentRNN(\n",
              "  (embedding): Embedding(10001, 64)\n",
              "  (lstm): LSTM(64, 256, batch_first=True)\n",
              "  (dropout): Dropout(p=0.3, inplace=False)\n",
              "  (fc): Linear(in_features=256, out_features=1, bias=True)\n",
              "  (sig): Sigmoid()\n",
              ")"
            ]
          },
          "metadata": {},
          "execution_count": 15
        }
      ],
      "source": [
        "no_layers = 1\n",
        "vocab_size = vocab_size + 1 #extra 1 for padding\n",
        "embedding_dim = 64\n",
        "output_dim = 1\n",
        "hidden_dim = 256\n",
        "\n",
        "model = SentimentRNN(no_layers, vocab_size, embedding_dim, \n",
        "                                  hidden_dim, output_dim, drop_prob=0.3)\n",
        "\n",
        "model.to(device)"
      ]
    },
    {
      "cell_type": "markdown",
      "metadata": {
        "id": "zl05hs2PD0Z5"
      },
      "source": [
        "### Training"
      ]
    },
    {
      "cell_type": "code",
      "execution_count": 16,
      "metadata": {
        "id": "tYVVaF6BD0Z6"
      },
      "outputs": [],
      "source": [
        "lr=0.001\n",
        "\n",
        "criterion = nn.BCELoss()\n",
        "optimizer = torch.optim.Adam(model.parameters(), lr=lr)\n",
        "\n",
        "# accuracy 계산 helper function\n",
        "def acc(pred, label):\n",
        "    pred = torch.round(pred.squeeze())\n",
        "    return torch.sum(pred == label.squeeze()).item()"
      ]
    },
    {
      "cell_type": "code",
      "execution_count": 17,
      "metadata": {
        "colab": {
          "base_uri": "https://localhost:8080/"
        },
        "id": "DC0T94WoD0Z6",
        "outputId": "2c4582aa-8d94-47b1-8665-5c5c1a64eb1e"
      },
      "outputs": [
        {
          "output_type": "stream",
          "name": "stdout",
          "text": [
            "epoch 0 ==> train loss: 0.01389,  valididation loss: 0.01385 train acc: 0.50160, validation acc: 0.51430\n",
            "model saved.............\n",
            "epoch 1 ==> train loss: 0.01381,  valididation loss: 0.01379 train acc: 0.51428, validation acc: 0.52300\n",
            "model saved.............\n",
            "epoch 2 ==> train loss: 0.01362,  valididation loss: 0.01389 train acc: 0.53600, validation acc: 0.49660\n",
            "epoch 3 ==> train loss: 0.01358,  valididation loss: 0.01389 train acc: 0.54260, validation acc: 0.52190\n",
            "epoch 4 ==> train loss: 0.01166,  valididation loss: 0.01272 train acc: 0.70668, validation acc: 0.65140\n",
            "model saved.............\n",
            "epoch 5 ==> train loss: 0.00979,  valididation loss: 0.00906 train acc: 0.78705, validation acc: 0.80570\n",
            "model saved.............\n",
            "epoch 6 ==> train loss: 0.00737,  valididation loss: 0.00798 train acc: 0.84842, validation acc: 0.83940\n",
            "model saved.............\n",
            "epoch 7 ==> train loss: 0.00602,  valididation loss: 0.00760 train acc: 0.87628, validation acc: 0.84900\n",
            "model saved.............\n",
            "epoch 8 ==> train loss: 0.00492,  valididation loss: 0.00690 train acc: 0.90215, validation acc: 0.86260\n",
            "model saved.............\n",
            "epoch 9 ==> train loss: 0.00399,  valididation loss: 0.00724 train acc: 0.92402, validation acc: 0.86060\n",
            "1.7597060044606527\n"
          ]
        }
      ],
      "source": [
        "import time\n",
        "s = time.time()  # 시작 시간 저장\n",
        "clip = 5  # 그래디언트 클리핑에 사용될 값\n",
        "epochs = 10  # 전체 학습 반복 횟수\n",
        "valid_loss_min = np.inf  # 검증 데이터에 대한 최소 손실값 초기화\n",
        "\n",
        "LOSS, VAL_LOSS, ACC, VAL_ACC = [], [], [], []  # 손실과 정확도를 기록할 리스트 초기화\n",
        "\n",
        "for epoch in range(epochs):  # 전체 데이터셋에 대한 학습을 epoch 횟수만큼 반복\n",
        "    model.train()  # 모델을 학습 상태로 설정\n",
        "    \n",
        "    train_loss = 0  # 학습 데이터에 대한 손실 초기화\n",
        "    train_acc = 0  # 학습 데이터에 대한 정확도 초기화\n",
        "    for inputs, labels in train_loader:  # 학습 데이터셋에 대하여\n",
        "        optimizer.zero_grad()  # 최적화 함수의 그래디언트 초기화\n",
        "\n",
        "        inputs, labels = inputs.to(device), labels.to(device)   # 데이터와 레이블을 device로 이동 (GPU 사용 시 필요)\n",
        "        \n",
        "        h = model.init_hidden(batch_size)  # 히든 상태 초기화\n",
        "\n",
        "        output, hidden = model(inputs, h)  # 모델의 순방향 패스 실행\n",
        "        \n",
        "        loss = criterion(output.squeeze(), labels)  # 손실 계산\n",
        "\n",
        "        train_loss += loss.item()  # 배치에 대한 총 손실을 더함\n",
        "        accuracy = acc(output, labels)  # 정확도 계산\n",
        "        train_acc += accuracy  # 배치에 대한 총 정확도를 더함\n",
        "\n",
        "        loss.backward()  # 역방향 패스 실행 (그래디언트 계산)\n",
        "        nn.utils.clip_grad_norm_(model.parameters(), clip)  # 그래디언트 클리핑 (그래디언트 폭발 방지)\n",
        "        optimizer.step()  # 가중치 업데이트\n",
        "\n",
        "    train_loss = train_loss / len(train_data)  # 에폭에 대한 평균 학습 손실\n",
        "    train_acc = train_acc / len(train_data)  # 에폭에 대한 평균 학습 정확도\n",
        "    LOSS.append(train_loss)  # 학습 손실 기록\n",
        "    ACC.append(train_acc)  # 학습 정확도 기록\n",
        "\n",
        "    \n",
        "    model.eval()  # 모델을 평가 상태로 설정\n",
        "\n",
        "    val_loss = 0  # 검증 데이터에 대한 손실 초기화\n",
        "    val_acc = 0  # 검증 데이터에 대한 정확도 초기화\n",
        "    for inputs, labels in valid_loader:  # 검증 데이터셋에 대하여\n",
        "\n",
        "        inputs, labels = inputs.to(device), labels.to(device)  # 데이터와 레이블을 device로 이동 (GPU 사용 시 필요)\n",
        "\n",
        "        h = model.init_hidden(batch_size)  # 히든 상태 초기화\n",
        "        \n",
        "        output, hidden = model(inputs, h)  # 모델의 순방향 패스 실행\n",
        "\n",
        "        loss = criterion(output.squeeze(), labels)  # 손실 계산\n",
        "\n",
        "        val_loss +=  loss.item()  # 배치에 대한 총 손실을 더함\n",
        "        \n",
        "        accuracy = acc(output, labels)  # 정확도 계산\n",
        "        val_acc += accuracy  # 배치에 대한 총 정확도를 더함\n",
        "\n",
        "    val_loss = val_loss / len(valid_data)  # 에폭에 대한 평균 검증 손실\n",
        "    val_acc = val_acc / len(valid_data)  # 에폭에 대한 평균 검증 정확도\n",
        "    VAL_LOSS.append(val_loss)  # 검증 손실 기록\n",
        "    VAL_ACC.append(val_acc)  # 검증 정확도 기록\n",
        "\n",
        "    print(f'epoch {epoch} ==> train loss: {train_loss:.5f},  valididation loss: {val_loss:.5f}',  \n",
        "                                            f'train acc: {train_acc:.5f}, validation acc: {val_acc:.5f}')  # 에폭마다 학습 손실, 검증 손실, 학습 정확도, 검증 정확도 출력\n",
        "    \n",
        "    if val_loss <= valid_loss_min:  # 만약 이 에폭의 검증 손실이 이전 최소 검증 손실보다 작다면\n",
        "        torch.save(model.state_dict(), 'state_dict.pt')  # 모델의 상태를 저장\n",
        "        print('model saved.............')  # 모델 저장 완료 메시지 출력\n",
        "        valid_loss_min = val_loss  # 최소 검증 손실 업데이트\n",
        "\n",
        "print((time.time() - s)/60)  # 전체 학습 시간 출력 (분 단위)"
      ]
    },
    {
      "cell_type": "code",
      "execution_count": 18,
      "metadata": {
        "colab": {
          "base_uri": "https://localhost:8080/",
          "height": 335
        },
        "id": "rCP_D_4mD0Z6",
        "outputId": "53088f46-ab00-4f34-81c2-5af6f2086388"
      },
      "outputs": [
        {
          "output_type": "display_data",
          "data": {
            "text/plain": [
              "<Figure size 2000x600 with 2 Axes>"
            ],
            "image/png": "[encoded data removed]"
          },
          "metadata": {}
        }
      ],
      "source": [
        "fig = plt.figure(figsize = (20, 6))\n",
        "plt.subplot(1, 2, 1)\n",
        "plt.plot(ACC, label='Train')\n",
        "plt.plot(VAL_ACC, label='Validation')\n",
        "plt.title(\"Accuracy\")\n",
        "plt.legend()\n",
        "plt.grid()\n",
        "    \n",
        "plt.subplot(1, 2, 2)\n",
        "plt.plot(LOSS, label='Train')\n",
        "plt.plot(VAL_LOSS, label='Validation')\n",
        "plt.title(\"Loss\")\n",
        "plt.legend()\n",
        "plt.grid()\n",
        "\n",
        "plt.show()"
      ]
    },
    {
      "cell_type": "markdown",
      "metadata": {
        "id": "8pt33zRXD0Z6"
      },
      "source": [
        "### Inferance"
      ]
    },
    {
      "cell_type": "code",
      "execution_count": 19,
      "metadata": {
        "id": "9TRGIjX2Womp"
      },
      "outputs": [],
      "source": [
        "def predict_text(text):  # 텍스트에 대한 예측을 수행하는 함수 정의\n",
        "    sequences = tokenizer.texts_to_sequences([text])  # 텍스트를 시퀀스로 변환\n",
        "    padded = pad_sequences(sequences, maxlen=max_length, \n",
        "                            truncating='post', padding='post')  # 시퀀스를 동일한 길이로 패딩\n",
        "    inputs = torch.tensor(padded).to(device)  # 패딩된 시퀀스를 텐서로 변환하고, 장치에 할당 (GPU 사용 시 필요)\n",
        "    h = model.init_hidden(1)  # 히든 상태 초기화\n",
        "    output, hidden = model(inputs, h)  # 모델의 순방향 패스를 실행하여 출력값과 히든 상태 얻음\n",
        "    return output.item()  # 출력값을 반환"
      ]
    },
    {
      "cell_type": "code",
      "execution_count": 20,
      "metadata": {
        "colab": {
          "base_uri": "https://localhost:8080/",
          "height": 55
        },
        "id": "TCYMultTZm2Q",
        "outputId": "8a31c011-b703-473c-acab-2e86dcdcfa8b"
      },
      "outputs": [
        {
          "output_type": "stream",
          "name": "stdout",
          "text": [
            "0.2172255516052246\n"
          ]
        },
        {
          "output_type": "execute_result",
          "data": {
            "text/plain": [
              "'negative'"
            ],
            "application/vnd.google.colaboratory.intrinsic+json": {
              "type": "string"
            }
          },
          "metadata": {},
          "execution_count": 20
        }
      ],
      "source": [
        "text = \"It's a really boring movie. I hate it.\"\n",
        "pred = predict_text(text)\n",
        "print(pred)\n",
        "\"positive\" if pred > 0.5 else \"negative\""
      ]
    },
    {
      "cell_type": "code",
      "execution_count": 21,
      "metadata": {
        "colab": {
          "base_uri": "https://localhost:8080/",
          "height": 55
        },
        "id": "JMY6FV-5ZYEd",
        "outputId": "b34ade11-3516-454f-c5f1-f47baf59c863"
      },
      "outputs": [
        {
          "output_type": "stream",
          "name": "stdout",
          "text": [
            "0.713868260383606\n"
          ]
        },
        {
          "output_type": "execute_result",
          "data": {
            "text/plain": [
              "'positive'"
            ],
            "application/vnd.google.colaboratory.intrinsic+json": {
              "type": "string"
            }
          },
          "metadata": {},
          "execution_count": 21
        }
      ],
      "source": [
        "text = \"The movei was fantastic. I would recommend the movie.\"\n",
        "pred = predict_text(text)\n",
        "print(pred)\n",
        "\"positive\" if pred > 0.5 else \"negative\""
      ]
    },
    {
      "cell_type": "code",
      "execution_count": 22,
      "metadata": {
        "colab": {
          "base_uri": "https://localhost:8080/",
          "height": 55
        },
        "id": "Vpfbt4_HlJNK",
        "outputId": "6c9e5bd7-d2e5-4b1f-a5b5-7f071026c4e7"
      },
      "outputs": [
        {
          "output_type": "stream",
          "name": "stdout",
          "text": [
            "0.9590961933135986\n"
          ]
        },
        {
          "output_type": "execute_result",
          "data": {
            "text/plain": [
              "'positive'"
            ],
            "application/vnd.google.colaboratory.intrinsic+json": {
              "type": "string"
            }
          },
          "metadata": {},
          "execution_count": 22
        }
      ],
      "source": [
        "text = \"The animation and graphics were out of this world.\"\n",
        "pred = predict_text(text)\n",
        "print(pred)\n",
        "\"positive\" if pred > 0.5 else \"negative\""
      ]
    },
    {
      "cell_type": "code",
      "execution_count": 22,
      "metadata": {
        "id": "ZAGpG18repLa"
      },
      "outputs": [],
      "source": []
    }
  ],
  "metadata": {
    "accelerator": "GPU",
    "colab": {
      "provenance": [],
      "machine_shape": "hm",
      "gpuType": "A100"
    },
    "kernelspec": {
      "display_name": "Python 3",
      "name": "python3"
    },
    "language_info": {
      "codemirror_mode": {
        "name": "ipython",
        "version": 3
      },
      "file_extension": ".py",
      "mimetype": "text/x-python",
      "name": "python",
      "nbconvert_exporter": "python",
      "pygments_lexer": "ipython3",
      "version": "3.9.7"
    }
  },
  "nbformat": 4,
  "nbformat_minor": 0
}