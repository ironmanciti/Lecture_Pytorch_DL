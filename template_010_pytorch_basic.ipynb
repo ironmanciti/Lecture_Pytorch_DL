{
 "cells": [
  {
   "cell_type": "markdown",
   "metadata": {
    "id": "bptrBsIN0aIK"
   },
   "source": [
    "# 010. PyTorch basic"
   ]
  },
  {
   "cell_type": "markdown",
   "metadata": {
    "id": "FYOdFDxP0aIR"
   },
   "source": [
    "## Tensor Data Types\n",
    "\n",
    "<img src=\"https://miro.medium.com/max/875/1*-C10tKbZ2h0Zd7maau86oQ.png\" height=\"400\" />"
   ]
  },
  {
   "cell_type": "markdown",
   "metadata": {
    "id": "hDMoQIgGV10z"
   },
   "source": [
    "### torch.tensor 함수\n",
    "\n",
    "`tensor(data, dtype=None, device=None, requires_grad=False) -> Tensor`\n",
    "\n",
    "     data (array_like): list, tuple, numpy ndarray, scalar, and other types.\n",
    "     dtype :  `None`인 경우 `data`에서 데이터 유형을 유추합니다.  \n",
    "     device : `cpu`, `cuda`  \n",
    "     require_grad(bool, optional): autograd가 작업을 기록해야 하는 경우"
   ]
  },
  {
   "cell_type": "markdown",
   "metadata": {
    "id": "3_x6xXPPV100"
   },
   "source": [
    "Float torch tensor 생성"
   ]
  },
  {
   "cell_type": "markdown",
   "metadata": {
    "id": "77WegQUXV102"
   },
   "source": [
    "Integer tensor 생성"
   ]
  },
  {
   "cell_type": "markdown",
   "metadata": {
    "id": "NtdNbgjR0aIU"
   },
   "source": [
    "## 1D Tensor Operation\n",
    "\n",
    "### tensor 생성"
   ]
  },
  {
   "cell_type": "markdown",
   "metadata": {
    "id": "jx-H1RPX0aIX"
   },
   "source": [
    "### Tensor Type 변환\n",
    "\n",
    "- cpu <--> gpu"
   ]
  },
  {
   "cell_type": "markdown",
   "metadata": {
    "id": "6yb70D7F0aIa"
   },
   "source": [
    "### Tensor 생성\n",
    "\n",
    "- 무작위로 초기화된 행렬 생성 (uniform distribution)"
   ]
  },
  {
   "cell_type": "markdown",
   "metadata": {
    "id": "XdplE1BX0aIb"
   },
   "source": [
    "- dtype이 long이고 0으로 채워진 행렬 생성"
   ]
  },
  {
   "cell_type": "markdown",
   "metadata": {
    "id": "RX0uBf2g0aIc"
   },
   "source": [
    "- python list로 부터 tensor 생성"
   ]
  },
  {
   "cell_type": "markdown",
   "metadata": {
    "id": "_F_MBE6Y0aId"
   },
   "source": [
    "## Tensor 의 shape & dimension (rank)"
   ]
  },
  {
   "cell_type": "markdown",
   "metadata": {
    "id": "HV3UkTgU0aIf"
   },
   "source": [
    "## reshape\n",
    "- torch.view : original tensor의 memory 공유 (contiguity 제한)\n",
    "- torch.reshape: contiguity 제한 없음. 필요에 따라 new tensor 생성. numpy 와 유사한 operation을 위해 기능 제공"
   ]
  },
  {
   "cell_type": "markdown",
   "metadata": {
    "id": "SOr0fUj50aIg"
   },
   "source": [
    "## numpy 와 tensor 간의 호환성\n",
    "\n",
    "- memory 를 공유하므로 하나를 수정하면 나머지에 모두 반영  "
   ]
  },
  {
   "cell_type": "markdown",
   "metadata": {
    "id": "M7tI-oW-0aIi"
   },
   "source": [
    "## Scalar value \n",
    "\n",
    "- 만약 tensor에 하나의 값만 존재한다면, ``.item()`` method를 사용하여 scalar 숫자 값을 얻을 수 있습니다.  "
   ]
  },
  {
   "cell_type": "markdown",
   "metadata": {
    "id": "79_l6-6Jr3A4"
   },
   "source": [
    "- tensor 가 array 형태인 경우 `numpy()` method 를 통해 ndarray 반환"
   ]
  },
  {
   "cell_type": "markdown",
   "metadata": {
    "id": "ROH69NYU0aIl"
   },
   "source": [
    "## Tensor 의 indexing & slicing\n",
    "\n",
    "- Python 의 indexing & slicing 과 동일"
   ]
  },
  {
   "cell_type": "markdown",
   "metadata": {
    "id": "LnsztCIG0aIm"
   },
   "source": [
    "## Basic Operations - numpy 와 동일"
   ]
  },
  {
   "cell_type": "markdown",
   "metadata": {
    "id": "Wgub6XlE0aIo"
   },
   "source": [
    "## 기타"
   ]
  },
  {
   "cell_type": "markdown",
   "metadata": {
    "id": "2f9PE9hp0aIs"
   },
   "source": [
    "## 2D Tensor Operation"
   ]
  },
  {
   "cell_type": "markdown",
   "metadata": {
    "id": "z_nDsdhp0aIs"
   },
   "source": [
    "- ndimension  \n",
    "- shape  \n",
    "- size()  \n",
    "- numel (number of elements)"
   ]
  },
  {
   "cell_type": "markdown",
   "metadata": {
    "id": "rWCAskEP0aIw"
   },
   "source": [
    "### Concatenation\n",
    "\n",
    "- default - first axis(row-wise)로 concatenate\n",
    "- column-wise로 concatenate 하려면 axis=1 로 지정"
   ]
  },
  {
   "cell_type": "markdown",
   "metadata": {
    "id": "rId3CNLU0aIx"
   },
   "source": [
    "### torch.sum, torch.max, torch.min, torch.argmax, torch.argmin\n",
    "\n",
    "- torch.sum(input, dim, keepdim=False, dtype=None) → Tensor  \n",
    "주어진 차원 dim에서 입력 텐서의 각 행의 합(max, min)을 반환합니다.\n",
    "\n",
    "- dim 을 지정한 경우, 지정된 dim을 축소하는 것입니다. 따라서 dim 0(행)을 접으면 하나의 행이 됩니다(열 단위로 합산)."
   ]
  }
 ],
 "metadata": {
  "accelerator": "GPU",
  "colab": {
   "provenance": []
  },
  "gpuClass": "standard",
  "kernelspec": {
   "display_name": "Python 3 (ipykernel)",
   "language": "python",
   "name": "python3"
  },
  "language_info": {
   "codemirror_mode": {
    "name": "ipython",
    "version": 3
   },
   "file_extension": ".py",
   "mimetype": "text/x-python",
   "name": "python",
   "nbconvert_exporter": "python",
   "pygments_lexer": "ipython3",
   "version": "3.9.7"
  }
 },
 "nbformat": 4,
 "nbformat_minor": 1
}
