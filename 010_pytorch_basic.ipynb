{
 "cells": [
  {
   "cell_type": "markdown",
   "metadata": {
    "id": "bptrBsIN0aIK"
   },
   "source": [
    "# 010. PyTorch basic"
   ]
  },
  {
   "cell_type": "code",
   "execution_count": 1,
   "metadata": {
    "colab": {
     "base_uri": "https://localhost:8080/",
     "height": 36
    },
    "id": "FWfvDn9z0aIO",
    "outputId": "c3d005f6-39d1-418c-d445-ef467252699a"
   },
   "outputs": [
    {
     "data": {
      "application/vnd.google.colaboratory.intrinsic+json": {
       "type": "string"
      },
      "text/plain": [
       "'cuda:0'"
      ]
     },
     "execution_count": 1,
     "metadata": {},
     "output_type": "execute_result"
    }
   ],
   "source": [
    "import torch\n",
    "import numpy as np\n",
    "import matplotlib.pyplot as plt\n",
    "\n",
    "device = \"cuda:0\" if torch.cuda.is_available() else \"cpu\"\n",
    "device"
   ]
  },
  {
   "cell_type": "code",
   "execution_count": 2,
   "metadata": {
    "colab": {
     "base_uri": "https://localhost:8080/",
     "height": 36
    },
    "id": "RBDb9nT4aMMr",
    "outputId": "122f2995-dbe2-40bd-9849-6e6edc9c84ea"
   },
   "outputs": [
    {
     "data": {
      "application/vnd.google.colaboratory.intrinsic+json": {
       "type": "string"
      },
      "text/plain": [
       "'2.0.1+cu118'"
      ]
     },
     "execution_count": 2,
     "metadata": {},
     "output_type": "execute_result"
    }
   ],
   "source": [
    "torch.__version__"
   ]
  },
  {
   "cell_type": "markdown",
   "metadata": {
    "id": "FYOdFDxP0aIR"
   },
   "source": [
    "## Tensor Data Types\n",
    "\n",
    "<img src=\"https://miro.medium.com/max/875/1*-C10tKbZ2h0Zd7maau86oQ.png\" height=\"400\" />"
   ]
  },
  {
   "cell_type": "markdown",
   "metadata": {
    "id": "hDMoQIgGV10z"
   },
   "source": [
    "### torch.tensor 함수\n",
    "\n",
    "`tensor(data, dtype=None, device=None, requires_grad=False) -> Tensor`\n",
    "\n",
    "     data (array_like): list, tuple, numpy ndarray, scalar, and other types.\n",
    "     dtype :  `None`인 경우 `data`에서 데이터 유형을 유추합니다.  \n",
    "     device : `cpu`, `cuda`  \n",
    "     require_grad(bool, optional): autograd가 작업을 기록해야 하는 경우"
   ]
  },
  {
   "cell_type": "markdown",
   "metadata": {
    "id": "3_x6xXPPV100"
   },
   "source": [
    "Float torch tensor 생성"
   ]
  },
  {
   "cell_type": "code",
   "execution_count": 3,
   "metadata": {
    "colab": {
     "base_uri": "https://localhost:8080/"
    },
    "id": "SOUKmrQd0aIR",
    "outputId": "99912daf-8a4f-4ae0-d36e-6b34fcdceed5"
   },
   "outputs": [
    {
     "name": "stdout",
     "output_type": "stream",
     "text": [
      "float64 \t torch.float64\n"
     ]
    }
   ],
   "source": [
    "# numpy array 생성\n",
    "a = np.ones((2, 3))\n",
    "# tensor  생성\n",
    "b = torch.tensor(a)\n",
    "# dtype\n",
    "print(a.dtype, '\\t', b.dtype)"
   ]
  },
  {
   "cell_type": "code",
   "execution_count": 4,
   "metadata": {
    "colab": {
     "base_uri": "https://localhost:8080/"
    },
    "id": "dKTlCKQk0aIS",
    "outputId": "1e339c24-b058-41fe-a4e6-d7cdea48495e"
   },
   "outputs": [
    {
     "name": "stdout",
     "output_type": "stream",
     "text": [
      "float32 \t torch.float32\n"
     ]
    }
   ],
   "source": [
    "# numpy 생성\n",
    "a = np.ones((2, 3), dtype=\"float32\")\n",
    "# tensor 생성\n",
    "b = torch.tensor(a)\n",
    "# dtype\n",
    "print(a.dtype, '\\t', b.dtype)"
   ]
  },
  {
   "cell_type": "markdown",
   "metadata": {
    "id": "77WegQUXV102"
   },
   "source": [
    "Integer tensor 생성"
   ]
  },
  {
   "cell_type": "code",
   "execution_count": 5,
   "metadata": {
    "colab": {
     "base_uri": "https://localhost:8080/"
    },
    "id": "YECq91Ru0aIS",
    "outputId": "9bf2a758-46a2-4f49-f7b1-de57f2fa843b"
   },
   "outputs": [
    {
     "data": {
      "text/plain": [
       "tensor([[1, 2, 3],\n",
       "        [4, 5, 6]], dtype=torch.int32)"
      ]
     },
     "execution_count": 5,
     "metadata": {},
     "output_type": "execute_result"
    }
   ],
   "source": [
    "x = torch.tensor([[1, 2, 3], [4, 5, 6]], dtype=torch.int32)\n",
    "x"
   ]
  },
  {
   "cell_type": "code",
   "execution_count": 6,
   "metadata": {
    "colab": {
     "base_uri": "https://localhost:8080/"
    },
    "id": "CcpX1maC0aIT",
    "outputId": "edc00ae1-a906-4fbb-df9b-78d8f5354e54"
   },
   "outputs": [
    {
     "data": {
      "text/plain": [
       "tensor([[1, 2, 3],\n",
       "        [4, 5, 6]], device='cuda:0', dtype=torch.int32)"
      ]
     },
     "execution_count": 6,
     "metadata": {},
     "output_type": "execute_result"
    }
   ],
   "source": [
    "x = torch.tensor([[1, 2, 3], [4, 5, 6]], dtype=torch.int32, device=device)\n",
    "x"
   ]
  },
  {
   "cell_type": "markdown",
   "metadata": {
    "id": "NtdNbgjR0aIU"
   },
   "source": [
    "## 1D Tensor Operation\n",
    "\n",
    "### tensor 생성"
   ]
  },
  {
   "cell_type": "code",
   "execution_count": 7,
   "metadata": {
    "colab": {
     "base_uri": "https://localhost:8080/"
    },
    "id": "E9tPSvWC0aIV",
    "outputId": "9f60a0d7-fbe5-4c8d-f849-919cf2644c82"
   },
   "outputs": [
    {
     "data": {
      "text/plain": [
       "(tensor(1), tensor(5))"
      ]
     },
     "execution_count": 7,
     "metadata": {},
     "output_type": "execute_result"
    }
   ],
   "source": [
    "a = torch.tensor([1, 2, 3, 4, 5])\n",
    "\n",
    "a[0], a[-1]"
   ]
  },
  {
   "cell_type": "code",
   "execution_count": 8,
   "metadata": {
    "colab": {
     "base_uri": "https://localhost:8080/"
    },
    "id": "xfMlsCA3tS4Q",
    "outputId": "0d922a5e-c348-43a5-d14a-89b7b45d1b11"
   },
   "outputs": [
    {
     "data": {
      "text/plain": [
       "torch.Size([5])"
      ]
     },
     "execution_count": 8,
     "metadata": {},
     "output_type": "execute_result"
    }
   ],
   "source": [
    "a.size()"
   ]
  },
  {
   "cell_type": "code",
   "execution_count": 9,
   "metadata": {
    "colab": {
     "base_uri": "https://localhost:8080/"
    },
    "id": "hanzRpv8tS4R",
    "outputId": "82bb1900-818d-49b7-becc-b34b912cbb72"
   },
   "outputs": [
    {
     "data": {
      "text/plain": [
       "1"
      ]
     },
     "execution_count": 9,
     "metadata": {},
     "output_type": "execute_result"
    }
   ],
   "source": [
    "a.ndimension()"
   ]
  },
  {
   "cell_type": "code",
   "execution_count": 10,
   "metadata": {
    "colab": {
     "base_uri": "https://localhost:8080/"
    },
    "id": "AGn52TuStS4R",
    "outputId": "025e0fde-d0f8-4684-ef98-93553bf47c8c"
   },
   "outputs": [
    {
     "data": {
      "text/plain": [
       "tensor([[1],\n",
       "        [2],\n",
       "        [3],\n",
       "        [4],\n",
       "        [5]])"
      ]
     },
     "execution_count": 10,
     "metadata": {},
     "output_type": "execute_result"
    }
   ],
   "source": [
    "a.view(5, 1)"
   ]
  },
  {
   "cell_type": "code",
   "execution_count": 11,
   "metadata": {
    "colab": {
     "base_uri": "https://localhost:8080/"
    },
    "id": "V-fCsOir0aIW",
    "outputId": "af0218e4-862c-4050-aa75-ed944f410e2d",
    "scrolled": true
   },
   "outputs": [
    {
     "data": {
      "text/plain": [
       "tensor([0., 1., 2., 3., 4.])"
      ]
     },
     "execution_count": 11,
     "metadata": {},
     "output_type": "execute_result"
    }
   ],
   "source": [
    "# cpu tensor\n",
    "a = torch.FloatTensor([0, 1, 2, 3, 4])\n",
    "a"
   ]
  },
  {
   "cell_type": "code",
   "execution_count": 12,
   "metadata": {
    "colab": {
     "base_uri": "https://localhost:8080/"
    },
    "id": "vaWaOjX10aIX",
    "outputId": "61a04147-7525-4458-9f72-b3369be5592f"
   },
   "outputs": [
    {
     "data": {
      "text/plain": [
       "tensor([0., 1., 2., 3., 4.], device='cuda:0')"
      ]
     },
     "execution_count": 12,
     "metadata": {},
     "output_type": "execute_result"
    }
   ],
   "source": [
    "# gpu tensor\n",
    "a = torch.cuda.FloatTensor([0, 1, 2, 3, 4])\n",
    "a"
   ]
  },
  {
   "cell_type": "markdown",
   "metadata": {
    "id": "jx-H1RPX0aIX"
   },
   "source": [
    "### Tensor Type 변환\n",
    "\n",
    "- cpu <--> gpu"
   ]
  },
  {
   "cell_type": "code",
   "execution_count": 13,
   "metadata": {
    "colab": {
     "base_uri": "https://localhost:8080/"
    },
    "id": "uNaqQAfV0aIY",
    "outputId": "7eec6894-f641-4011-f4fd-0dd88e6f3dfd"
   },
   "outputs": [
    {
     "data": {
      "text/plain": [
       "tensor([0., 1., 2., 3., 4.])"
      ]
     },
     "execution_count": 13,
     "metadata": {},
     "output_type": "execute_result"
    }
   ],
   "source": [
    "# cpu tensor\n",
    "a = a.type(torch.FloatTensor)\n",
    "a"
   ]
  },
  {
   "cell_type": "code",
   "execution_count": 14,
   "metadata": {
    "colab": {
     "base_uri": "https://localhost:8080/"
    },
    "id": "cqzQEqrv0aIY",
    "outputId": "8d5f4a63-94fa-4a7d-d536-6a8178648154"
   },
   "outputs": [
    {
     "data": {
      "text/plain": [
       "tensor([0., 1., 2., 3., 4.], device='cuda:0')"
      ]
     },
     "execution_count": 14,
     "metadata": {},
     "output_type": "execute_result"
    }
   ],
   "source": [
    "# gpu tensor\n",
    "b = a.to(device)\n",
    "b"
   ]
  },
  {
   "cell_type": "code",
   "execution_count": 15,
   "metadata": {
    "colab": {
     "base_uri": "https://localhost:8080/"
    },
    "id": "ngVGxSjx0aIZ",
    "outputId": "9776df81-851e-462f-bb5b-28c7bf2375ef"
   },
   "outputs": [
    {
     "data": {
      "text/plain": [
       "tensor([0., 1., 2., 3., 4.], device='cuda:0')"
      ]
     },
     "execution_count": 15,
     "metadata": {},
     "output_type": "execute_result"
    }
   ],
   "source": [
    "b = a.cuda()\n",
    "b"
   ]
  },
  {
   "cell_type": "code",
   "execution_count": 16,
   "metadata": {
    "colab": {
     "base_uri": "https://localhost:8080/"
    },
    "id": "9mUqqm4K0aIZ",
    "outputId": "aec57558-d07a-4e9f-cf6c-b979e6d24218"
   },
   "outputs": [
    {
     "data": {
      "text/plain": [
       "tensor([0., 1., 2., 3., 4.], device='cuda:0')"
      ]
     },
     "execution_count": 16,
     "metadata": {},
     "output_type": "execute_result"
    }
   ],
   "source": [
    "c = a.type(torch.cuda.FloatTensor)\n",
    "c"
   ]
  },
  {
   "cell_type": "code",
   "execution_count": 17,
   "metadata": {
    "colab": {
     "base_uri": "https://localhost:8080/"
    },
    "id": "SO5KKyhq0aIZ",
    "outputId": "48aebaf8-f9d0-4d7e-f330-405377277d9c"
   },
   "outputs": [
    {
     "data": {
      "text/plain": [
       "tensor([0., 1., 2., 3., 4.])"
      ]
     },
     "execution_count": 17,
     "metadata": {},
     "output_type": "execute_result"
    }
   ],
   "source": [
    "# cpu tensor\n",
    "d = b.to(\"cpu\")\n",
    "d"
   ]
  },
  {
   "cell_type": "code",
   "execution_count": 18,
   "metadata": {
    "colab": {
     "base_uri": "https://localhost:8080/"
    },
    "id": "jARC3_Tf0aIZ",
    "outputId": "5e11a745-1c89-40de-d04b-cbddc6a76935"
   },
   "outputs": [
    {
     "data": {
      "text/plain": [
       "tensor([0., 1., 2., 3., 4.])"
      ]
     },
     "execution_count": 18,
     "metadata": {},
     "output_type": "execute_result"
    }
   ],
   "source": [
    "e = c.cpu()\n",
    "e"
   ]
  },
  {
   "cell_type": "markdown",
   "metadata": {
    "id": "6yb70D7F0aIa"
   },
   "source": [
    "### Tensor 생성\n",
    "\n",
    "- 무작위로 초기화된 행렬 생성 (uniform distribution)"
   ]
  },
  {
   "cell_type": "code",
   "execution_count": 31,
   "metadata": {
    "colab": {
     "base_uri": "https://localhost:8080/"
    },
    "id": "M1ohi1oc0aIa",
    "outputId": "4ec66ae1-d530-473c-e7d4-65de2dff22b7"
   },
   "outputs": [
    {
     "name": "stdout",
     "output_type": "stream",
     "text": [
      "tensor([[0.3130, 0.0149, 0.0053],\n",
      "        [0.8379, 0.6235, 0.2854],\n",
      "        [0.8923, 0.2663, 0.6834],\n",
      "        [0.8489, 0.4078, 0.6265],\n",
      "        [0.9464, 0.6870, 0.3076]])\n",
      "torch.float32\n"
     ]
    }
   ],
   "source": [
    "x = torch.rand(5, 3) \n",
    "print(x)\n",
    "print(x.dtype)"
   ]
  },
  {
   "cell_type": "markdown",
   "metadata": {
    "id": "XdplE1BX0aIb"
   },
   "source": [
    "- dtype이 long이고 0으로 채워진 행렬 생성"
   ]
  },
  {
   "cell_type": "code",
   "execution_count": 30,
   "metadata": {
    "colab": {
     "base_uri": "https://localhost:8080/"
    },
    "id": "5gLRQs6M0aIb",
    "outputId": "3e6afb62-d583-4787-fd10-63040947cc4b"
   },
   "outputs": [
    {
     "name": "stdout",
     "output_type": "stream",
     "text": [
      "tensor([[0, 0, 0],\n",
      "        [0, 0, 0],\n",
      "        [0, 0, 0],\n",
      "        [0, 0, 0],\n",
      "        [0, 0, 0]])\n",
      "torch.int64\n"
     ]
    }
   ],
   "source": [
    "x = torch.zeros(5, 3, dtype=torch.long)\n",
    "print(x)\n",
    "print(x.dtype)"
   ]
  },
  {
   "cell_type": "markdown",
   "metadata": {
    "id": "RX0uBf2g0aIc"
   },
   "source": [
    "- python list로 부터 tensor 생성"
   ]
  },
  {
   "cell_type": "code",
   "execution_count": 32,
   "metadata": {
    "colab": {
     "base_uri": "https://localhost:8080/"
    },
    "id": "_9TfISuo0aIc",
    "outputId": "f977da4a-6f56-4fb2-b311-3579f1fe345c"
   },
   "outputs": [
    {
     "data": {
      "text/plain": [
       "('torch.LongTensor', torch.int64)"
      ]
     },
     "execution_count": 32,
     "metadata": {},
     "output_type": "execute_result"
    }
   ],
   "source": [
    "a = torch.tensor([7, 4, 3, 2, 6])\n",
    "a.type(), a.dtype"
   ]
  },
  {
   "cell_type": "code",
   "execution_count": 33,
   "metadata": {
    "colab": {
     "base_uri": "https://localhost:8080/"
    },
    "id": "5Yg6Wqe-0aIc",
    "outputId": "0b5665d9-69ef-4f0a-84b6-9440da32ea9b"
   },
   "outputs": [
    {
     "data": {
      "text/plain": [
       "('torch.FloatTensor', torch.float32)"
      ]
     },
     "execution_count": 33,
     "metadata": {},
     "output_type": "execute_result"
    }
   ],
   "source": [
    "b = torch.FloatTensor([7, 4, 3, 2, 6])\n",
    "b.type(), b.dtype"
   ]
  },
  {
   "cell_type": "code",
   "execution_count": 34,
   "metadata": {
    "colab": {
     "base_uri": "https://localhost:8080/"
    },
    "id": "GUVEvrw10aIc",
    "outputId": "c0e7f8eb-5016-4640-8f31-d1216c203610"
   },
   "outputs": [
    {
     "data": {
      "text/plain": [
       "tensor([True, True, True, True, True])"
      ]
     },
     "execution_count": 34,
     "metadata": {},
     "output_type": "execute_result"
    }
   ],
   "source": [
    "a == b"
   ]
  },
  {
   "cell_type": "markdown",
   "metadata": {
    "id": "_F_MBE6Y0aId"
   },
   "source": [
    "## Tensor 의 shape & dimension (rank)"
   ]
  },
  {
   "cell_type": "code",
   "execution_count": 36,
   "metadata": {
    "colab": {
     "base_uri": "https://localhost:8080/"
    },
    "id": "ptYfxewn0aIe",
    "outputId": "cc4eab63-5c86-4060-9a5a-2aee5c63ba99"
   },
   "outputs": [
    {
     "data": {
      "text/plain": [
       "torch.Size([5])"
      ]
     },
     "execution_count": 36,
     "metadata": {},
     "output_type": "execute_result"
    }
   ],
   "source": [
    "a = torch.Tensor([0, 1, 2, 3, 4])\n",
    "a.size()"
   ]
  },
  {
   "cell_type": "code",
   "execution_count": 37,
   "metadata": {
    "colab": {
     "base_uri": "https://localhost:8080/"
    },
    "id": "R5VHrcai0aIe",
    "outputId": "f64ba3b1-dad9-44d6-84d8-f900e3e61d7c"
   },
   "outputs": [
    {
     "data": {
      "text/plain": [
       "torch.Size([5])"
      ]
     },
     "execution_count": 37,
     "metadata": {},
     "output_type": "execute_result"
    }
   ],
   "source": [
    "# size() 와 shape 은 alias\n",
    "a.shape"
   ]
  },
  {
   "cell_type": "code",
   "execution_count": 38,
   "metadata": {
    "colab": {
     "base_uri": "https://localhost:8080/"
    },
    "id": "fXSRrETw0aIe",
    "outputId": "69554ab3-f1b3-4945-ff60-138b2df79333"
   },
   "outputs": [
    {
     "data": {
      "text/plain": [
       "1"
      ]
     },
     "execution_count": 38,
     "metadata": {},
     "output_type": "execute_result"
    }
   ],
   "source": [
    "a.ndimension()"
   ]
  },
  {
   "cell_type": "markdown",
   "metadata": {
    "id": "HV3UkTgU0aIf"
   },
   "source": [
    "## reshape\n",
    "- torch.view : original tensor의 memory 공유 (contiguity 제한)\n",
    "- torch.reshape: contiguity 제한 없음. 필요에 따라 new tensor 생성. numpy 와 유사한 operation을 위해 기능 제공"
   ]
  },
  {
   "cell_type": "code",
   "execution_count": 39,
   "metadata": {
    "colab": {
     "base_uri": "https://localhost:8080/"
    },
    "id": "92KIceAi0aIf",
    "outputId": "ae09f03f-547d-43f6-adf9-a36a585172be"
   },
   "outputs": [
    {
     "name": "stdout",
     "output_type": "stream",
     "text": [
      "tensor([0., 1., 2., 3., 4.])\n",
      "tensor([[0.],\n",
      "        [1.],\n",
      "        [2.],\n",
      "        [3.],\n",
      "        [4.]])\n",
      "tensor([[0.],\n",
      "        [1.],\n",
      "        [2.],\n",
      "        [3.],\n",
      "        [4.]])\n"
     ]
    }
   ],
   "source": [
    "print(a)\n",
    "print(a.view(5, 1))\n",
    "print(a.reshape(5, 1))"
   ]
  },
  {
   "cell_type": "code",
   "execution_count": 40,
   "metadata": {
    "colab": {
     "base_uri": "https://localhost:8080/"
    },
    "id": "aWgmcHz20aIg",
    "outputId": "6aa5951c-845a-4d75-90f5-2ef26756471a"
   },
   "outputs": [
    {
     "name": "stdout",
     "output_type": "stream",
     "text": [
      "torch.Size([4, 4]) torch.Size([16]) torch.Size([2, 8])\n"
     ]
    }
   ],
   "source": [
    "x = torch.randn(4, 4)\n",
    "y = x.view(16)\n",
    "z = x.view(-1, 8)        \n",
    "\n",
    "print(x.size(), y.size(), z.size())"
   ]
  },
  {
   "cell_type": "code",
   "execution_count": 41,
   "metadata": {
    "colab": {
     "base_uri": "https://localhost:8080/"
    },
    "id": "r1v8vnT9CvF9",
    "outputId": "3fbe6de8-4299-4102-9e90-07ac2f63670d"
   },
   "outputs": [
    {
     "name": "stdout",
     "output_type": "stream",
     "text": [
      "torch.Size([4, 4]) torch.Size([16]) torch.Size([2, 8])\n"
     ]
    }
   ],
   "source": [
    "x = torch.randn(4, 4)\n",
    "y = x.reshape(16)\n",
    "z = x.reshape(-1, 8)         \n",
    "\n",
    "print(x.size(), y.size(), z.size())"
   ]
  },
  {
   "cell_type": "code",
   "execution_count": 42,
   "metadata": {
    "colab": {
     "base_uri": "https://localhost:8080/"
    },
    "id": "I4FQGB4PaMM1",
    "outputId": "fea4dd24-2b7e-435e-b603-aa45ce64b9be"
   },
   "outputs": [
    {
     "data": {
      "text/plain": [
       "tensor([[-0.4406, -1.3764,  1.4053, -0.5151],\n",
       "        [-1.5786, -0.2970, -0.6030, -0.2987],\n",
       "        [-1.2694, -0.7228,  1.3517, -0.2331],\n",
       "        [ 1.2605, -0.0420,  0.3699,  1.3131]])"
      ]
     },
     "execution_count": 42,
     "metadata": {},
     "output_type": "execute_result"
    }
   ],
   "source": [
    "x = torch.randn(4, 4)\n",
    "x"
   ]
  },
  {
   "cell_type": "code",
   "execution_count": 43,
   "metadata": {
    "colab": {
     "base_uri": "https://localhost:8080/"
    },
    "id": "j1XuEjb-aMM1",
    "outputId": "a2fa2312-fc91-4c4b-a953-206310bb47c0"
   },
   "outputs": [
    {
     "data": {
      "text/plain": [
       "True"
      ]
     },
     "execution_count": 43,
     "metadata": {},
     "output_type": "execute_result"
    }
   ],
   "source": [
    "x.is_contiguous()"
   ]
  },
  {
   "cell_type": "code",
   "execution_count": 44,
   "metadata": {
    "colab": {
     "base_uri": "https://localhost:8080/"
    },
    "id": "aYFmgqGGelDv",
    "outputId": "bff92e82-895a-4203-f6c1-134dd351ad5e"
   },
   "outputs": [
    {
     "data": {
      "text/plain": [
       "tensor([[-0.4406, -1.5786, -1.2694,  1.2605],\n",
       "        [-1.3764, -0.2970, -0.7228, -0.0420],\n",
       "        [ 1.4053, -0.6030,  1.3517,  0.3699],\n",
       "        [-0.5151, -0.2987, -0.2331,  1.3131]])"
      ]
     },
     "execution_count": 44,
     "metadata": {},
     "output_type": "execute_result"
    }
   ],
   "source": [
    "# dim0, dim1 을 swap\n",
    "x.transpose(0, 1)"
   ]
  },
  {
   "cell_type": "code",
   "execution_count": 45,
   "metadata": {
    "colab": {
     "base_uri": "https://localhost:8080/"
    },
    "id": "YB4bwzM4aMM1",
    "outputId": "9e33a054-6d7e-42c8-bdbe-585c5fcf9f3b"
   },
   "outputs": [
    {
     "data": {
      "text/plain": [
       "False"
      ]
     },
     "execution_count": 45,
     "metadata": {},
     "output_type": "execute_result"
    }
   ],
   "source": [
    "x.transpose(0, 1).is_contiguous()"
   ]
  },
  {
   "cell_type": "code",
   "execution_count": 46,
   "metadata": {
    "colab": {
     "base_uri": "https://localhost:8080/"
    },
    "id": "u38JNAQDdrcZ",
    "outputId": "65da448f-80c9-4b42-8208-c347aa4fabbb"
   },
   "outputs": [
    {
     "data": {
      "text/plain": [
       "tensor([[-0.4406, -1.5786, -1.2694,  1.2605, -1.3764, -0.2970, -0.7228, -0.0420],\n",
       "        [ 1.4053, -0.6030,  1.3517,  0.3699, -0.5151, -0.2987, -0.2331,  1.3131]])"
      ]
     },
     "execution_count": 46,
     "metadata": {},
     "output_type": "execute_result"
    }
   ],
   "source": [
    "x.transpose(0, 1).reshape(-1, 8)"
   ]
  },
  {
   "cell_type": "code",
   "execution_count": 47,
   "metadata": {
    "colab": {
     "base_uri": "https://localhost:8080/",
     "height": 198
    },
    "id": "sYwFK4Che4UH",
    "outputId": "328f4103-26a7-4560-a594-2f937b1715d7"
   },
   "outputs": [
    {
     "ename": "RuntimeError",
     "evalue": "ignored",
     "output_type": "error",
     "traceback": [
      "\u001b[0;31m---------------------------------------------------------------------------\u001b[0m",
      "\u001b[0;31mRuntimeError\u001b[0m                              Traceback (most recent call last)",
      "\u001b[0;32m<ipython-input-47-56f6b0949c01>\u001b[0m in \u001b[0;36m<cell line: 1>\u001b[0;34m()\u001b[0m\n\u001b[0;32m----> 1\u001b[0;31m \u001b[0mx\u001b[0m\u001b[0;34m.\u001b[0m\u001b[0mtranspose\u001b[0m\u001b[0;34m(\u001b[0m\u001b[0;36m0\u001b[0m\u001b[0;34m,\u001b[0m \u001b[0;36m1\u001b[0m\u001b[0;34m)\u001b[0m\u001b[0;34m.\u001b[0m\u001b[0mview\u001b[0m\u001b[0;34m(\u001b[0m\u001b[0;34m-\u001b[0m\u001b[0;36m1\u001b[0m\u001b[0;34m,\u001b[0m \u001b[0;36m8\u001b[0m\u001b[0;34m)\u001b[0m\u001b[0;34m\u001b[0m\u001b[0;34m\u001b[0m\u001b[0m\n\u001b[0m",
      "\u001b[0;31mRuntimeError\u001b[0m: view size is not compatible with input tensor's size and stride (at least one dimension spans across two contiguous subspaces). Use .reshape(...) instead."
     ]
    }
   ],
   "source": [
    "x.transpose(0, 1).view(-1, 8)"
   ]
  },
  {
   "cell_type": "markdown",
   "metadata": {
    "id": "SOr0fUj50aIg"
   },
   "source": [
    "## numpy 와 tensor 간의 호환성\n",
    "\n",
    "- memory 를 공유하므로 하나를 수정하면 나머지에 모두 반영  "
   ]
  },
  {
   "cell_type": "code",
   "execution_count": 48,
   "metadata": {
    "colab": {
     "base_uri": "https://localhost:8080/"
    },
    "id": "G6Gk3T1L0aIg",
    "outputId": "3c981037-bd2b-4c29-84e3-8ab50a786b14"
   },
   "outputs": [
    {
     "data": {
      "text/plain": [
       "tensor([0., 1., 2., 3., 4., 5.], dtype=torch.float64)"
      ]
     },
     "execution_count": 48,
     "metadata": {},
     "output_type": "execute_result"
    }
   ],
   "source": [
    "numpy_array = np.array([0.0, 1.0, 2.0, 3.0, 4.0, 5.0])       # numpy array\n",
    "torch_tensor = torch.from_numpy(numpy_array)               # torch tensor\n",
    "torch_tensor "
   ]
  },
  {
   "cell_type": "code",
   "execution_count": 49,
   "metadata": {
    "colab": {
     "base_uri": "https://localhost:8080/"
    },
    "id": "P1x1lBo70aIh",
    "outputId": "8d523268-0250-4940-9eff-05b766ce1871"
   },
   "outputs": [
    {
     "data": {
      "text/plain": [
       "array([0., 1., 2., 3., 4., 5.])"
      ]
     },
     "execution_count": 49,
     "metadata": {},
     "output_type": "execute_result"
    }
   ],
   "source": [
    "back_to_numpy = torch_tensor.numpy()           # numpy array\n",
    "back_to_numpy"
   ]
  },
  {
   "cell_type": "code",
   "execution_count": 50,
   "metadata": {
    "colab": {
     "base_uri": "https://localhost:8080/"
    },
    "id": "PFxj24eI0aIh",
    "outputId": "7bbc9216-156c-4f0c-9ad4-bc984904472a"
   },
   "outputs": [
    {
     "data": {
      "text/plain": [
       "(array([0., 1., 2., 3., 4., 5.]),\n",
       " tensor([0., 1., 2., 3., 4., 5.], dtype=torch.float64),\n",
       " array([0., 1., 2., 3., 4., 5.]))"
      ]
     },
     "execution_count": 50,
     "metadata": {},
     "output_type": "execute_result"
    }
   ],
   "source": [
    "numpy_array, torch_tensor, back_to_numpy"
   ]
  },
  {
   "cell_type": "code",
   "execution_count": 51,
   "metadata": {
    "colab": {
     "base_uri": "https://localhost:8080/"
    },
    "id": "Bm76gZrW0aIh",
    "outputId": "238cf0dc-0e76-434f-f462-11b8775d9989"
   },
   "outputs": [
    {
     "data": {
      "text/plain": [
       "(array([100.,   1.,   2.,   3.,   4.,   5.]),\n",
       " tensor([100.,   1.,   2.,   3.,   4.,   5.], dtype=torch.float64),\n",
       " array([100.,   1.,   2.,   3.,   4.,   5.]))"
      ]
     },
     "execution_count": 51,
     "metadata": {},
     "output_type": "execute_result"
    }
   ],
   "source": [
    "back_to_numpy[0] = 100\n",
    "\n",
    "numpy_array, torch_tensor, back_to_numpy"
   ]
  },
  {
   "cell_type": "markdown",
   "metadata": {
    "id": "M7tI-oW-0aIi"
   },
   "source": [
    "## Scalar value \n",
    "\n",
    "- 만약 tensor에 하나의 값만 존재한다면, ``.item()`` method를 사용하여 scalar 숫자 값을 얻을 수 있습니다.  "
   ]
  },
  {
   "cell_type": "code",
   "execution_count": 52,
   "metadata": {
    "colab": {
     "base_uri": "https://localhost:8080/"
    },
    "id": "nkyd8fiK0aIi",
    "outputId": "3b01b525-6001-49b2-d95f-631d3fd4b813"
   },
   "outputs": [
    {
     "data": {
      "text/plain": [
       "1.5810456275939941"
      ]
     },
     "execution_count": 52,
     "metadata": {},
     "output_type": "execute_result"
    }
   ],
   "source": [
    "x = torch.randn(1)\n",
    "x.item()"
   ]
  },
  {
   "cell_type": "code",
   "execution_count": 53,
   "metadata": {
    "colab": {
     "base_uri": "https://localhost:8080/"
    },
    "id": "UY1-2LF00aIi",
    "outputId": "ea1202b2-8cd5-451d-a132-434e1168db82"
   },
   "outputs": [
    {
     "name": "stdout",
     "output_type": "stream",
     "text": [
      "tensor(5.)\n",
      "5.0\n"
     ]
    }
   ],
   "source": [
    "a = torch.tensor([5., 3., 4., 1.])\n",
    "\n",
    "print(a[0])\n",
    "print(a[0].item())"
   ]
  },
  {
   "cell_type": "markdown",
   "metadata": {
    "id": "79_l6-6Jr3A4"
   },
   "source": [
    "- tensor 가 array 형태인 경우 `numpy()` method 를 통해 ndarray 반환"
   ]
  },
  {
   "cell_type": "code",
   "execution_count": 54,
   "metadata": {
    "colab": {
     "base_uri": "https://localhost:8080/"
    },
    "id": "pbNz9o3_0aIj",
    "outputId": "02579d29-ed7a-4585-ad0d-b8b2ddf4d529"
   },
   "outputs": [
    {
     "name": "stdout",
     "output_type": "stream",
     "text": [
      "tensor([-1.3723,  1.4456])\n",
      "\n",
      "[-1.3723226  1.4455768]\n"
     ]
    }
   ],
   "source": [
    "x = torch.randn(2)\n",
    "print(x)\n",
    "print()\n",
    "print(x.numpy())"
   ]
  },
  {
   "cell_type": "markdown",
   "metadata": {
    "id": "ROH69NYU0aIl"
   },
   "source": [
    "## Tensor 의 indexing & slicing\n",
    "\n",
    "- Python 의 indexing & slicing 과 동일"
   ]
  },
  {
   "cell_type": "code",
   "execution_count": 55,
   "metadata": {
    "colab": {
     "base_uri": "https://localhost:8080/"
    },
    "id": "7QSJN6ok0aIl",
    "outputId": "6b8af90f-8a2d-408b-df40-5a183d095e56"
   },
   "outputs": [
    {
     "data": {
      "text/plain": [
       "(tensor([100,   1,   2,   3,   0]), torch.int64)"
      ]
     },
     "execution_count": 55,
     "metadata": {},
     "output_type": "execute_result"
    }
   ],
   "source": [
    "c = torch.tensor([20, 1, 2, 3, 4])\n",
    "c[0] = 100\n",
    "c[4] = 0\n",
    "c, c.dtype"
   ]
  },
  {
   "cell_type": "code",
   "execution_count": 56,
   "metadata": {
    "colab": {
     "base_uri": "https://localhost:8080/"
    },
    "id": "uJGbU-8c0aIm",
    "outputId": "62a19c2d-8ba6-4342-e2e0-7189f0ac7461"
   },
   "outputs": [
    {
     "data": {
      "text/plain": [
       "tensor([1, 2, 3])"
      ]
     },
     "execution_count": 56,
     "metadata": {},
     "output_type": "execute_result"
    }
   ],
   "source": [
    "d = c[1:4]\n",
    "d"
   ]
  },
  {
   "cell_type": "code",
   "execution_count": 57,
   "metadata": {
    "colab": {
     "base_uri": "https://localhost:8080/"
    },
    "id": "n7nuvxwu0aIm",
    "outputId": "c0ecbef2-b927-494e-8561-7e44e2c41323"
   },
   "outputs": [
    {
     "data": {
      "text/plain": [
       "tensor([100,   1,   2, 300, 400])"
      ]
     },
     "execution_count": 57,
     "metadata": {},
     "output_type": "execute_result"
    }
   ],
   "source": [
    "c[3:5] = torch.tensor([300.0, 400.0])\n",
    "c"
   ]
  },
  {
   "cell_type": "markdown",
   "metadata": {
    "id": "LnsztCIG0aIm"
   },
   "source": [
    "## Basic Operations - numpy 와 동일"
   ]
  },
  {
   "cell_type": "code",
   "execution_count": 58,
   "metadata": {
    "colab": {
     "base_uri": "https://localhost:8080/"
    },
    "id": "kfjfj9Ak0aIm",
    "outputId": "21d6a5b6-4cfc-4252-b547-6a071997d807"
   },
   "outputs": [
    {
     "data": {
      "text/plain": [
       "tensor([1., 1.])"
      ]
     },
     "execution_count": 58,
     "metadata": {},
     "output_type": "execute_result"
    }
   ],
   "source": [
    "# element-wise 덧셈, 뺄셈 \n",
    "u = torch.tensor([1.0, 0.0])\n",
    "v = torch.tensor([0.0, 1.0])\n",
    "z = u + v\n",
    "z"
   ]
  },
  {
   "cell_type": "code",
   "execution_count": 59,
   "metadata": {
    "colab": {
     "base_uri": "https://localhost:8080/"
    },
    "id": "zhgNRITy0aIn",
    "outputId": "d5743c96-6ff2-4d35-ce1b-7e52a9299aed"
   },
   "outputs": [
    {
     "data": {
      "text/plain": [
       "tensor([ 1., -1.])"
      ]
     },
     "execution_count": 59,
     "metadata": {},
     "output_type": "execute_result"
    }
   ],
   "source": [
    "z = u - v\n",
    "z"
   ]
  },
  {
   "cell_type": "code",
   "execution_count": 60,
   "metadata": {
    "colab": {
     "base_uri": "https://localhost:8080/"
    },
    "id": "yuh56pVz0aIn",
    "outputId": "73562f27-7c19-4580-e34a-054fa6534a7e"
   },
   "outputs": [
    {
     "data": {
      "text/plain": [
       "tensor([3, 4])"
      ]
     },
     "execution_count": 60,
     "metadata": {},
     "output_type": "execute_result"
    }
   ],
   "source": [
    "# element-wise 곱셈\n",
    "u = torch.tensor([1, 2])\n",
    "v = torch.tensor([3, 2])\n",
    "z = u * v\n",
    "z"
   ]
  },
  {
   "cell_type": "code",
   "execution_count": 61,
   "metadata": {
    "colab": {
     "base_uri": "https://localhost:8080/"
    },
    "id": "vjapsSQr0aIn",
    "outputId": "f0917092-8900-4356-be92-cc7ba1b602ec"
   },
   "outputs": [
    {
     "data": {
      "text/plain": [
       "tensor([2, 4])"
      ]
     },
     "execution_count": 61,
     "metadata": {},
     "output_type": "execute_result"
    }
   ],
   "source": [
    "# 스칼라 곱\n",
    "y = torch.tensor([1, 2])\n",
    "z = 2 * y\n",
    "z"
   ]
  },
  {
   "cell_type": "markdown",
   "metadata": {
    "id": "Wgub6XlE0aIo"
   },
   "source": [
    "## 기타"
   ]
  },
  {
   "cell_type": "code",
   "execution_count": 62,
   "metadata": {
    "colab": {
     "base_uri": "https://localhost:8080/"
    },
    "id": "daHe6BSz0aIo",
    "outputId": "fbf57e00-0dd7-46dc-87b9-9bd13d51d81b"
   },
   "outputs": [
    {
     "data": {
      "text/plain": [
       "tensor([2, 3, 4, 0])"
      ]
     },
     "execution_count": 62,
     "metadata": {},
     "output_type": "execute_result"
    }
   ],
   "source": [
    "# broadcasting\n",
    "u = torch.tensor([1, 2, 3, -1])\n",
    "z = u + 1          \n",
    "z"
   ]
  },
  {
   "cell_type": "code",
   "execution_count": 63,
   "metadata": {
    "colab": {
     "base_uri": "https://localhost:8080/"
    },
    "id": "YHnjKW0y0aIp",
    "outputId": "de6dcbe4-594f-4f39-8e7c-38a108757adb"
   },
   "outputs": [
    {
     "data": {
      "text/plain": [
       "(tensor(2.2000), tensor(5.), tensor(2.7749))"
      ]
     },
     "execution_count": 63,
     "metadata": {},
     "output_type": "execute_result"
    }
   ],
   "source": [
    "# mean, max, Standard Deviation\n",
    "a = torch.tensor([1, -2, 3, 4, 5], dtype=torch.float32)\n",
    "\n",
    "a.mean(), a.max(), a.std()"
   ]
  },
  {
   "cell_type": "markdown",
   "metadata": {
    "id": "2f9PE9hp0aIs"
   },
   "source": [
    "## 2D Tensor Operation"
   ]
  },
  {
   "cell_type": "code",
   "execution_count": 64,
   "metadata": {
    "colab": {
     "base_uri": "https://localhost:8080/"
    },
    "id": "IGL5sv7U0aIs",
    "outputId": "55295a66-9e85-47ac-d926-30de4c5cfdb5"
   },
   "outputs": [
    {
     "data": {
      "text/plain": [
       "tensor([[11, 12, 13],\n",
       "        [21, 22, 23],\n",
       "        [31, 32, 33],\n",
       "        [41, 42, 43]])"
      ]
     },
     "execution_count": 64,
     "metadata": {},
     "output_type": "execute_result"
    }
   ],
   "source": [
    "_2d_tensor = torch.tensor([[11, 12, 13], [21, 22, 23], [31, 32, 33], [41, 42, 43]])\n",
    "_2d_tensor"
   ]
  },
  {
   "cell_type": "markdown",
   "metadata": {
    "id": "z_nDsdhp0aIs"
   },
   "source": [
    "- ndimension  \n",
    "- shape  \n",
    "- size()  \n",
    "- numel (number of elements)"
   ]
  },
  {
   "cell_type": "code",
   "execution_count": 65,
   "metadata": {
    "colab": {
     "base_uri": "https://localhost:8080/"
    },
    "id": "jF4c_t1S0aIs",
    "outputId": "e29a6353-b007-45dc-d547-ff40a278a562"
   },
   "outputs": [
    {
     "name": "stdout",
     "output_type": "stream",
     "text": [
      "tensor([[11, 12, 13],\n",
      "        [21, 22, 23],\n",
      "        [31, 32, 33],\n",
      "        [41, 42, 43]])\n",
      "2\n",
      "torch.Size([4, 3])\n",
      "torch.Size([4, 3])\n",
      "12\n"
     ]
    }
   ],
   "source": [
    "print(_2d_tensor)\n",
    "print(_2d_tensor.ndimension())\n",
    "print(_2d_tensor.shape)\n",
    "print(_2d_tensor.size())\n",
    "print(_2d_tensor.numel())"
   ]
  },
  {
   "cell_type": "markdown",
   "metadata": {
    "id": "rWCAskEP0aIw"
   },
   "source": [
    "### Concatenation\n",
    "\n",
    "- default - first axis(row-wise)로 concatenate\n",
    "- column-wise로 concatenate 하려면 axis=1 로 지정"
   ]
  },
  {
   "cell_type": "code",
   "execution_count": 66,
   "metadata": {
    "colab": {
     "base_uri": "https://localhost:8080/"
    },
    "id": "nKl42FY2zqGZ",
    "outputId": "fbafa9d3-1bc6-4094-8294-76d5afc3396a"
   },
   "outputs": [
    {
     "name": "stdout",
     "output_type": "stream",
     "text": [
      "tensor([[1, 2, 3],\n",
      "        [4, 5, 6]])\n",
      "tensor([[ 7,  8,  9],\n",
      "        [10, 11, 12]])\n"
     ]
    }
   ],
   "source": [
    "x_1 = torch.tensor([[1, 2, 3], [4, 5, 6]])\n",
    "x_2 = torch.tensor([[7, 8, 9], [10, 11, 12]])\n",
    "print(x_1)\n",
    "print(x_2)"
   ]
  },
  {
   "cell_type": "code",
   "execution_count": 67,
   "metadata": {
    "colab": {
     "base_uri": "https://localhost:8080/"
    },
    "id": "AFRORrYn0aIw",
    "outputId": "05b7729c-e2e3-498f-f577-870f97c59c27"
   },
   "outputs": [
    {
     "data": {
      "text/plain": [
       "tensor([[ 1,  2,  3],\n",
       "        [ 4,  5,  6],\n",
       "        [ 7,  8,  9],\n",
       "        [10, 11, 12]])"
      ]
     },
     "execution_count": 67,
     "metadata": {},
     "output_type": "execute_result"
    }
   ],
   "source": [
    "torch.cat([x_1, x_2])"
   ]
  },
  {
   "cell_type": "code",
   "execution_count": 68,
   "metadata": {
    "colab": {
     "base_uri": "https://localhost:8080/"
    },
    "id": "M07wU-D90aIw",
    "outputId": "13f97033-7b6f-440e-b95f-c16c8f822c68"
   },
   "outputs": [
    {
     "data": {
      "text/plain": [
       "tensor([[ 1,  2,  3,  7,  8,  9],\n",
       "        [ 4,  5,  6, 10, 11, 12]])"
      ]
     },
     "execution_count": 68,
     "metadata": {},
     "output_type": "execute_result"
    }
   ],
   "source": [
    "torch.cat([x_1, x_2], axis=1)"
   ]
  },
  {
   "cell_type": "markdown",
   "metadata": {
    "id": "rId3CNLU0aIx"
   },
   "source": [
    "### torch.sum, torch.max, torch.min, torch.argmax, torch.argmin\n",
    "\n",
    "- torch.sum(input, dim, keepdim=False, dtype=None) → Tensor  \n",
    "주어진 차원 dim에서 입력 텐서의 각 행의 합(max, min)을 반환합니다.\n",
    "\n",
    "- dim 을 지정한 경우, 지정된 dim을 축소하는 것입니다. 따라서 dim 0(행)을 접으면 하나의 행이 됩니다(열 단위로 합산)."
   ]
  },
  {
   "cell_type": "code",
   "execution_count": 69,
   "metadata": {
    "colab": {
     "base_uri": "https://localhost:8080/"
    },
    "id": "hDN0yJwK2IfD",
    "outputId": "c084b18d-9aea-4f61-feac-ebd5fd06345a"
   },
   "outputs": [
    {
     "data": {
      "text/plain": [
       "torch.Size([2, 3])"
      ]
     },
     "execution_count": 69,
     "metadata": {},
     "output_type": "execute_result"
    }
   ],
   "source": [
    "x = torch.tensor([\n",
    "     [1, 2, 3],\n",
    "     [4, 5, 6]\n",
    "   ])\n",
    "x.shape"
   ]
  },
  {
   "cell_type": "code",
   "execution_count": 70,
   "metadata": {
    "colab": {
     "base_uri": "https://localhost:8080/"
    },
    "id": "UW7qLVI82TVz",
    "outputId": "4e0476f5-04d0-429e-d762-70c2676416ef"
   },
   "outputs": [
    {
     "data": {
      "text/plain": [
       "tensor(21)"
      ]
     },
     "execution_count": 70,
     "metadata": {},
     "output_type": "execute_result"
    }
   ],
   "source": [
    "torch.sum(x)"
   ]
  },
  {
   "cell_type": "code",
   "execution_count": 71,
   "metadata": {
    "colab": {
     "base_uri": "https://localhost:8080/"
    },
    "id": "jqe8R1Qx2TPP",
    "outputId": "fc24b422-8110-4a73-be71-d7641d547b85"
   },
   "outputs": [
    {
     "data": {
      "text/plain": [
       "tensor([5, 7, 9])"
      ]
     },
     "execution_count": 71,
     "metadata": {},
     "output_type": "execute_result"
    }
   ],
   "source": [
    "torch.sum(x, dim=0)"
   ]
  },
  {
   "cell_type": "code",
   "execution_count": 72,
   "metadata": {
    "colab": {
     "base_uri": "https://localhost:8080/"
    },
    "id": "8HwxCj4i0aIy",
    "outputId": "16cde4b3-b1b2-4140-fe82-73ed520dcb9e"
   },
   "outputs": [
    {
     "data": {
      "text/plain": [
       "tensor([ 6, 15])"
      ]
     },
     "execution_count": 72,
     "metadata": {},
     "output_type": "execute_result"
    }
   ],
   "source": [
    "torch.sum(x, dim=1)"
   ]
  },
  {
   "cell_type": "code",
   "execution_count": 74,
   "metadata": {
    "colab": {
     "base_uri": "https://localhost:8080/"
    },
    "id": "jLKx8xLnOEcq",
    "outputId": "4bf24c6a-fb0e-4529-d738-7d0a9ce80c6a"
   },
   "outputs": [
    {
     "data": {
      "text/plain": [
       "(tensor([4, 5, 6]), tensor([1, 1, 1]))"
      ]
     },
     "execution_count": 74,
     "metadata": {},
     "output_type": "execute_result"
    }
   ],
   "source": [
    "value, idx = torch.max(x, axis=0)\n",
    "value, idx"
   ]
  },
  {
   "cell_type": "code",
   "execution_count": 76,
   "metadata": {
    "colab": {
     "base_uri": "https://localhost:8080/"
    },
    "id": "II45ho6wOXSG",
    "outputId": "9e31444b-cce1-4b7c-e056-5baedc4100b4"
   },
   "outputs": [
    {
     "data": {
      "text/plain": [
       "(tensor([1, 2, 3]), tensor([0, 0, 0]))"
      ]
     },
     "execution_count": 76,
     "metadata": {},
     "output_type": "execute_result"
    }
   ],
   "source": [
    "value, idx = torch.min(x, axis=0)\n",
    "value, idx"
   ]
  },
  {
   "cell_type": "code",
   "execution_count": 77,
   "metadata": {
    "colab": {
     "base_uri": "https://localhost:8080/"
    },
    "id": "XCauiE8FOnsq",
    "outputId": "ee52b1b6-9800-47ec-e7e1-cf01ea80208f"
   },
   "outputs": [
    {
     "data": {
      "text/plain": [
       "(tensor([3, 6]), tensor([2, 2]))"
      ]
     },
     "execution_count": 77,
     "metadata": {},
     "output_type": "execute_result"
    }
   ],
   "source": [
    "value, idx = torch.max(x, axis=1)\n",
    "value, idx"
   ]
  },
  {
   "cell_type": "code",
   "execution_count": 78,
   "metadata": {
    "colab": {
     "base_uri": "https://localhost:8080/"
    },
    "id": "rFIwY140OqRB",
    "outputId": "25a65537-dc2a-40b0-fca8-993150cf3603"
   },
   "outputs": [
    {
     "data": {
      "text/plain": [
       "(tensor([1, 4]), tensor([0, 0]))"
      ]
     },
     "execution_count": 78,
     "metadata": {},
     "output_type": "execute_result"
    }
   ],
   "source": [
    "value, idx = torch.min(x, axis=1)\n",
    "value, idx"
   ]
  },
  {
   "cell_type": "code",
   "execution_count": 79,
   "metadata": {
    "colab": {
     "base_uri": "https://localhost:8080/"
    },
    "id": "nXjMNMg-0aIy",
    "outputId": "832cf38d-8d44-47a5-b113-c23e662f4847"
   },
   "outputs": [
    {
     "data": {
      "text/plain": [
       "(tensor(5), tensor(0))"
      ]
     },
     "execution_count": 79,
     "metadata": {},
     "output_type": "execute_result"
    }
   ],
   "source": [
    "torch.argmax(x), torch.argmin(x)"
   ]
  },
  {
   "cell_type": "code",
   "execution_count": 80,
   "metadata": {
    "colab": {
     "base_uri": "https://localhost:8080/"
    },
    "id": "M_PL7lmN5JKb",
    "outputId": "ab68c95d-91e6-4a9f-b582-ba473207111b"
   },
   "outputs": [
    {
     "data": {
      "text/plain": [
       "(tensor([1, 1, 1]), tensor([0, 0, 0]))"
      ]
     },
     "execution_count": 80,
     "metadata": {},
     "output_type": "execute_result"
    }
   ],
   "source": [
    "torch.argmax(x, axis=0), torch.argmin(x, axis=0)"
   ]
  },
  {
   "cell_type": "code",
   "execution_count": 81,
   "metadata": {
    "colab": {
     "base_uri": "https://localhost:8080/"
    },
    "id": "synk2elK0aIz",
    "outputId": "84d7e57e-47ae-4ec6-bceb-3e1189382493"
   },
   "outputs": [
    {
     "data": {
      "text/plain": [
       "(tensor([2, 2]), tensor([0, 0]))"
      ]
     },
     "execution_count": 81,
     "metadata": {},
     "output_type": "execute_result"
    }
   ],
   "source": [
    "torch.argmax(x, axis=1), torch.argmin(x, axis=1)"
   ]
  },
  {
   "cell_type": "code",
   "execution_count": null,
   "metadata": {
    "id": "E1h8Frco0aI_"
   },
   "outputs": [],
   "source": []
  }
 ],
 "metadata": {
  "accelerator": "GPU",
  "colab": {
   "provenance": []
  },
  "gpuClass": "standard",
  "kernelspec": {
   "display_name": "Python 3 (ipykernel)",
   "language": "python",
   "name": "python3"
  },
  "language_info": {
   "codemirror_mode": {
    "name": "ipython",
    "version": 3
   },
   "file_extension": ".py",
   "mimetype": "text/x-python",
   "name": "python",
   "nbconvert_exporter": "python",
   "pygments_lexer": "ipython3",
   "version": "3.9.7"
  }
 },
 "nbformat": 4,
 "nbformat_minor": 1
}
