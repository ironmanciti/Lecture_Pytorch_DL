{
  "cells": [
    {
      "cell_type": "markdown",
      "metadata": {
        "id": "bptrBsIN0aIK"
      },
      "source": [
        "# 010. PyTorch basic"
      ]
    },
    {
      "cell_type": "code",
      "execution_count": 1,
      "metadata": {
        "colab": {
          "base_uri": "https://localhost:8080/",
          "height": 36
        },
        "id": "FWfvDn9z0aIO",
        "outputId": "8e37a555-00b1-43a2-9ccf-f21738cb11c9"
      },
      "outputs": [
        {
          "output_type": "execute_result",
          "data": {
            "text/plain": [
              "'cuda:0'"
            ],
            "application/vnd.google.colaboratory.intrinsic+json": {
              "type": "string"
            }
          },
          "metadata": {},
          "execution_count": 1
        }
      ],
      "source": [
        "import torch\n",
        "import numpy as np\n",
        "import matplotlib.pyplot as plt\n",
        "\n",
        "device = \"cuda:0\" if torch.cuda.is_available() else \"cpu\"\n",
        "device"
      ]
    },
    {
      "cell_type": "code",
      "execution_count": 2,
      "metadata": {
        "colab": {
          "base_uri": "https://localhost:8080/",
          "height": 36
        },
        "id": "RBDb9nT4aMMr",
        "outputId": "600e47a7-032f-4500-fd12-1b93d88cb03f"
      },
      "outputs": [
        {
          "output_type": "execute_result",
          "data": {
            "text/plain": [
              "'1.13.1+cu116'"
            ],
            "application/vnd.google.colaboratory.intrinsic+json": {
              "type": "string"
            }
          },
          "metadata": {},
          "execution_count": 2
        }
      ],
      "source": [
        "torch.__version__"
      ]
    },
    {
      "cell_type": "markdown",
      "metadata": {
        "id": "FYOdFDxP0aIR"
      },
      "source": [
        "## Tensor Data Types\n",
        "\n",
        "<img src=\"https://miro.medium.com/max/875/1*-C10tKbZ2h0Zd7maau86oQ.png\" height=\"400\" />"
      ]
    },
    {
      "cell_type": "markdown",
      "metadata": {
        "id": "hDMoQIgGV10z"
      },
      "source": [
        "### torch.tensor 함수\n",
        "\n",
        "`tensor(data, dtype=None, device=None, requires_grad=False) -> Tensor`\n",
        "\n",
        "     data (array_like): list, tuple, numpy ndarray, scalar, and other types.\n",
        "     dtype :  `None`인 경우 `data`에서 데이터 유형을 유추합니다.  \n",
        "     device : `cpu`, `cuda`  \n",
        "     require_grad(bool, optional): autograd가 작업을 기록해야 하는 경우"
      ]
    },
    {
      "cell_type": "markdown",
      "metadata": {
        "id": "3_x6xXPPV100"
      },
      "source": [
        "Float torch tensor 생성"
      ]
    },
    {
      "cell_type": "code",
      "execution_count": 3,
      "metadata": {
        "colab": {
          "base_uri": "https://localhost:8080/"
        },
        "id": "SOUKmrQd0aIR",
        "outputId": "6f6fab16-bcb9-45c4-8584-88dee4bc3225"
      },
      "outputs": [
        {
          "output_type": "stream",
          "name": "stdout",
          "text": [
            "float64 \t torch.float64\n"
          ]
        }
      ],
      "source": [
        "# numpy array 생성\n",
        "a = np.ones((2, 3))\n",
        "# tensor  생성\n",
        "b = torch.tensor(a)\n",
        "# dtype\n",
        "print(a.dtype, '\\t', b.dtype)"
      ]
    },
    {
      "cell_type": "code",
      "execution_count": 4,
      "metadata": {
        "colab": {
          "base_uri": "https://localhost:8080/"
        },
        "id": "dKTlCKQk0aIS",
        "outputId": "d883c5a8-d693-425d-af69-cc3ea9c91672"
      },
      "outputs": [
        {
          "output_type": "stream",
          "name": "stdout",
          "text": [
            "float32 \t torch.float32\n"
          ]
        }
      ],
      "source": [
        "# numpy 생성\n",
        "a = np.ones((2, 3), dtype=\"float32\")\n",
        "# tensor 생성\n",
        "b = torch.tensor(a)\n",
        "# dtype\n",
        "print(a.dtype, '\\t', b.dtype)"
      ]
    },
    {
      "cell_type": "markdown",
      "metadata": {
        "id": "77WegQUXV102"
      },
      "source": [
        "Integer tensor 생성"
      ]
    },
    {
      "cell_type": "code",
      "execution_count": 5,
      "metadata": {
        "colab": {
          "base_uri": "https://localhost:8080/"
        },
        "id": "YECq91Ru0aIS",
        "outputId": "fef99769-480c-4120-89e9-ea29c763a60c"
      },
      "outputs": [
        {
          "output_type": "execute_result",
          "data": {
            "text/plain": [
              "tensor([[1, 2, 3],\n",
              "        [4, 5, 6]], dtype=torch.int32)"
            ]
          },
          "metadata": {},
          "execution_count": 5
        }
      ],
      "source": [
        "x = torch.tensor([[1, 2, 3], [4, 5, 6]], dtype=torch.int32)\n",
        "x"
      ]
    },
    {
      "cell_type": "code",
      "execution_count": 6,
      "metadata": {
        "colab": {
          "base_uri": "https://localhost:8080/"
        },
        "id": "CcpX1maC0aIT",
        "outputId": "7c06015b-dea4-4209-8e96-e3a53246bc0a"
      },
      "outputs": [
        {
          "output_type": "execute_result",
          "data": {
            "text/plain": [
              "tensor([[1, 2, 3],\n",
              "        [4, 5, 6]], device='cuda:0', dtype=torch.int32)"
            ]
          },
          "metadata": {},
          "execution_count": 6
        }
      ],
      "source": [
        "x = torch.tensor([[1, 2, 3], [4, 5, 6]], dtype=torch.int32, device=device)\n",
        "x"
      ]
    },
    {
      "cell_type": "markdown",
      "metadata": {
        "id": "NtdNbgjR0aIU"
      },
      "source": [
        "## 1D Tensor Operation\n",
        "\n",
        "### tensor 생성"
      ]
    },
    {
      "cell_type": "code",
      "execution_count": 7,
      "metadata": {
        "colab": {
          "base_uri": "https://localhost:8080/"
        },
        "id": "E9tPSvWC0aIV",
        "outputId": "578727e5-6386-42b6-fa95-097e16477890"
      },
      "outputs": [
        {
          "output_type": "execute_result",
          "data": {
            "text/plain": [
              "(tensor(1), tensor(5))"
            ]
          },
          "metadata": {},
          "execution_count": 7
        }
      ],
      "source": [
        "a = torch.tensor([1, 2, 3, 4, 5])\n",
        "\n",
        "a[0], a[-1]"
      ]
    },
    {
      "cell_type": "code",
      "execution_count": 8,
      "metadata": {
        "colab": {
          "base_uri": "https://localhost:8080/"
        },
        "id": "xfMlsCA3tS4Q",
        "outputId": "071a52f5-c86b-4c22-da6c-4ada113d8ca1"
      },
      "outputs": [
        {
          "output_type": "execute_result",
          "data": {
            "text/plain": [
              "torch.Size([5])"
            ]
          },
          "metadata": {},
          "execution_count": 8
        }
      ],
      "source": [
        "a.size()"
      ]
    },
    {
      "cell_type": "code",
      "execution_count": 9,
      "metadata": {
        "colab": {
          "base_uri": "https://localhost:8080/"
        },
        "id": "hanzRpv8tS4R",
        "outputId": "96800883-76bc-480e-88d9-23a483127b7e"
      },
      "outputs": [
        {
          "output_type": "execute_result",
          "data": {
            "text/plain": [
              "1"
            ]
          },
          "metadata": {},
          "execution_count": 9
        }
      ],
      "source": [
        "a.ndimension()"
      ]
    },
    {
      "cell_type": "code",
      "execution_count": 10,
      "metadata": {
        "colab": {
          "base_uri": "https://localhost:8080/"
        },
        "id": "AGn52TuStS4R",
        "outputId": "1c8cc7d8-7c5c-4279-fc23-712e218b0560"
      },
      "outputs": [
        {
          "output_type": "execute_result",
          "data": {
            "text/plain": [
              "tensor([[1],\n",
              "        [2],\n",
              "        [3],\n",
              "        [4],\n",
              "        [5]])"
            ]
          },
          "metadata": {},
          "execution_count": 10
        }
      ],
      "source": [
        "a.view(5, 1)"
      ]
    },
    {
      "cell_type": "code",
      "execution_count": 11,
      "metadata": {
        "colab": {
          "base_uri": "https://localhost:8080/"
        },
        "id": "V-fCsOir0aIW",
        "outputId": "3006a184-ca8a-4733-9ab1-24bb4204e3d4",
        "scrolled": true
      },
      "outputs": [
        {
          "output_type": "execute_result",
          "data": {
            "text/plain": [
              "tensor([0., 1., 2., 3., 4.])"
            ]
          },
          "metadata": {},
          "execution_count": 11
        }
      ],
      "source": [
        "# cpu tensor\n",
        "a = torch.FloatTensor([0, 1, 2, 3, 4])\n",
        "a"
      ]
    },
    {
      "cell_type": "code",
      "execution_count": 12,
      "metadata": {
        "colab": {
          "base_uri": "https://localhost:8080/"
        },
        "id": "vaWaOjX10aIX",
        "outputId": "7ab86014-6988-4d18-d93f-6881260e5767"
      },
      "outputs": [
        {
          "output_type": "execute_result",
          "data": {
            "text/plain": [
              "tensor([0., 1., 2., 3., 4.], device='cuda:0')"
            ]
          },
          "metadata": {},
          "execution_count": 12
        }
      ],
      "source": [
        "# gpu tensor\n",
        "a = torch.cuda.FloatTensor([0, 1, 2, 3, 4])\n",
        "a"
      ]
    },
    {
      "cell_type": "markdown",
      "metadata": {
        "id": "jx-H1RPX0aIX"
      },
      "source": [
        "### Tensor Type 변환\n",
        "\n",
        "- cpu <--> gpu"
      ]
    },
    {
      "cell_type": "code",
      "execution_count": 14,
      "metadata": {
        "colab": {
          "base_uri": "https://localhost:8080/"
        },
        "id": "uNaqQAfV0aIY",
        "outputId": "fba31ad9-7b38-4c8c-84dd-5f70ae7795e2"
      },
      "outputs": [
        {
          "output_type": "execute_result",
          "data": {
            "text/plain": [
              "tensor([0., 1., 2., 3., 4.])"
            ]
          },
          "metadata": {},
          "execution_count": 14
        }
      ],
      "source": [
        "# cpu tensor\n",
        "a = a.type(torch.FloatTensor)\n",
        "a"
      ]
    },
    {
      "cell_type": "code",
      "execution_count": 15,
      "metadata": {
        "colab": {
          "base_uri": "https://localhost:8080/"
        },
        "id": "cqzQEqrv0aIY",
        "outputId": "85bb02e8-243a-4bb1-930c-29661f3a559e"
      },
      "outputs": [
        {
          "output_type": "execute_result",
          "data": {
            "text/plain": [
              "tensor([0., 1., 2., 3., 4.], device='cuda:0')"
            ]
          },
          "metadata": {},
          "execution_count": 15
        }
      ],
      "source": [
        "# gpu tensor\n",
        "b = a.to(device)\n",
        "b"
      ]
    },
    {
      "cell_type": "code",
      "execution_count": 16,
      "metadata": {
        "colab": {
          "base_uri": "https://localhost:8080/"
        },
        "id": "ngVGxSjx0aIZ",
        "outputId": "c2b95048-125f-4a27-9c6c-4dcb02a836b0"
      },
      "outputs": [
        {
          "output_type": "execute_result",
          "data": {
            "text/plain": [
              "tensor([0., 1., 2., 3., 4.], device='cuda:0')"
            ]
          },
          "metadata": {},
          "execution_count": 16
        }
      ],
      "source": [
        "b = a.cuda()\n",
        "b"
      ]
    },
    {
      "cell_type": "code",
      "execution_count": 17,
      "metadata": {
        "colab": {
          "base_uri": "https://localhost:8080/"
        },
        "id": "9mUqqm4K0aIZ",
        "outputId": "630bc29c-9592-45b5-b75f-ab05577ca819"
      },
      "outputs": [
        {
          "output_type": "execute_result",
          "data": {
            "text/plain": [
              "tensor([0., 1., 2., 3., 4.], device='cuda:0')"
            ]
          },
          "metadata": {},
          "execution_count": 17
        }
      ],
      "source": [
        "c = a.type(torch.cuda.FloatTensor)\n",
        "c"
      ]
    },
    {
      "cell_type": "code",
      "execution_count": 18,
      "metadata": {
        "colab": {
          "base_uri": "https://localhost:8080/"
        },
        "id": "SO5KKyhq0aIZ",
        "outputId": "cdb77ac5-2467-4dd0-b687-c82f2a1d9df9"
      },
      "outputs": [
        {
          "output_type": "execute_result",
          "data": {
            "text/plain": [
              "tensor([0., 1., 2., 3., 4.])"
            ]
          },
          "metadata": {},
          "execution_count": 18
        }
      ],
      "source": [
        "# cpu tensor\n",
        "d = b.to(\"cpu\")\n",
        "d"
      ]
    },
    {
      "cell_type": "code",
      "execution_count": 19,
      "metadata": {
        "colab": {
          "base_uri": "https://localhost:8080/"
        },
        "id": "jARC3_Tf0aIZ",
        "outputId": "27d51d24-f0e4-4f88-f24d-83b985f98fd0"
      },
      "outputs": [
        {
          "output_type": "execute_result",
          "data": {
            "text/plain": [
              "tensor([0., 1., 2., 3., 4.])"
            ]
          },
          "metadata": {},
          "execution_count": 19
        }
      ],
      "source": [
        "e = c.cpu()\n",
        "e"
      ]
    },
    {
      "cell_type": "markdown",
      "metadata": {
        "id": "6yb70D7F0aIa"
      },
      "source": [
        "### Tensor 생성\n",
        "\n",
        "- 무작위로 초기화된 행렬 생성 (uniform distribution)"
      ]
    },
    {
      "cell_type": "code",
      "execution_count": 20,
      "metadata": {
        "colab": {
          "base_uri": "https://localhost:8080/"
        },
        "id": "M1ohi1oc0aIa",
        "outputId": "2a59042b-ac09-47d2-888b-9b3af259bb90"
      },
      "outputs": [
        {
          "output_type": "stream",
          "name": "stdout",
          "text": [
            "tensor([[0.5194, 0.6068, 0.3476],\n",
            "        [0.2017, 0.4633, 0.2246],\n",
            "        [0.3735, 0.2910, 0.8146],\n",
            "        [0.6020, 0.8497, 0.2460],\n",
            "        [0.0836, 0.4792, 0.3047]])\n"
          ]
        }
      ],
      "source": [
        "x = torch.rand(5, 3) \n",
        "print(x)"
      ]
    },
    {
      "cell_type": "markdown",
      "metadata": {
        "id": "XdplE1BX0aIb"
      },
      "source": [
        "- dtype이 long이고 0으로 채워진 행렬 생성"
      ]
    },
    {
      "cell_type": "code",
      "execution_count": 21,
      "metadata": {
        "colab": {
          "base_uri": "https://localhost:8080/"
        },
        "id": "5gLRQs6M0aIb",
        "outputId": "34421e06-d192-46cc-e49f-590dc923a6bf"
      },
      "outputs": [
        {
          "output_type": "stream",
          "name": "stdout",
          "text": [
            "tensor([[0, 0, 0],\n",
            "        [0, 0, 0],\n",
            "        [0, 0, 0],\n",
            "        [0, 0, 0],\n",
            "        [0, 0, 0]])\n",
            "torch.int64\n"
          ]
        }
      ],
      "source": [
        "x = torch.zeros(5, 3, dtype=torch.long)\n",
        "print(x)\n",
        "print(x.dtype)"
      ]
    },
    {
      "cell_type": "markdown",
      "metadata": {
        "id": "RX0uBf2g0aIc"
      },
      "source": [
        "- python list로 부터 tensor 생성"
      ]
    },
    {
      "cell_type": "code",
      "execution_count": 22,
      "metadata": {
        "colab": {
          "base_uri": "https://localhost:8080/"
        },
        "id": "_9TfISuo0aIc",
        "outputId": "d7542546-5a36-40a6-fad1-22276bb57c4c"
      },
      "outputs": [
        {
          "output_type": "execute_result",
          "data": {
            "text/plain": [
              "('torch.LongTensor', torch.int64)"
            ]
          },
          "metadata": {},
          "execution_count": 22
        }
      ],
      "source": [
        "a = torch.tensor([7, 4, 3, 2, 6])\n",
        "a.type(), a.dtype"
      ]
    },
    {
      "cell_type": "code",
      "execution_count": 23,
      "metadata": {
        "colab": {
          "base_uri": "https://localhost:8080/"
        },
        "id": "5Yg6Wqe-0aIc",
        "outputId": "37bdeba7-0237-450d-c94e-a80053cc8f14"
      },
      "outputs": [
        {
          "output_type": "execute_result",
          "data": {
            "text/plain": [
              "('torch.FloatTensor', torch.float32)"
            ]
          },
          "metadata": {},
          "execution_count": 23
        }
      ],
      "source": [
        "b = torch.FloatTensor([7, 4, 3, 2, 6])\n",
        "b.type(), b.dtype"
      ]
    },
    {
      "cell_type": "code",
      "execution_count": 24,
      "metadata": {
        "colab": {
          "base_uri": "https://localhost:8080/"
        },
        "id": "GUVEvrw10aIc",
        "outputId": "76ce0e70-6a4d-4f5e-d1fb-ef61c197c876"
      },
      "outputs": [
        {
          "output_type": "execute_result",
          "data": {
            "text/plain": [
              "tensor([True, True, True, True, True])"
            ]
          },
          "metadata": {},
          "execution_count": 24
        }
      ],
      "source": [
        "a == b"
      ]
    },
    {
      "cell_type": "markdown",
      "metadata": {
        "id": "0CWwLRBuc8LU"
      },
      "source": [
        "torch.LongTensor --> torch.long, torch.int64"
      ]
    },
    {
      "cell_type": "code",
      "execution_count": 25,
      "metadata": {
        "colab": {
          "base_uri": "https://localhost:8080/"
        },
        "id": "ynDK94Qk0aId",
        "outputId": "071db086-6ad5-45df-f410-4a69e410f8b0"
      },
      "outputs": [
        {
          "output_type": "execute_result",
          "data": {
            "text/plain": [
              "tensor([7, 4, 3, 2, 6])"
            ]
          },
          "metadata": {},
          "execution_count": 25
        }
      ],
      "source": [
        "c = torch.tensor([7, 4, 3, 2, 6], dtype=torch.int64)\n",
        "c"
      ]
    },
    {
      "cell_type": "code",
      "execution_count": 26,
      "metadata": {
        "colab": {
          "base_uri": "https://localhost:8080/"
        },
        "id": "OqzyaBJE0aId",
        "outputId": "a819ae33-6f40-434c-c8a0-d5080ea83171"
      },
      "outputs": [
        {
          "output_type": "execute_result",
          "data": {
            "text/plain": [
              "tensor([7, 4, 3, 2, 6])"
            ]
          },
          "metadata": {},
          "execution_count": 26
        }
      ],
      "source": [
        "d = torch.LongTensor([7, 4, 3, 2, 6])\n",
        "d"
      ]
    },
    {
      "cell_type": "code",
      "execution_count": 27,
      "metadata": {
        "colab": {
          "base_uri": "https://localhost:8080/"
        },
        "id": "0-cuMD6laF2x",
        "outputId": "34ca9532-4352-461a-d8ce-cff2a879b1b1"
      },
      "outputs": [
        {
          "output_type": "execute_result",
          "data": {
            "text/plain": [
              "tensor([True, True, True, True, True])"
            ]
          },
          "metadata": {},
          "execution_count": 27
        }
      ],
      "source": [
        "c == d"
      ]
    },
    {
      "cell_type": "markdown",
      "metadata": {
        "id": "_F_MBE6Y0aId"
      },
      "source": [
        "## Tensor 의 shape & dimension (rank)"
      ]
    },
    {
      "cell_type": "code",
      "execution_count": 28,
      "metadata": {
        "colab": {
          "base_uri": "https://localhost:8080/"
        },
        "id": "ptYfxewn0aIe",
        "outputId": "b48479da-0a30-4d71-e6ff-16445f9e12a2"
      },
      "outputs": [
        {
          "output_type": "execute_result",
          "data": {
            "text/plain": [
              "torch.Size([5])"
            ]
          },
          "metadata": {},
          "execution_count": 28
        }
      ],
      "source": [
        "a = torch.Tensor([0, 1, 2, 3, 4])\n",
        "a.size()"
      ]
    },
    {
      "cell_type": "code",
      "execution_count": 29,
      "metadata": {
        "colab": {
          "base_uri": "https://localhost:8080/"
        },
        "id": "R5VHrcai0aIe",
        "outputId": "b9b5d979-fe97-4167-d07a-9f980d0ba986"
      },
      "outputs": [
        {
          "output_type": "execute_result",
          "data": {
            "text/plain": [
              "torch.Size([5])"
            ]
          },
          "metadata": {},
          "execution_count": 29
        }
      ],
      "source": [
        "# size() 와 shape 은 alias\n",
        "a.shape"
      ]
    },
    {
      "cell_type": "code",
      "execution_count": 30,
      "metadata": {
        "colab": {
          "base_uri": "https://localhost:8080/"
        },
        "id": "fXSRrETw0aIe",
        "outputId": "46e9c1ad-c101-42bd-ec00-391a6756a894"
      },
      "outputs": [
        {
          "output_type": "execute_result",
          "data": {
            "text/plain": [
              "1"
            ]
          },
          "metadata": {},
          "execution_count": 30
        }
      ],
      "source": [
        "a.ndimension()"
      ]
    },
    {
      "cell_type": "markdown",
      "metadata": {
        "id": "HV3UkTgU0aIf"
      },
      "source": [
        "## reshape\n",
        "- torch.view : original tensor의 memory 공유 (contiguity 제한)\n",
        "- torch.reshape: contiguity 제한 없음. 필요에 따라 new tensor 생성. numpy 와 유사한 operation을 위해 기능 제공"
      ]
    },
    {
      "cell_type": "code",
      "execution_count": 31,
      "metadata": {
        "colab": {
          "base_uri": "https://localhost:8080/"
        },
        "id": "92KIceAi0aIf",
        "outputId": "d22c40b2-b0e5-40f5-f111-2c3075b2125a"
      },
      "outputs": [
        {
          "output_type": "stream",
          "name": "stdout",
          "text": [
            "tensor([0., 1., 2., 3., 4.])\n",
            "tensor([[0.],\n",
            "        [1.],\n",
            "        [2.],\n",
            "        [3.],\n",
            "        [4.]])\n",
            "tensor([[0.],\n",
            "        [1.],\n",
            "        [2.],\n",
            "        [3.],\n",
            "        [4.]])\n"
          ]
        }
      ],
      "source": [
        "print(a)\n",
        "print(a.view(5, 1))\n",
        "print(a.reshape(5, 1))"
      ]
    },
    {
      "cell_type": "code",
      "execution_count": 32,
      "metadata": {
        "colab": {
          "base_uri": "https://localhost:8080/"
        },
        "id": "aWgmcHz20aIg",
        "outputId": "64326b25-7178-4f3d-cfdb-e0bda92c107b"
      },
      "outputs": [
        {
          "output_type": "stream",
          "name": "stdout",
          "text": [
            "torch.Size([4, 4]) torch.Size([16]) torch.Size([2, 8])\n"
          ]
        }
      ],
      "source": [
        "x = torch.randn(4, 4)\n",
        "y = x.view(16)\n",
        "z = x.view(-1, 8)        \n",
        "\n",
        "print(x.size(), y.size(), z.size())"
      ]
    },
    {
      "cell_type": "code",
      "execution_count": 33,
      "metadata": {
        "colab": {
          "base_uri": "https://localhost:8080/"
        },
        "id": "r1v8vnT9CvF9",
        "outputId": "b7ac82d4-003e-49f8-e1d8-76ac2095c182"
      },
      "outputs": [
        {
          "output_type": "stream",
          "name": "stdout",
          "text": [
            "torch.Size([4, 4]) torch.Size([16]) torch.Size([2, 8])\n"
          ]
        }
      ],
      "source": [
        "x = torch.randn(4, 4)\n",
        "y = x.reshape(16)\n",
        "z = x.reshape(-1, 8)         \n",
        "\n",
        "print(x.size(), y.size(), z.size())"
      ]
    },
    {
      "cell_type": "code",
      "execution_count": 34,
      "metadata": {
        "colab": {
          "base_uri": "https://localhost:8080/"
        },
        "id": "I4FQGB4PaMM1",
        "outputId": "021fc8b0-3e49-4ef7-8ec0-6368fa6b215e"
      },
      "outputs": [
        {
          "output_type": "execute_result",
          "data": {
            "text/plain": [
              "tensor([[-0.4998,  1.9448,  0.2214, -1.7058],\n",
              "        [-0.3524, -1.1488, -0.7662,  0.5767],\n",
              "        [-0.2003,  0.4097,  0.4959, -0.3669],\n",
              "        [-0.1452,  1.5947, -0.2421, -1.0773]])"
            ]
          },
          "metadata": {},
          "execution_count": 34
        }
      ],
      "source": [
        "x = torch.randn(4, 4)\n",
        "x"
      ]
    },
    {
      "cell_type": "code",
      "execution_count": 35,
      "metadata": {
        "colab": {
          "base_uri": "https://localhost:8080/"
        },
        "id": "j1XuEjb-aMM1",
        "outputId": "469b2fea-6210-48a7-b07a-470224f79e75"
      },
      "outputs": [
        {
          "output_type": "execute_result",
          "data": {
            "text/plain": [
              "True"
            ]
          },
          "metadata": {},
          "execution_count": 35
        }
      ],
      "source": [
        "x.is_contiguous()"
      ]
    },
    {
      "cell_type": "code",
      "execution_count": 36,
      "metadata": {
        "colab": {
          "base_uri": "https://localhost:8080/"
        },
        "id": "aYFmgqGGelDv",
        "outputId": "056cbb01-81e4-4df1-be84-93ccd3b56922"
      },
      "outputs": [
        {
          "output_type": "execute_result",
          "data": {
            "text/plain": [
              "tensor([[-0.4998, -0.3524, -0.2003, -0.1452],\n",
              "        [ 1.9448, -1.1488,  0.4097,  1.5947],\n",
              "        [ 0.2214, -0.7662,  0.4959, -0.2421],\n",
              "        [-1.7058,  0.5767, -0.3669, -1.0773]])"
            ]
          },
          "metadata": {},
          "execution_count": 36
        }
      ],
      "source": [
        "# dim0, dim1 을 swap\n",
        "x.transpose(0, 1)"
      ]
    },
    {
      "cell_type": "code",
      "execution_count": 37,
      "metadata": {
        "colab": {
          "base_uri": "https://localhost:8080/"
        },
        "id": "YB4bwzM4aMM1",
        "outputId": "01af42f4-864a-4cd5-8a03-666aa379c06b"
      },
      "outputs": [
        {
          "output_type": "execute_result",
          "data": {
            "text/plain": [
              "False"
            ]
          },
          "metadata": {},
          "execution_count": 37
        }
      ],
      "source": [
        "x.transpose(0, 1).is_contiguous()"
      ]
    },
    {
      "cell_type": "code",
      "execution_count": 38,
      "metadata": {
        "colab": {
          "base_uri": "https://localhost:8080/"
        },
        "id": "u38JNAQDdrcZ",
        "outputId": "80b19609-471e-4234-b868-245b8357ed57"
      },
      "outputs": [
        {
          "output_type": "execute_result",
          "data": {
            "text/plain": [
              "tensor([[-0.4998, -0.3524, -0.2003, -0.1452,  1.9448, -1.1488,  0.4097,  1.5947],\n",
              "        [ 0.2214, -0.7662,  0.4959, -0.2421, -1.7058,  0.5767, -0.3669, -1.0773]])"
            ]
          },
          "metadata": {},
          "execution_count": 38
        }
      ],
      "source": [
        "x.transpose(0, 1).reshape(-1, 8)"
      ]
    },
    {
      "cell_type": "code",
      "execution_count": 39,
      "metadata": {
        "colab": {
          "base_uri": "https://localhost:8080/",
          "height": 198
        },
        "id": "sYwFK4Che4UH",
        "outputId": "197419bc-1f9c-4b6f-e7ec-71e6850969f9"
      },
      "outputs": [
        {
          "output_type": "error",
          "ename": "RuntimeError",
          "evalue": "ignored",
          "traceback": [
            "\u001b[0;31m---------------------------------------------------------------------------\u001b[0m",
            "\u001b[0;31mRuntimeError\u001b[0m                              Traceback (most recent call last)",
            "\u001b[0;32m<ipython-input-39-56f6b0949c01>\u001b[0m in \u001b[0;36m<module>\u001b[0;34m\u001b[0m\n\u001b[0;32m----> 1\u001b[0;31m \u001b[0mx\u001b[0m\u001b[0;34m.\u001b[0m\u001b[0mtranspose\u001b[0m\u001b[0;34m(\u001b[0m\u001b[0;36m0\u001b[0m\u001b[0;34m,\u001b[0m \u001b[0;36m1\u001b[0m\u001b[0;34m)\u001b[0m\u001b[0;34m.\u001b[0m\u001b[0mview\u001b[0m\u001b[0;34m(\u001b[0m\u001b[0;34m-\u001b[0m\u001b[0;36m1\u001b[0m\u001b[0;34m,\u001b[0m \u001b[0;36m8\u001b[0m\u001b[0;34m)\u001b[0m\u001b[0;34m\u001b[0m\u001b[0;34m\u001b[0m\u001b[0m\n\u001b[0m",
            "\u001b[0;31mRuntimeError\u001b[0m: view size is not compatible with input tensor's size and stride (at least one dimension spans across two contiguous subspaces). Use .reshape(...) instead."
          ]
        }
      ],
      "source": [
        "x.transpose(0, 1).view(-1, 8)"
      ]
    },
    {
      "cell_type": "markdown",
      "metadata": {
        "id": "SOr0fUj50aIg"
      },
      "source": [
        "## numpy 와 tensor 간의 호환성\n",
        "\n",
        "- memory 를 공유하므로 하나를 수정하면 나머지에 모두 반영  "
      ]
    },
    {
      "cell_type": "code",
      "execution_count": 40,
      "metadata": {
        "colab": {
          "base_uri": "https://localhost:8080/"
        },
        "id": "G6Gk3T1L0aIg",
        "outputId": "0c5a8920-ad9e-4a20-9370-d415e71d1688"
      },
      "outputs": [
        {
          "output_type": "execute_result",
          "data": {
            "text/plain": [
              "tensor([0., 1., 2., 3., 4., 5.], dtype=torch.float64)"
            ]
          },
          "metadata": {},
          "execution_count": 40
        }
      ],
      "source": [
        "numpy_array = np.array([0.0, 1.0, 2.0, 3.0, 4.0, 5.0])       # numpy array\n",
        "torch_tensor = torch.from_numpy(numpy_array)               # torch tensor\n",
        "torch_tensor "
      ]
    },
    {
      "cell_type": "code",
      "execution_count": 42,
      "metadata": {
        "colab": {
          "base_uri": "https://localhost:8080/"
        },
        "id": "P1x1lBo70aIh",
        "outputId": "9a30e277-8e71-447d-d8de-d7e1196dcf5f"
      },
      "outputs": [
        {
          "output_type": "execute_result",
          "data": {
            "text/plain": [
              "array([0., 1., 2., 3., 4., 5.])"
            ]
          },
          "metadata": {},
          "execution_count": 42
        }
      ],
      "source": [
        "back_to_numpy = torch_tensor.numpy()           # numpy array\n",
        "back_to_numpy"
      ]
    },
    {
      "cell_type": "code",
      "execution_count": 43,
      "metadata": {
        "colab": {
          "base_uri": "https://localhost:8080/"
        },
        "id": "PFxj24eI0aIh",
        "outputId": "50fd0da8-b542-4611-b48d-052fb8ccdbd6"
      },
      "outputs": [
        {
          "output_type": "execute_result",
          "data": {
            "text/plain": [
              "(array([0., 1., 2., 3., 4., 5.]),\n",
              " tensor([0., 1., 2., 3., 4., 5.], dtype=torch.float64),\n",
              " array([0., 1., 2., 3., 4., 5.]))"
            ]
          },
          "metadata": {},
          "execution_count": 43
        }
      ],
      "source": [
        "numpy_array, torch_tensor, back_to_numpy"
      ]
    },
    {
      "cell_type": "code",
      "execution_count": 44,
      "metadata": {
        "colab": {
          "base_uri": "https://localhost:8080/"
        },
        "id": "Bm76gZrW0aIh",
        "outputId": "7dc79dfc-d9f8-4c38-9a74-3b6fc4fff02c"
      },
      "outputs": [
        {
          "output_type": "execute_result",
          "data": {
            "text/plain": [
              "(array([100.,   1.,   2.,   3.,   4.,   5.]),\n",
              " tensor([100.,   1.,   2.,   3.,   4.,   5.], dtype=torch.float64),\n",
              " array([100.,   1.,   2.,   3.,   4.,   5.]))"
            ]
          },
          "metadata": {},
          "execution_count": 44
        }
      ],
      "source": [
        "back_to_numpy[0] = 100\n",
        "\n",
        "numpy_array, torch_tensor, back_to_numpy"
      ]
    },
    {
      "cell_type": "markdown",
      "metadata": {
        "id": "M7tI-oW-0aIi"
      },
      "source": [
        "## Scalar value \n",
        "\n",
        "- 만약 tensor에 하나의 값만 존재한다면, ``.item()`` method를 사용하여 숫자 값을 얻을 수 있습니다.  "
      ]
    },
    {
      "cell_type": "code",
      "execution_count": 45,
      "metadata": {
        "colab": {
          "base_uri": "https://localhost:8080/"
        },
        "id": "nkyd8fiK0aIi",
        "outputId": "06c3c15e-dd1e-4a51-f812-deb53f94f890"
      },
      "outputs": [
        {
          "output_type": "execute_result",
          "data": {
            "text/plain": [
              "0.9401332139968872"
            ]
          },
          "metadata": {},
          "execution_count": 45
        }
      ],
      "source": [
        "x = torch.randn(1)\n",
        "x.item()"
      ]
    },
    {
      "cell_type": "code",
      "execution_count": 46,
      "metadata": {
        "colab": {
          "base_uri": "https://localhost:8080/"
        },
        "id": "UY1-2LF00aIi",
        "outputId": "dd4c0aa5-3104-4e46-b399-19d0c656b606"
      },
      "outputs": [
        {
          "output_type": "stream",
          "name": "stdout",
          "text": [
            "tensor(5.)\n",
            "5.0\n"
          ]
        }
      ],
      "source": [
        "a = torch.tensor([5., 3., 4., 1.])\n",
        "\n",
        "print(a[0])\n",
        "print(a[0].item())"
      ]
    },
    {
      "cell_type": "markdown",
      "metadata": {
        "id": "79_l6-6Jr3A4"
      },
      "source": [
        "- tensor 가 array 형태인 경우 `numpy()` method 를 통해 ndarray 반환"
      ]
    },
    {
      "cell_type": "code",
      "execution_count": 47,
      "metadata": {
        "colab": {
          "base_uri": "https://localhost:8080/"
        },
        "id": "pbNz9o3_0aIj",
        "outputId": "b6220695-a799-450c-a9d0-60e0bc97eaeb"
      },
      "outputs": [
        {
          "output_type": "stream",
          "name": "stdout",
          "text": [
            "tensor([-0.1247,  1.2054])\n",
            "\n",
            "[-0.12469494  1.205352  ]\n"
          ]
        }
      ],
      "source": [
        "x = torch.randn(2)\n",
        "print(x)\n",
        "print()\n",
        "print(x.numpy())"
      ]
    },
    {
      "cell_type": "markdown",
      "metadata": {
        "id": "WfDw9dQO0aIj"
      },
      "source": [
        "## pandas 및 python list 와의 호환성 "
      ]
    },
    {
      "cell_type": "code",
      "execution_count": 48,
      "metadata": {
        "colab": {
          "base_uri": "https://localhost:8080/"
        },
        "id": "6iCIeMxm0aIj",
        "outputId": "9f4fd20f-8071-46b4-9a1e-30906fa8704a"
      },
      "outputs": [
        {
          "output_type": "execute_result",
          "data": {
            "text/plain": [
              "tensor([ 0.1000,  0.2000,  0.3000, 10.1000], dtype=torch.float64)"
            ]
          },
          "metadata": {},
          "execution_count": 48
        }
      ],
      "source": [
        "import pandas as pd\n",
        "\n",
        "# pandas to tensor\n",
        "pandas_series = pd.Series([0.1, 0.2, 0.3, 10.1])\n",
        "pandas_to_torch = torch.from_numpy(pandas_series.values)\n",
        "pandas_to_torch"
      ]
    },
    {
      "cell_type": "code",
      "execution_count": 49,
      "metadata": {
        "colab": {
          "base_uri": "https://localhost:8080/"
        },
        "id": "JPW6edDv0aIk",
        "outputId": "626fc27c-9a37-46ec-c570-21004291c66c"
      },
      "outputs": [
        {
          "output_type": "execute_result",
          "data": {
            "text/plain": [
              "[0, 1, 2, 3]"
            ]
          },
          "metadata": {},
          "execution_count": 49
        }
      ],
      "source": [
        "# python list to tensor\n",
        "this_tensor = torch.tensor([0, 1, 2, 3])\n",
        "# tensor to python list\n",
        "torch_to_list = this_tensor.tolist()    \n",
        "torch_to_list"
      ]
    },
    {
      "cell_type": "code",
      "execution_count": 51,
      "metadata": {
        "colab": {
          "base_uri": "https://localhost:8080/"
        },
        "id": "hL0OwHdJ0aIk",
        "outputId": "023d4282-4dba-4d14-97d7-bc0b433f169a"
      },
      "outputs": [
        {
          "output_type": "execute_result",
          "data": {
            "text/plain": [
              "array([0, 1, 2, 3])"
            ]
          },
          "metadata": {},
          "execution_count": 51
        }
      ],
      "source": [
        "# numpy array\n",
        "this_tensor.numpy()"
      ]
    },
    {
      "cell_type": "markdown",
      "metadata": {
        "id": "ROH69NYU0aIl"
      },
      "source": [
        "## Tensor 의 indexing & slicing\n",
        "\n",
        "- Python 의 indexing & slicing 과 동일"
      ]
    },
    {
      "cell_type": "code",
      "execution_count": 52,
      "metadata": {
        "colab": {
          "base_uri": "https://localhost:8080/"
        },
        "id": "7QSJN6ok0aIl",
        "outputId": "1de7c792-822e-462b-bba6-057a004ec2b5"
      },
      "outputs": [
        {
          "output_type": "execute_result",
          "data": {
            "text/plain": [
              "(tensor([100,   1,   2,   3,   0]), torch.int64)"
            ]
          },
          "metadata": {},
          "execution_count": 52
        }
      ],
      "source": [
        "c = torch.tensor([20, 1, 2, 3, 4])\n",
        "c[0] = 100\n",
        "c[4] = 0\n",
        "c, c.dtype"
      ]
    },
    {
      "cell_type": "code",
      "execution_count": 53,
      "metadata": {
        "colab": {
          "base_uri": "https://localhost:8080/"
        },
        "id": "uJGbU-8c0aIm",
        "outputId": "0b516c22-4109-40e0-e241-a2a311bbe031"
      },
      "outputs": [
        {
          "output_type": "execute_result",
          "data": {
            "text/plain": [
              "tensor([1, 2, 3])"
            ]
          },
          "metadata": {},
          "execution_count": 53
        }
      ],
      "source": [
        "d = c[1:4]\n",
        "d"
      ]
    },
    {
      "cell_type": "code",
      "execution_count": 54,
      "metadata": {
        "colab": {
          "base_uri": "https://localhost:8080/"
        },
        "id": "n7nuvxwu0aIm",
        "outputId": "bbd800c6-0439-43c6-9e1d-5445393c59a6"
      },
      "outputs": [
        {
          "output_type": "execute_result",
          "data": {
            "text/plain": [
              "tensor([100,   1,   2, 300, 400])"
            ]
          },
          "metadata": {},
          "execution_count": 54
        }
      ],
      "source": [
        "c[3:5] = torch.tensor([300.0, 400.0])\n",
        "c"
      ]
    },
    {
      "cell_type": "markdown",
      "metadata": {
        "id": "LnsztCIG0aIm"
      },
      "source": [
        "## Basic Operations - numpy 와 동일"
      ]
    },
    {
      "cell_type": "code",
      "execution_count": 55,
      "metadata": {
        "colab": {
          "base_uri": "https://localhost:8080/"
        },
        "id": "kfjfj9Ak0aIm",
        "outputId": "23020b43-5005-4a73-b59b-c98a27492602"
      },
      "outputs": [
        {
          "output_type": "execute_result",
          "data": {
            "text/plain": [
              "tensor([1., 1.])"
            ]
          },
          "metadata": {},
          "execution_count": 55
        }
      ],
      "source": [
        "# element-wise 덧셈, 뺄셈 \n",
        "u = torch.tensor([1.0, 0.0])\n",
        "v = torch.tensor([0.0, 1.0])\n",
        "z = u + v\n",
        "z"
      ]
    },
    {
      "cell_type": "code",
      "execution_count": 56,
      "metadata": {
        "colab": {
          "base_uri": "https://localhost:8080/"
        },
        "id": "zhgNRITy0aIn",
        "outputId": "6e7a1783-aa1a-44b6-c267-68e4eec02c0f"
      },
      "outputs": [
        {
          "output_type": "execute_result",
          "data": {
            "text/plain": [
              "tensor([ 1., -1.])"
            ]
          },
          "metadata": {},
          "execution_count": 56
        }
      ],
      "source": [
        "z = u - v\n",
        "z"
      ]
    },
    {
      "cell_type": "code",
      "execution_count": 57,
      "metadata": {
        "colab": {
          "base_uri": "https://localhost:8080/"
        },
        "id": "yuh56pVz0aIn",
        "outputId": "0739feb2-caa8-40f6-affa-f2710559abc5"
      },
      "outputs": [
        {
          "output_type": "execute_result",
          "data": {
            "text/plain": [
              "tensor([3, 4])"
            ]
          },
          "metadata": {},
          "execution_count": 57
        }
      ],
      "source": [
        "# element-wise 곱셈\n",
        "u = torch.tensor([1, 2])\n",
        "v = torch.tensor([3, 2])\n",
        "z = u * v\n",
        "z"
      ]
    },
    {
      "cell_type": "code",
      "execution_count": 58,
      "metadata": {
        "colab": {
          "base_uri": "https://localhost:8080/"
        },
        "id": "vjapsSQr0aIn",
        "outputId": "44fba59a-0a0a-4b89-beaf-9b12e917e435"
      },
      "outputs": [
        {
          "output_type": "execute_result",
          "data": {
            "text/plain": [
              "tensor([2, 4])"
            ]
          },
          "metadata": {},
          "execution_count": 58
        }
      ],
      "source": [
        "# 스칼라 곱\n",
        "y = torch.tensor([1, 2])\n",
        "z = 2 * y\n",
        "z"
      ]
    },
    {
      "cell_type": "code",
      "execution_count": 59,
      "metadata": {
        "colab": {
          "base_uri": "https://localhost:8080/"
        },
        "id": "9lvO5K-D0aIo",
        "outputId": "b4879317-c557-44d1-afca-b8faf0935bc4"
      },
      "outputs": [
        {
          "output_type": "execute_result",
          "data": {
            "text/plain": [
              "tensor(5)"
            ]
          },
          "metadata": {},
          "execution_count": 59
        }
      ],
      "source": [
        "# dot product\n",
        "u = torch.tensor([1, 2])\n",
        "v = torch.tensor([3, 1])\n",
        "result = torch.dot(u, v)\n",
        "result"
      ]
    },
    {
      "cell_type": "markdown",
      "metadata": {
        "id": "Wgub6XlE0aIo"
      },
      "source": [
        "## 기타"
      ]
    },
    {
      "cell_type": "code",
      "execution_count": 60,
      "metadata": {
        "colab": {
          "base_uri": "https://localhost:8080/"
        },
        "id": "daHe6BSz0aIo",
        "outputId": "0a5c49ef-4373-4b7e-c4c5-3859b5655f78"
      },
      "outputs": [
        {
          "output_type": "execute_result",
          "data": {
            "text/plain": [
              "tensor([2, 3, 4, 0])"
            ]
          },
          "metadata": {},
          "execution_count": 60
        }
      ],
      "source": [
        "# broadcasting\n",
        "u = torch.tensor([1, 2, 3, -1])\n",
        "z = u + 1          \n",
        "z"
      ]
    },
    {
      "cell_type": "code",
      "execution_count": 61,
      "metadata": {
        "colab": {
          "base_uri": "https://localhost:8080/"
        },
        "id": "YHnjKW0y0aIp",
        "outputId": "8a0108bd-ee2d-4686-f4c6-eda74ca38394"
      },
      "outputs": [
        {
          "output_type": "execute_result",
          "data": {
            "text/plain": [
              "(tensor(2.2000), tensor(5.), tensor(2.7749))"
            ]
          },
          "metadata": {},
          "execution_count": 61
        }
      ],
      "source": [
        "# mean, max, Standard Deviation\n",
        "a = torch.tensor([1, -2, 3, 4, 5], dtype=torch.float32)\n",
        "\n",
        "a.mean(), a.max(), a.std()"
      ]
    },
    {
      "cell_type": "markdown",
      "metadata": {
        "id": "S02sWh930aIq"
      },
      "source": [
        "## torch.linspace 와 np.linspace 비교"
      ]
    },
    {
      "cell_type": "code",
      "execution_count": 62,
      "metadata": {
        "colab": {
          "base_uri": "https://localhost:8080/"
        },
        "id": "5aRBgP6_0aIq",
        "outputId": "5c7d657c-2f48-47b9-d994-23f34df716a0"
      },
      "outputs": [
        {
          "output_type": "execute_result",
          "data": {
            "text/plain": [
              "array([-2., -1.,  0.,  1.,  2.])"
            ]
          },
          "metadata": {},
          "execution_count": 62
        }
      ],
      "source": [
        "np_linspace = np.linspace(-2, 2, 5)\n",
        "np_linspace"
      ]
    },
    {
      "cell_type": "code",
      "execution_count": 63,
      "metadata": {
        "colab": {
          "base_uri": "https://localhost:8080/"
        },
        "id": "SMJi0dDX0aIq",
        "outputId": "f041dd4a-af1a-4cb9-972a-0fd492d942d6"
      },
      "outputs": [
        {
          "output_type": "execute_result",
          "data": {
            "text/plain": [
              "tensor([-2., -1.,  0.,  1.,  2.])"
            ]
          },
          "metadata": {},
          "execution_count": 63
        }
      ],
      "source": [
        "torch_linspace = torch.linspace(-2, 2, 5)\n",
        "torch_linspace"
      ]
    },
    {
      "cell_type": "code",
      "execution_count": 64,
      "metadata": {
        "colab": {
          "base_uri": "https://localhost:8080/"
        },
        "id": "l1-G76qk2Egs",
        "outputId": "88a4a0bb-7367-49ba-9e64-f2814b947cd5"
      },
      "outputs": [
        {
          "output_type": "execute_result",
          "data": {
            "text/plain": [
              "tensor([10.0000, 11.1111, 12.2222, 13.3333, 14.4444, 15.5556, 16.6667, 17.7778,\n",
              "        18.8889, 20.0000])"
            ]
          },
          "metadata": {},
          "execution_count": 64
        }
      ],
      "source": [
        "torch.linspace(10, 20, 10)"
      ]
    },
    {
      "cell_type": "markdown",
      "metadata": {
        "id": "EsCQ_2FD0aIr"
      },
      "source": [
        "## torch.arange 와 np.arange 비교"
      ]
    },
    {
      "cell_type": "code",
      "execution_count": 65,
      "metadata": {
        "colab": {
          "base_uri": "https://localhost:8080/"
        },
        "id": "FUcyApr2C8zP",
        "outputId": "98fdd265-e18d-42d2-ac89-1e276b743b70"
      },
      "outputs": [
        {
          "output_type": "execute_result",
          "data": {
            "text/plain": [
              "array([-100. ,  -99.9,  -99.8, ...,   99.7,   99.8,   99.9])"
            ]
          },
          "metadata": {},
          "execution_count": 65
        }
      ],
      "source": [
        "np.arange(-100, 100, 0.1)"
      ]
    },
    {
      "cell_type": "code",
      "execution_count": 66,
      "metadata": {
        "colab": {
          "base_uri": "https://localhost:8080/"
        },
        "id": "AH86glQMy3AE",
        "outputId": "218c85ed-9784-49d9-d626-3871afbeff4b"
      },
      "outputs": [
        {
          "output_type": "execute_result",
          "data": {
            "text/plain": [
              "tensor([-100.0000,  -99.9000,  -99.8000,  ...,   99.7000,   99.8000,\n",
              "          99.9000])"
            ]
          },
          "metadata": {},
          "execution_count": 66
        }
      ],
      "source": [
        "torch.arange(-100, 100, 0.1)"
      ]
    },
    {
      "cell_type": "markdown",
      "metadata": {
        "id": "2f9PE9hp0aIs"
      },
      "source": [
        "## 2D Tensor Operation"
      ]
    },
    {
      "cell_type": "code",
      "execution_count": 67,
      "metadata": {
        "colab": {
          "base_uri": "https://localhost:8080/"
        },
        "id": "IGL5sv7U0aIs",
        "outputId": "19eb85ea-ff0d-4c55-df5b-723fe2686cf7"
      },
      "outputs": [
        {
          "output_type": "execute_result",
          "data": {
            "text/plain": [
              "tensor([[11, 12, 13],\n",
              "        [21, 22, 23],\n",
              "        [31, 32, 33],\n",
              "        [41, 42, 43]])"
            ]
          },
          "metadata": {},
          "execution_count": 67
        }
      ],
      "source": [
        "_2d_tensor = torch.tensor([[11, 12, 13], [21, 22, 23], [31, 32, 33], [41, 42, 43]])\n",
        "_2d_tensor"
      ]
    },
    {
      "cell_type": "markdown",
      "metadata": {
        "id": "z_nDsdhp0aIs"
      },
      "source": [
        "- ndimension  \n",
        "- shape  \n",
        "- size()  \n",
        "- numel (number of elements)"
      ]
    },
    {
      "cell_type": "code",
      "execution_count": 68,
      "metadata": {
        "colab": {
          "base_uri": "https://localhost:8080/"
        },
        "id": "jF4c_t1S0aIs",
        "outputId": "624dca31-fd92-4b52-dd16-1493778d0d20"
      },
      "outputs": [
        {
          "output_type": "stream",
          "name": "stdout",
          "text": [
            "tensor([[11, 12, 13],\n",
            "        [21, 22, 23],\n",
            "        [31, 32, 33],\n",
            "        [41, 42, 43]])\n",
            "2\n",
            "torch.Size([4, 3])\n",
            "torch.Size([4, 3])\n",
            "12\n"
          ]
        }
      ],
      "source": [
        "print(_2d_tensor)\n",
        "print(_2d_tensor.ndimension())\n",
        "print(_2d_tensor.shape)\n",
        "print(_2d_tensor.size())\n",
        "print(_2d_tensor.numel())"
      ]
    },
    {
      "cell_type": "markdown",
      "metadata": {
        "id": "jXb9VIZS0aIu"
      },
      "source": [
        "## matrix 간의 연산"
      ]
    },
    {
      "cell_type": "code",
      "execution_count": 69,
      "metadata": {
        "colab": {
          "base_uri": "https://localhost:8080/"
        },
        "id": "JxiBKYnF0aIu",
        "outputId": "52b6df0a-7389-436f-b1ba-559c02feecd7"
      },
      "outputs": [
        {
          "output_type": "stream",
          "name": "stdout",
          "text": [
            "tensor([[1, 0],\n",
            "        [0, 1]])\n",
            "tensor([[2, 1],\n",
            "        [1, 2]])\n"
          ]
        }
      ],
      "source": [
        "x = torch.tensor([[1, 0], [0, 1]])\n",
        "y = torch.tensor([[2, 1], [1, 2]])\n",
        "print(x)\n",
        "print(y)"
      ]
    },
    {
      "cell_type": "markdown",
      "metadata": {
        "id": "5EbqEss80aIu"
      },
      "source": [
        "- element-wise 연산"
      ]
    },
    {
      "cell_type": "code",
      "execution_count": 70,
      "metadata": {
        "colab": {
          "base_uri": "https://localhost:8080/"
        },
        "id": "yvEPmpxg0aIv",
        "outputId": "288aac7d-870c-4d08-ae6e-da6fe6f34442"
      },
      "outputs": [
        {
          "output_type": "execute_result",
          "data": {
            "text/plain": [
              "tensor([[2, 0],\n",
              "        [0, 2]])"
            ]
          },
          "metadata": {},
          "execution_count": 70
        }
      ],
      "source": [
        "x * y"
      ]
    },
    {
      "cell_type": "markdown",
      "metadata": {
        "id": "O2zjsgjO0aIv"
      },
      "source": [
        "## matrix multiplication"
      ]
    },
    {
      "cell_type": "code",
      "execution_count": 72,
      "metadata": {
        "colab": {
          "base_uri": "https://localhost:8080/"
        },
        "id": "xAvkasnQ0aIv",
        "outputId": "2b40fdff-53c9-4bc1-cec9-38722554d97f"
      },
      "outputs": [
        {
          "output_type": "stream",
          "name": "stdout",
          "text": [
            "tensor([[0, 1, 1],\n",
            "        [1, 0, 1]])\n",
            "tensor([[ 1,  1],\n",
            "        [ 1,  1],\n",
            "        [-1,  1]])\n"
          ]
        }
      ],
      "source": [
        "x = torch.tensor([[0, 1, 1], [1, 0, 1]])\n",
        "y = torch.tensor([[1, 1], [1, 1], [-1, 1]])\n",
        "\n",
        "print(x)\n",
        "print(y)"
      ]
    },
    {
      "cell_type": "code",
      "execution_count": 73,
      "metadata": {
        "colab": {
          "base_uri": "https://localhost:8080/"
        },
        "id": "pb7FYsui0aIv",
        "outputId": "e564268c-2818-4252-fe55-154bd68b3b8f"
      },
      "outputs": [
        {
          "output_type": "execute_result",
          "data": {
            "text/plain": [
              "tensor([[0, 2],\n",
              "        [0, 2]])"
            ]
          },
          "metadata": {},
          "execution_count": 73
        }
      ],
      "source": [
        "torch.mm(x, y)"
      ]
    },
    {
      "cell_type": "code",
      "execution_count": 74,
      "metadata": {
        "colab": {
          "base_uri": "https://localhost:8080/"
        },
        "id": "_CLgHjTufqdJ",
        "outputId": "3731fff9-b4da-48b4-aada-aa11db184a18"
      },
      "outputs": [
        {
          "output_type": "execute_result",
          "data": {
            "text/plain": [
              "array([[0, 2],\n",
              "       [0, 2]])"
            ]
          },
          "metadata": {},
          "execution_count": 74
        }
      ],
      "source": [
        "np.matmul(x.numpy(), y.numpy())"
      ]
    },
    {
      "cell_type": "markdown",
      "metadata": {
        "id": "rWCAskEP0aIw"
      },
      "source": [
        "### Concatenation\n",
        "\n",
        "- default - first axis(row-wise)로 concatenate\n",
        "- column-wise로 concatenate 하려면 axis=1 로 지정"
      ]
    },
    {
      "cell_type": "code",
      "execution_count": 75,
      "metadata": {
        "colab": {
          "base_uri": "https://localhost:8080/"
        },
        "id": "nKl42FY2zqGZ",
        "outputId": "9cc2df91-fb37-4fd3-83ce-a125a7a39caf"
      },
      "outputs": [
        {
          "output_type": "stream",
          "name": "stdout",
          "text": [
            "tensor([[1, 2, 3],\n",
            "        [4, 5, 6]])\n",
            "tensor([[ 7,  8,  9],\n",
            "        [10, 11, 12]])\n"
          ]
        }
      ],
      "source": [
        "x_1 = torch.tensor([[1, 2, 3], [4, 5, 6]])\n",
        "x_2 = torch.tensor([[7, 8, 9], [10, 11, 12]])\n",
        "print(x_1)\n",
        "print(x_2)"
      ]
    },
    {
      "cell_type": "code",
      "execution_count": 76,
      "metadata": {
        "colab": {
          "base_uri": "https://localhost:8080/"
        },
        "id": "AFRORrYn0aIw",
        "outputId": "c4bad700-9c63-47d6-a69c-6e70efe69f8a"
      },
      "outputs": [
        {
          "output_type": "execute_result",
          "data": {
            "text/plain": [
              "tensor([[ 1,  2,  3],\n",
              "        [ 4,  5,  6],\n",
              "        [ 7,  8,  9],\n",
              "        [10, 11, 12]])"
            ]
          },
          "metadata": {},
          "execution_count": 76
        }
      ],
      "source": [
        "torch.cat([x_1, x_2])"
      ]
    },
    {
      "cell_type": "code",
      "execution_count": 77,
      "metadata": {
        "colab": {
          "base_uri": "https://localhost:8080/"
        },
        "id": "M07wU-D90aIw",
        "outputId": "a7a5523b-6b42-403e-d42f-7fffa693746c"
      },
      "outputs": [
        {
          "output_type": "execute_result",
          "data": {
            "text/plain": [
              "tensor([[ 1,  2,  3,  7,  8,  9],\n",
              "        [ 4,  5,  6, 10, 11, 12]])"
            ]
          },
          "metadata": {},
          "execution_count": 77
        }
      ],
      "source": [
        "torch.cat([x_1, x_2], axis=1)"
      ]
    },
    {
      "cell_type": "markdown",
      "metadata": {
        "id": "rId3CNLU0aIx"
      },
      "source": [
        "### torch.sum, torch.max, torch.min, torch.argmax, torch.argmin\n",
        "\n",
        "- torch.sum(input, dim, keepdim=False, dtype=None) → Tensor  \n",
        "주어진 차원 dim에서 입력 텐서의 각 행의 합(max, min)을 반환합니다.\n",
        "\n",
        "- dim 을 지정한 경우, 지정된 dim을 축소하는 것입니다. 따라서 dim 0(행)을 접으면 하나의 행이 됩니다(열 단위로 합산)."
      ]
    },
    {
      "cell_type": "code",
      "execution_count": 78,
      "metadata": {
        "colab": {
          "base_uri": "https://localhost:8080/"
        },
        "id": "hDN0yJwK2IfD",
        "outputId": "4247f711-9289-4e8f-df99-448d652216fe"
      },
      "outputs": [
        {
          "output_type": "execute_result",
          "data": {
            "text/plain": [
              "torch.Size([2, 3])"
            ]
          },
          "metadata": {},
          "execution_count": 78
        }
      ],
      "source": [
        "x = torch.tensor([\n",
        "     [1, 2, 3],\n",
        "     [4, 5, 6]\n",
        "   ])\n",
        "x.shape"
      ]
    },
    {
      "cell_type": "code",
      "execution_count": 79,
      "metadata": {
        "colab": {
          "base_uri": "https://localhost:8080/"
        },
        "id": "UW7qLVI82TVz",
        "outputId": "66b5ced6-497a-4d8d-c9dc-e3e9c7876d69"
      },
      "outputs": [
        {
          "output_type": "execute_result",
          "data": {
            "text/plain": [
              "tensor(21)"
            ]
          },
          "metadata": {},
          "execution_count": 79
        }
      ],
      "source": [
        "torch.sum(x)"
      ]
    },
    {
      "cell_type": "code",
      "execution_count": 80,
      "metadata": {
        "colab": {
          "base_uri": "https://localhost:8080/"
        },
        "id": "jqe8R1Qx2TPP",
        "outputId": "4541e6f9-d156-4d8c-e99b-798d1cd1600b"
      },
      "outputs": [
        {
          "output_type": "execute_result",
          "data": {
            "text/plain": [
              "tensor([5, 7, 9])"
            ]
          },
          "metadata": {},
          "execution_count": 80
        }
      ],
      "source": [
        "torch.sum(x, dim=0)"
      ]
    },
    {
      "cell_type": "code",
      "execution_count": 81,
      "metadata": {
        "colab": {
          "base_uri": "https://localhost:8080/"
        },
        "id": "8HwxCj4i0aIy",
        "outputId": "e097645c-4010-4282-c671-70a4ad09566b"
      },
      "outputs": [
        {
          "output_type": "execute_result",
          "data": {
            "text/plain": [
              "tensor([ 6, 15])"
            ]
          },
          "metadata": {},
          "execution_count": 81
        }
      ],
      "source": [
        "torch.sum(x, dim=1)"
      ]
    },
    {
      "cell_type": "code",
      "source": [
        "torch.max(x, axis=0)"
      ],
      "metadata": {
        "colab": {
          "base_uri": "https://localhost:8080/"
        },
        "id": "jLKx8xLnOEcq",
        "outputId": "8cb093aa-b2eb-4e7b-bcf9-cb34b7f1fb0e"
      },
      "execution_count": 89,
      "outputs": [
        {
          "output_type": "execute_result",
          "data": {
            "text/plain": [
              "torch.return_types.max(\n",
              "values=tensor([4, 5, 6]),\n",
              "indices=tensor([1, 1, 1]))"
            ]
          },
          "metadata": {},
          "execution_count": 89
        }
      ]
    },
    {
      "cell_type": "code",
      "source": [
        "torch.min(x, axis=0)"
      ],
      "metadata": {
        "colab": {
          "base_uri": "https://localhost:8080/"
        },
        "id": "II45ho6wOXSG",
        "outputId": "5373f721-9962-4b0f-8f5d-f40eb27daa62"
      },
      "execution_count": 91,
      "outputs": [
        {
          "output_type": "execute_result",
          "data": {
            "text/plain": [
              "torch.return_types.min(\n",
              "values=tensor([1, 2, 3]),\n",
              "indices=tensor([0, 0, 0]))"
            ]
          },
          "metadata": {},
          "execution_count": 91
        }
      ]
    },
    {
      "cell_type": "code",
      "source": [
        "torch.max(x, axis=1)"
      ],
      "metadata": {
        "colab": {
          "base_uri": "https://localhost:8080/"
        },
        "id": "XCauiE8FOnsq",
        "outputId": "45ec8cd5-48f4-436c-e884-a74898f5c5d2"
      },
      "execution_count": 93,
      "outputs": [
        {
          "output_type": "execute_result",
          "data": {
            "text/plain": [
              "torch.return_types.max(\n",
              "values=tensor([3, 6]),\n",
              "indices=tensor([2, 2]))"
            ]
          },
          "metadata": {},
          "execution_count": 93
        }
      ]
    },
    {
      "cell_type": "code",
      "source": [
        "torch.min(x, axis=1)"
      ],
      "metadata": {
        "colab": {
          "base_uri": "https://localhost:8080/"
        },
        "id": "rFIwY140OqRB",
        "outputId": "ff002819-8fbe-4b16-e1c0-8f19ebe8c20b"
      },
      "execution_count": 94,
      "outputs": [
        {
          "output_type": "execute_result",
          "data": {
            "text/plain": [
              "torch.return_types.min(\n",
              "values=tensor([1, 4]),\n",
              "indices=tensor([0, 0]))"
            ]
          },
          "metadata": {},
          "execution_count": 94
        }
      ]
    },
    {
      "cell_type": "code",
      "execution_count": 95,
      "metadata": {
        "colab": {
          "base_uri": "https://localhost:8080/"
        },
        "id": "nXjMNMg-0aIy",
        "outputId": "4cbe94a3-fe1a-4029-a097-70228816767c"
      },
      "outputs": [
        {
          "output_type": "execute_result",
          "data": {
            "text/plain": [
              "(tensor(5), tensor(0))"
            ]
          },
          "metadata": {},
          "execution_count": 95
        }
      ],
      "source": [
        "torch.argmax(x), torch.argmin(x)"
      ]
    },
    {
      "cell_type": "code",
      "execution_count": 96,
      "metadata": {
        "colab": {
          "base_uri": "https://localhost:8080/"
        },
        "id": "M_PL7lmN5JKb",
        "outputId": "767563e4-3a9d-412e-a59a-2265fdc1495e"
      },
      "outputs": [
        {
          "output_type": "execute_result",
          "data": {
            "text/plain": [
              "(tensor([1, 1, 1]), tensor([0, 0, 0]))"
            ]
          },
          "metadata": {},
          "execution_count": 96
        }
      ],
      "source": [
        "torch.argmax(x, axis=0), torch.argmin(x, axis=0)"
      ]
    },
    {
      "cell_type": "code",
      "execution_count": 97,
      "metadata": {
        "colab": {
          "base_uri": "https://localhost:8080/"
        },
        "id": "synk2elK0aIz",
        "outputId": "b99fb329-6681-493b-9299-6902f0c1c457"
      },
      "outputs": [
        {
          "output_type": "execute_result",
          "data": {
            "text/plain": [
              "(tensor([2, 2]), tensor([0, 0]))"
            ]
          },
          "metadata": {},
          "execution_count": 97
        }
      ],
      "source": [
        "torch.argmax(x, axis=1), torch.argmin(x, axis=1)"
      ]
    },
    {
      "cell_type": "markdown",
      "metadata": {
        "id": "O_7QZDgU0aIz"
      },
      "source": [
        "## TORCH.AUTOGRAD를 이용한 자동 미분\n",
        "\n",
        "- autograd 패키지는 Tensor의 모든 연산에 대해 자동 미분을 제공   \n",
        "\n",
        "- 신경망을 훈련할 때 가장 자주 사용되는 알고리즘은 역전파이다. 이 알고리즘에서 매개 변수 (모델 가중치)는 주어진 매개 변수에 대한 손실 함수의 기울기에 따라 조정된다.  \n",
        "\n",
        "- 이러한 그래디언트를 계산하기 위해 PyTorch에는 torch.autograd라는 내장 미분 엔진이 있다.\n",
        "\n",
        "- ``.requires_grad`` 속성을 True 로 설정하면, 그 tensor에서 이뤄진 모든 연산들을 추적(track)하기 시작  \n",
        "\n",
        "- 계산이 완료된 후 ``.backward()`` 를 호출하여 모든 변화도(gradient)를 자동으로 계산  \n",
        "\n",
        "- 이 Tensor의 변화도는 ``.grad`` 속성에 누적  \n",
        "\n",
        "- Tensor가 기록을 추적하는 것을 중단하게 하려면, ``.detach()`` 를 호출하여 연산 기록으로부터 분리(detach)하여 이후 연산들이 추적되는 것을 방지한다.\n",
        "\n",
        "- 도함수를 계산하기 위해서는 Tensor 의 ``.backward()`` 를 호출"
      ]
    },
    {
      "cell_type": "code",
      "execution_count": 98,
      "metadata": {
        "colab": {
          "base_uri": "https://localhost:8080/"
        },
        "id": "K_j214gH0aIz",
        "outputId": "4b31d57f-3378-4428-de6d-7073b77fa256"
      },
      "outputs": [
        {
          "output_type": "execute_result",
          "data": {
            "text/plain": [
              "tensor(2., requires_grad=True)"
            ]
          },
          "metadata": {},
          "execution_count": 98
        }
      ],
      "source": [
        "x = torch.tensor(2.0, requires_grad=True)\n",
        "x"
      ]
    },
    {
      "cell_type": "code",
      "execution_count": 99,
      "metadata": {
        "colab": {
          "base_uri": "https://localhost:8080/"
        },
        "id": "KHQ-Cio40aIz",
        "outputId": "ffc839ff-0f5b-4f9d-936b-01d5c026143c"
      },
      "outputs": [
        {
          "output_type": "execute_result",
          "data": {
            "text/plain": [
              "tensor(4., grad_fn=<PowBackward0>)"
            ]
          },
          "metadata": {},
          "execution_count": 99
        }
      ],
      "source": [
        "y = x ** 2\n",
        "y"
      ]
    },
    {
      "cell_type": "markdown",
      "metadata": {
        "id": "iYd4NfSL0aI0"
      },
      "source": [
        "y 를 x 에 대하여 미분  \n",
        "$$y(x)=x^2$$ \n",
        "\n",
        "$$\\frac{dy(x=2)}{dx}=2x=4 \\rightarrow {y.backward()}$$  "
      ]
    },
    {
      "cell_type": "code",
      "execution_count": 100,
      "metadata": {
        "colab": {
          "base_uri": "https://localhost:8080/"
        },
        "id": "Zwsnd91k0aI0",
        "outputId": "824c1aec-55ec-4ef1-f6bf-93c5408dbee6"
      },
      "outputs": [
        {
          "output_type": "execute_result",
          "data": {
            "text/plain": [
              "tensor(4.)"
            ]
          },
          "metadata": {},
          "execution_count": 100
        }
      ],
      "source": [
        "y.backward()\n",
        "\n",
        "x.grad"
      ]
    },
    {
      "cell_type": "markdown",
      "metadata": {
        "id": "5XAK-OhP0aI0"
      },
      "source": [
        "## 편미분 \n",
        "$$f(u, v) = uv + u^2$$\n",
        "\n",
        "$$\\frac{\\partial{f(u, v)}}{\\partial {u}}=v+2u$$\n",
        "$$\\frac{\\partial{f(u, v)}}{\\partial {v}}=u$$"
      ]
    },
    {
      "cell_type": "code",
      "execution_count": 101,
      "metadata": {
        "colab": {
          "base_uri": "https://localhost:8080/"
        },
        "id": "U2BhlzdZ0aI1",
        "outputId": "153e4ee2-8f57-435f-b1f2-68110b62ebd1"
      },
      "outputs": [
        {
          "output_type": "execute_result",
          "data": {
            "text/plain": [
              "tensor(3., grad_fn=<AddBackward0>)"
            ]
          },
          "metadata": {},
          "execution_count": 101
        }
      ],
      "source": [
        "u = torch.tensor(1.0, requires_grad=True)\n",
        "v = torch.tensor(2.0, requires_grad=True)\n",
        "\n",
        "f = u * v + u ** 2\n",
        "f"
      ]
    },
    {
      "cell_type": "code",
      "execution_count": 102,
      "metadata": {
        "id": "YI_Wh6of0aI1"
      },
      "outputs": [],
      "source": [
        "f.backward()"
      ]
    },
    {
      "cell_type": "code",
      "execution_count": 103,
      "metadata": {
        "colab": {
          "base_uri": "https://localhost:8080/"
        },
        "id": "yg2eiDc-0aI1",
        "outputId": "32001f43-ffb5-4013-a6d1-3d9986c042d0"
      },
      "outputs": [
        {
          "output_type": "stream",
          "name": "stdout",
          "text": [
            "tensor(4.)\n",
            "tensor(1.)\n"
          ]
        }
      ],
      "source": [
        "print(u.grad)\n",
        "print(v.grad)"
      ]
    },
    {
      "cell_type": "markdown",
      "metadata": {
        "id": "DLlWFeT-0aI1"
      },
      "source": [
        "## backpropagation"
      ]
    },
    {
      "cell_type": "code",
      "execution_count": 104,
      "metadata": {
        "colab": {
          "base_uri": "https://localhost:8080/"
        },
        "id": "tc5xdMb20aI2",
        "outputId": "a0ddd605-4c66-49c0-b19e-26f851a0715a"
      },
      "outputs": [
        {
          "output_type": "execute_result",
          "data": {
            "text/plain": [
              "tensor(0.6071, grad_fn=<BinaryCrossEntropyWithLogitsBackward0>)"
            ]
          },
          "metadata": {},
          "execution_count": 104
        }
      ],
      "source": [
        "import torch\n",
        "\n",
        "x = torch.ones(5)    # input tensor\n",
        "y = torch.zeros(3)   # expected output\n",
        "\n",
        "w = torch.randn(5, 3, requires_grad=True)\n",
        "b = torch.randn(3, requires_grad=True)\n",
        "\n",
        "z = torch.matmul(x, w)+b\n",
        "\n",
        "loss = torch.nn.functional.binary_cross_entropy_with_logits(z, y)\n",
        "loss"
      ]
    },
    {
      "cell_type": "markdown",
      "metadata": {
        "id": "JqjobwRj0aI2"
      },
      "source": [
        "### Gradient 계산 \n",
        "\n",
        "- 신경망에서 매개변수의 가중치를 최적화하려면 매개변수에 대한 손실 함수의 미분을 계산해야한다. 즉, x 및 y 의 일부 고정 값 아래에서 $\\frac{\\partial loss}{\\partial w}$가 필요. 이러한 미분을 계산하려면 loss.backward ()를 호출 한 다음 w.grad 및 b.grad에서 값을 구한다."
      ]
    },
    {
      "cell_type": "code",
      "execution_count": 105,
      "metadata": {
        "colab": {
          "base_uri": "https://localhost:8080/"
        },
        "id": "morXePXY0aI2",
        "outputId": "70c309c3-cbf9-496e-c633-4ab501283662"
      },
      "outputs": [
        {
          "output_type": "stream",
          "name": "stdout",
          "text": [
            "w 의 기울기 =  tensor([[0.1951, 0.1602, 0.0830],\n",
            "        [0.1951, 0.1602, 0.0830],\n",
            "        [0.1951, 0.1602, 0.0830],\n",
            "        [0.1951, 0.1602, 0.0830],\n",
            "        [0.1951, 0.1602, 0.0830]])\n",
            "b 의 기울기 =  tensor([0.1951, 0.1602, 0.0830])\n"
          ]
        }
      ],
      "source": [
        "loss.backward()\n",
        "print(\"w 의 기울기 = \", w.grad)\n",
        "print(\"b 의 기울기 = \", b.grad)"
      ]
    },
    {
      "cell_type": "markdown",
      "metadata": {
        "id": "xY2ZFRFB0aI3"
      },
      "source": [
        "### 그라디언트 추적 비활성화\n",
        "\n",
        "기본적으로 requires_grad=True 인 모든 텐서는 계산 기록을 추적하고 기울기 계산을 지원한다. 이를 수행 할 필요가 없는 경우, 즉 네트워크를 통해 순방향 계산만 수행하려는 경우 계산 코드를 torch.no_grad() 블록으로 둘러 싸서 계산 추적을 중지할 수 있다.\n",
        "\n",
        "그래디언트 추적을 비활성화 해야하는 경우는 다음과 같다.  \n",
        "\n",
        "    - pre-train 된 network 를 fine tuning 하는 경우  \n",
        "    - 기울기를 추적하지 않는 텐서에 대한 계산이 더 효율적이기 때문에 순방향 패스 만 수행할 때 계산 속도를 높인다."
      ]
    },
    {
      "cell_type": "code",
      "execution_count": 106,
      "metadata": {
        "colab": {
          "base_uri": "https://localhost:8080/"
        },
        "id": "UDfIBKJV0aI3",
        "outputId": "d31d0a9f-8a96-42a2-cd22-c3970c990823"
      },
      "outputs": [
        {
          "output_type": "stream",
          "name": "stdout",
          "text": [
            "True\n",
            "False\n"
          ]
        }
      ],
      "source": [
        "z = torch.matmul(x, w) + b\n",
        "\n",
        "print(z.requires_grad)\n",
        "\n",
        "with torch.no_grad():\n",
        "    z = torch.matmul(x, w)+b\n",
        "    \n",
        "print(z.requires_grad)"
      ]
    },
    {
      "cell_type": "markdown",
      "metadata": {
        "id": "H463KHDp0aI3"
      },
      "source": [
        "- 동일한 결과를 얻는 또 다른 방법은 텐서에서 detach() 메서드를 사용하는 것"
      ]
    },
    {
      "cell_type": "code",
      "execution_count": 107,
      "metadata": {
        "colab": {
          "base_uri": "https://localhost:8080/"
        },
        "id": "gDJcPSO50aI3",
        "outputId": "955d5c86-04d3-4e0b-b95d-c749f7dbd9f7"
      },
      "outputs": [
        {
          "output_type": "stream",
          "name": "stdout",
          "text": [
            "False\n"
          ]
        }
      ],
      "source": [
        "z = torch.matmul(x, w)+b\n",
        "z_det = z.detach()\n",
        "\n",
        "print(z_det.requires_grad)"
      ]
    },
    {
      "cell_type": "markdown",
      "metadata": {
        "id": "7gLJRcLv0aI4"
      },
      "source": [
        "### CUDA Tensors\n",
        "\n",
        "- .to 메소드를 사용하여 Tensor를 어떠한 장치로도 옮길 수 있습니다."
      ]
    },
    {
      "cell_type": "code",
      "execution_count": 108,
      "metadata": {
        "colab": {
          "base_uri": "https://localhost:8080/"
        },
        "id": "NT7rkPYd0aI4",
        "outputId": "eb371220-97ed-4c1e-e494-576a2a6a5e89"
      },
      "outputs": [
        {
          "output_type": "execute_result",
          "data": {
            "text/plain": [
              "device(type='cuda', index=0)"
            ]
          },
          "metadata": {},
          "execution_count": 108
        }
      ],
      "source": [
        "device = torch.device(\"cuda:0\" if torch.cuda.is_available() else \"cpu\")\n",
        "device"
      ]
    },
    {
      "cell_type": "code",
      "execution_count": 109,
      "metadata": {
        "colab": {
          "base_uri": "https://localhost:8080/"
        },
        "id": "bRdrlhTd0aI4",
        "outputId": "60b4db10-5a81-4052-845f-1dedbbc1ebd6"
      },
      "outputs": [
        {
          "output_type": "execute_result",
          "data": {
            "text/plain": [
              "tensor([[1., 1.],\n",
              "        [1., 1.]])"
            ]
          },
          "metadata": {},
          "execution_count": 109
        }
      ],
      "source": [
        "x = torch.ones(2, 2)\n",
        "x"
      ]
    },
    {
      "cell_type": "code",
      "execution_count": 110,
      "metadata": {
        "colab": {
          "base_uri": "https://localhost:8080/"
        },
        "id": "cMI-8aIb0aI5",
        "outputId": "c544cc94-a0b7-4c0a-b4e8-1deb861c8dd6"
      },
      "outputs": [
        {
          "output_type": "execute_result",
          "data": {
            "text/plain": [
              "tensor([[1., 1.],\n",
              "        [1., 1.]], device='cuda:0')"
            ]
          },
          "metadata": {},
          "execution_count": 110
        }
      ],
      "source": [
        "x = x.to(device)\n",
        "x"
      ]
    },
    {
      "cell_type": "code",
      "execution_count": 111,
      "metadata": {
        "colab": {
          "base_uri": "https://localhost:8080/"
        },
        "id": "qH4CPoXq0aI5",
        "outputId": "70e418f6-f01c-4af2-c366-7101761a0abe"
      },
      "outputs": [
        {
          "output_type": "execute_result",
          "data": {
            "text/plain": [
              "tensor([[1., 1., 1.],\n",
              "        [1., 1., 1.]], device='cuda:0')"
            ]
          },
          "metadata": {},
          "execution_count": 111
        }
      ],
      "source": [
        "y = torch.ones((2, 3), device=device)  # GPU 상에 직접적으로 tensor를 생성\n",
        "y"
      ]
    },
    {
      "cell_type": "code",
      "execution_count": null,
      "metadata": {
        "id": "E1h8Frco0aI_"
      },
      "outputs": [],
      "source": []
    }
  ],
  "metadata": {
    "accelerator": "GPU",
    "colab": {
      "provenance": []
    },
    "gpuClass": "standard",
    "kernelspec": {
      "display_name": "Python 3 (ipykernel)",
      "language": "python",
      "name": "python3"
    },
    "language_info": {
      "codemirror_mode": {
        "name": "ipython",
        "version": 3
      },
      "file_extension": ".py",
      "mimetype": "text/x-python",
      "name": "python",
      "nbconvert_exporter": "python",
      "pygments_lexer": "ipython3",
      "version": "3.8.13"
    }
  },
  "nbformat": 4,
  "nbformat_minor": 0
}